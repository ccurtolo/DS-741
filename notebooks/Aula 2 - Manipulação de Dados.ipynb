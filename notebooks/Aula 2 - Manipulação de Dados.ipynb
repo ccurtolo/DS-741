{
 "cells": [
  {
   "cell_type": "markdown",
   "metadata": {},
   "source": [
    "## Aula 2: Manipulação de Dados\n"
   ]
  },
  {
   "cell_type": "code",
   "execution_count": null,
   "metadata": {
    "ExecuteTime": {
     "end_time": "2021-04-06T19:34:41.015382Z",
     "start_time": "2021-04-06T19:34:40.330227Z"
    }
   },
   "outputs": [],
   "source": [
    "import pandas as pd\n",
    "import numpy as np\n",
    "import os\n",
    "%matplotlib inline"
   ]
  },
  {
   "cell_type": "markdown",
   "metadata": {},
   "source": [
    "### Nan Values"
   ]
  },
  {
   "cell_type": "code",
   "execution_count": null,
   "metadata": {
    "ExecuteTime": {
     "end_time": "2021-04-07T00:21:56.632030Z",
     "start_time": "2021-04-07T00:21:56.611487Z"
    },
    "code_folding": []
   },
   "outputs": [],
   "source": [
    "#Drop nan\n"
   ]
  },
  {
   "cell_type": "code",
   "execution_count": null,
   "metadata": {
    "ExecuteTime": {
     "end_time": "2021-04-07T00:21:49.923296Z",
     "start_time": "2021-04-07T00:21:49.908296Z"
    }
   },
   "outputs": [],
   "source": [
    "# dropa linhas que tem valores nan, para dropar colunas, utilizar 'axis=1'\n"
   ]
  },
  {
   "cell_type": "code",
   "execution_count": null,
   "metadata": {
    "ExecuteTime": {
     "end_time": "2021-04-07T00:21:57.376568Z",
     "start_time": "2021-04-07T00:21:57.361564Z"
    },
    "scrolled": false
   },
   "outputs": [],
   "source": [
    "# preencher valores nan\n"
   ]
  },
  {
   "cell_type": "code",
   "execution_count": null,
   "metadata": {
    "ExecuteTime": {
     "end_time": "2021-04-07T00:22:04.230750Z",
     "start_time": "2021-04-07T00:22:04.220748Z"
    }
   },
   "outputs": [],
   "source": [
    "# verifica quais valores sao nulos\n"
   ]
  },
  {
   "cell_type": "code",
   "execution_count": null,
   "metadata": {
    "ExecuteTime": {
     "end_time": "2021-04-07T00:22:49.981874Z",
     "start_time": "2021-04-07T00:22:49.970318Z"
    }
   },
   "outputs": [],
   "source": []
  },
  {
   "cell_type": "markdown",
   "metadata": {},
   "source": [
    "### Covariancia/ Correlação\n",
    "\n",
    "$Cov(x,y) = \\frac{\\sum{(x_i - \\bar{x}) (y_i - \\bar{y})}}{(n - 1)}$\n",
    "\n",
    "$Corr(x,y) = \\frac{Cov(x,y)}{\\sigma_x \\sigma_y}$"
   ]
  },
  {
   "cell_type": "code",
   "execution_count": null,
   "metadata": {
    "ExecuteTime": {
     "end_time": "2021-04-07T00:25:19.675660Z",
     "start_time": "2021-04-07T00:25:19.633660Z"
    }
   },
   "outputs": [],
   "source": [
    "#read tinatic dataset\n"
   ]
  },
  {
   "cell_type": "code",
   "execution_count": null,
   "metadata": {
    "ExecuteTime": {
     "end_time": "2021-04-07T00:25:59.609867Z",
     "start_time": "2021-04-07T00:25:59.588354Z"
    }
   },
   "outputs": [],
   "source": [
    "#covariancia\n"
   ]
  },
  {
   "cell_type": "code",
   "execution_count": null,
   "metadata": {
    "ExecuteTime": {
     "end_time": "2021-04-06T19:53:34.123138Z",
     "start_time": "2021-04-06T19:53:34.097621Z"
    }
   },
   "outputs": [],
   "source": [
    "#correlação\n"
   ]
  },
  {
   "cell_type": "markdown",
   "metadata": {},
   "source": [
    "### Agrupando dados"
   ]
  },
  {
   "cell_type": "code",
   "execution_count": null,
   "metadata": {
    "ExecuteTime": {
     "end_time": "2020-12-04T14:09:31.486086Z",
     "start_time": "2020-12-04T14:09:31.466785Z"
    }
   },
   "outputs": [],
   "source": [
    "# checa o tipo das variáveis\n"
   ]
  },
  {
   "cell_type": "code",
   "execution_count": null,
   "metadata": {
    "ExecuteTime": {
     "end_time": "2021-04-07T00:30:58.214713Z",
     "start_time": "2021-04-07T00:30:58.184196Z"
    },
    "scrolled": true
   },
   "outputs": [],
   "source": [
    "#Os valores por padrão são as medias, para altera-lo para soma utilize o comando aggfunc=np.mean \n",
    "#pivot table\n"
   ]
  },
  {
   "cell_type": "code",
   "execution_count": null,
   "metadata": {
    "ExecuteTime": {
     "end_time": "2021-04-07T00:31:06.384108Z",
     "start_time": "2021-04-07T00:31:06.371818Z"
    }
   },
   "outputs": [],
   "source": [
    "#group by"
   ]
  },
  {
   "cell_type": "code",
   "execution_count": null,
   "metadata": {
    "ExecuteTime": {
     "end_time": "2021-04-07T00:31:07.724163Z",
     "start_time": "2021-04-07T00:31:07.710163Z"
    }
   },
   "outputs": [],
   "source": [
    "#unstack"
   ]
  },
  {
   "cell_type": "code",
   "execution_count": null,
   "metadata": {},
   "outputs": [],
   "source": [
    "#agg"
   ]
  },
  {
   "cell_type": "code",
   "execution_count": null,
   "metadata": {
    "ExecuteTime": {
     "end_time": "2021-04-07T00:34:40.882357Z",
     "start_time": "2021-04-07T00:34:40.875358Z"
    }
   },
   "outputs": [],
   "source": [
    "#explicar args"
   ]
  },
  {
   "cell_type": "markdown",
   "metadata": {},
   "source": [
    "### Metodos"
   ]
  },
  {
   "cell_type": "code",
   "execution_count": null,
   "metadata": {
    "ExecuteTime": {
     "end_time": "2021-04-06T20:10:33.492236Z",
     "start_time": "2021-04-06T20:10:33.453268Z"
    },
    "scrolled": false
   },
   "outputs": [],
   "source": [
    "#descrição"
   ]
  },
  {
   "cell_type": "code",
   "execution_count": null,
   "metadata": {
    "ExecuteTime": {
     "end_time": "2020-12-04T14:09:32.201871Z",
     "start_time": "2020-12-04T14:09:32.175448Z"
    }
   },
   "outputs": [],
   "source": [
    "#Info"
   ]
  },
  {
   "cell_type": "code",
   "execution_count": null,
   "metadata": {
    "ExecuteTime": {
     "end_time": "2020-12-08T22:22:04.179703Z",
     "start_time": "2020-12-08T22:22:04.167066Z"
    }
   },
   "outputs": [],
   "source": [
    "#media"
   ]
  },
  {
   "cell_type": "code",
   "execution_count": null,
   "metadata": {
    "ExecuteTime": {
     "end_time": "2020-12-04T14:09:31.844002Z",
     "start_time": "2020-12-04T14:09:31.831424Z"
    }
   },
   "outputs": [],
   "source": [
    "#desvio padrao"
   ]
  },
  {
   "cell_type": "code",
   "execution_count": null,
   "metadata": {
    "ExecuteTime": {
     "end_time": "2020-12-04T14:09:31.852549Z",
     "start_time": "2020-12-04T14:09:31.845999Z"
    }
   },
   "outputs": [],
   "source": [
    "#moda"
   ]
  },
  {
   "cell_type": "code",
   "execution_count": null,
   "metadata": {
    "ExecuteTime": {
     "end_time": "2020-12-04T14:09:31.861636Z",
     "start_time": "2020-12-04T14:09:31.854548Z"
    }
   },
   "outputs": [],
   "source": [
    "#max"
   ]
  },
  {
   "cell_type": "code",
   "execution_count": null,
   "metadata": {
    "ExecuteTime": {
     "end_time": "2020-12-04T14:09:31.870373Z",
     "start_time": "2020-12-04T14:09:31.862887Z"
    }
   },
   "outputs": [],
   "source": [
    "#min"
   ]
  },
  {
   "cell_type": "code",
   "execution_count": null,
   "metadata": {
    "ExecuteTime": {
     "end_time": "2020-12-08T22:22:42.308848Z",
     "start_time": "2020-12-08T22:22:42.297327Z"
    }
   },
   "outputs": [],
   "source": [
    "#value_counts"
   ]
  },
  {
   "cell_type": "code",
   "execution_count": null,
   "metadata": {
    "ExecuteTime": {
     "end_time": "2021-04-07T00:41:23.342274Z",
     "start_time": "2021-04-07T00:41:23.304860Z"
    }
   },
   "outputs": [],
   "source": [
    "#isin"
   ]
  },
  {
   "cell_type": "markdown",
   "metadata": {},
   "source": [
    "### Problema 1\n",
    "Com base no dataset 'Video_Games_Sales.csv' responda:\n",
    "1. Quantos jogos existem em cada genero?\n",
    "2. Quantos jogos de cada editora receberam nota acima de 9 na avaliação dos usuarios?\n",
    "3. Faça uma tabela que mostre o total vendido por ano por pais/globalmente de cada editora?\n",
    "4. Qual foi jogo mais vendido na união européia? De que ano ele é e qual a editora?\n",
    "5. Quantos % os generos ['Racing', 'Sports', 'Shooter'] representam na base de dados? Obs: a porcertagem deve ser impressa usando 2 casas decimais e o simbolo de %..Ex: 45.13% ..lembrando que 45.127 = 45.13%\n",
    "6. Qual plataforma vendeu menos globalmente? obs: imprimir somente o nome"
   ]
  },
  {
   "cell_type": "code",
   "execution_count": null,
   "metadata": {
    "ExecuteTime": {
     "end_time": "2021-04-07T00:59:03.303421Z",
     "start_time": "2021-04-07T00:59:03.230906Z"
    }
   },
   "outputs": [],
   "source": [
    "df = pd.read_csv('../datasets/Video_Games_Sales.csv')\n",
    "df.head()"
   ]
  },
  {
   "cell_type": "code",
   "execution_count": null,
   "metadata": {},
   "outputs": [],
   "source": []
  },
  {
   "cell_type": "code",
   "execution_count": null,
   "metadata": {},
   "outputs": [],
   "source": []
  },
  {
   "cell_type": "code",
   "execution_count": null,
   "metadata": {},
   "outputs": [],
   "source": []
  },
  {
   "cell_type": "code",
   "execution_count": null,
   "metadata": {},
   "outputs": [],
   "source": []
  },
  {
   "cell_type": "code",
   "execution_count": null,
   "metadata": {},
   "outputs": [],
   "source": []
  },
  {
   "cell_type": "markdown",
   "metadata": {},
   "source": [
    "#### Solução"
   ]
  },
  {
   "cell_type": "markdown",
   "metadata": {
    "ExecuteTime": {
     "end_time": "2021-04-06T20:09:39.005977Z",
     "start_time": "2021-04-06T20:09:39.000978Z"
    }
   },
   "source": [
    "### Problema 2\n",
    "\n",
    "O Dataset do Titanic apresenta 2 Locais de embarque que estão com valores nulos\n",
    "\n",
    "Adote a melhor solução para resolver essas 2 linhas do Dataset"
   ]
  },
  {
   "cell_type": "markdown",
   "metadata": {},
   "source": [
    "#### Solução"
   ]
  },
  {
   "cell_type": "code",
   "execution_count": null,
   "metadata": {},
   "outputs": [],
   "source": []
  },
  {
   "cell_type": "markdown",
   "metadata": {},
   "source": [
    "### Renomeando colunas"
   ]
  },
  {
   "cell_type": "code",
   "execution_count": null,
   "metadata": {
    "ExecuteTime": {
     "end_time": "2020-12-04T14:09:32.717957Z",
     "start_time": "2020-12-04T14:09:32.666249Z"
    },
    "scrolled": true
   },
   "outputs": [],
   "source": []
  },
  {
   "cell_type": "markdown",
   "metadata": {},
   "source": [
    "### Salvar formato csv e xlsx"
   ]
  },
  {
   "cell_type": "code",
   "execution_count": null,
   "metadata": {
    "ExecuteTime": {
     "end_time": "2020-12-04T14:09:32.753904Z",
     "start_time": "2020-12-04T14:09:32.723440Z"
    }
   },
   "outputs": [],
   "source": []
  },
  {
   "cell_type": "markdown",
   "metadata": {},
   "source": [
    "### Problema 3\n",
    "Insira uma coluna ao lado direito do nome do passageiro com o seu título: Ex:\n",
    "Braund, Mr. Owen Harris -> Mr."
   ]
  },
  {
   "cell_type": "markdown",
   "metadata": {},
   "source": [
    "#### Solução"
   ]
  },
  {
   "cell_type": "code",
   "execution_count": null,
   "metadata": {},
   "outputs": [],
   "source": []
  }
 ],
 "metadata": {
  "hide_input": false,
  "kernelspec": {
   "display_name": "Python 3",
   "language": "python",
   "name": "python3"
  },
  "language_info": {
   "codemirror_mode": {
    "name": "ipython",
    "version": 3
   },
   "file_extension": ".py",
   "mimetype": "text/x-python",
   "name": "python",
   "nbconvert_exporter": "python",
   "pygments_lexer": "ipython3",
   "version": "3.8.10"
  },
  "toc": {
   "base_numbering": 1,
   "nav_menu": {},
   "number_sections": true,
   "sideBar": true,
   "skip_h1_title": false,
   "title_cell": "Table of Contents",
   "title_sidebar": "Contents",
   "toc_cell": false,
   "toc_position": {
    "height": "calc(100% - 180px)",
    "left": "10px",
    "top": "150px",
    "width": "247.273px"
   },
   "toc_section_display": true,
   "toc_window_display": true
  }
 },
 "nbformat": 4,
 "nbformat_minor": 2
}
