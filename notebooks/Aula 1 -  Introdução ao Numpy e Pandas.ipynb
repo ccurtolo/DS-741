{
 "cells": [
  {
   "cell_type": "markdown",
   "metadata": {},
   "source": [
    "# Aula 1: Introdução ao Numpy e Pandas"
   ]
  },
  {
   "cell_type": "markdown",
   "metadata": {
    "hide_input": false
   },
   "source": [
    "## Listas"
   ]
  },
  {
   "cell_type": "markdown",
   "metadata": {},
   "source": [
    "### Basics"
   ]
  },
  {
   "cell_type": "code",
   "execution_count": null,
   "metadata": {
    "ExecuteTime": {
     "end_time": "2021-04-01T22:54:09.577145Z",
     "start_time": "2021-04-01T22:54:09.560141Z"
    }
   },
   "outputs": [],
   "source": [
    "#define list\n",
    "list()"
   ]
  },
  {
   "cell_type": "code",
   "execution_count": 8,
   "metadata": {},
   "outputs": [],
   "source": [
    "a = [1, 2, 3, 4, 5, 6]\n",
    "lista = []"
   ]
  },
  {
   "cell_type": "code",
   "execution_count": 9,
   "metadata": {},
   "outputs": [
    {
     "data": {
      "text/plain": [
       "[1, 2, 3, 4, 5, 6]"
      ]
     },
     "execution_count": 9,
     "metadata": {},
     "output_type": "execute_result"
    }
   ],
   "source": [
    "a"
   ]
  },
  {
   "cell_type": "code",
   "execution_count": 12,
   "metadata": {},
   "outputs": [
    {
     "data": {
      "text/plain": [
       "[1]"
      ]
     },
     "execution_count": 12,
     "metadata": {},
     "output_type": "execute_result"
    }
   ],
   "source": [
    "va = list([1])\n",
    "va"
   ]
  },
  {
   "cell_type": "code",
   "execution_count": 14,
   "metadata": {},
   "outputs": [
    {
     "data": {
      "text/plain": [
       "[0, 1, 2, 3, 4]"
      ]
     },
     "execution_count": 14,
     "metadata": {},
     "output_type": "execute_result"
    }
   ],
   "source": [
    "# [0, 5[\n",
    "\n",
    "list(range(0, 5))"
   ]
  },
  {
   "cell_type": "code",
   "execution_count": 15,
   "metadata": {},
   "outputs": [
    {
     "data": {
      "text/plain": [
       "[0, 2, 4]"
      ]
     },
     "execution_count": 15,
     "metadata": {},
     "output_type": "execute_result"
    }
   ],
   "source": [
    "list(range(0, 5, 2))"
   ]
  },
  {
   "cell_type": "code",
   "execution_count": 17,
   "metadata": {
    "ExecuteTime": {
     "end_time": "2021-04-01T22:54:41.376242Z",
     "start_time": "2021-04-01T22:54:41.371239Z"
    }
   },
   "outputs": [],
   "source": [
    "#add new value to the list\n",
    "a.append(7)"
   ]
  },
  {
   "cell_type": "code",
   "execution_count": 18,
   "metadata": {},
   "outputs": [
    {
     "data": {
      "text/plain": [
       "[1, 2, 3, 4, 5, 6, 7]"
      ]
     },
     "execution_count": 18,
     "metadata": {},
     "output_type": "execute_result"
    }
   ],
   "source": [
    "a"
   ]
  },
  {
   "cell_type": "code",
   "execution_count": 19,
   "metadata": {},
   "outputs": [
    {
     "data": {
      "text/plain": [
       "[1, 8, 2, 3, 4, 5, 6, 7]"
      ]
     },
     "execution_count": 19,
     "metadata": {},
     "output_type": "execute_result"
    }
   ],
   "source": [
    "a.insert(1, 8)\n",
    "a"
   ]
  },
  {
   "cell_type": "code",
   "execution_count": 20,
   "metadata": {},
   "outputs": [
    {
     "data": {
      "text/plain": [
       "[1, 2, 3, 4, 5]"
      ]
     },
     "execution_count": 20,
     "metadata": {},
     "output_type": "execute_result"
    }
   ],
   "source": [
    "[1, 2, 3, 4, 5]"
   ]
  },
  {
   "cell_type": "code",
   "execution_count": 21,
   "metadata": {},
   "outputs": [
    {
     "data": {
      "text/plain": [
       "[1, 8, 2, 3, 4, 5, 6, 7]"
      ]
     },
     "execution_count": 21,
     "metadata": {},
     "output_type": "execute_result"
    }
   ],
   "source": [
    "a"
   ]
  },
  {
   "cell_type": "code",
   "execution_count": 24,
   "metadata": {
    "ExecuteTime": {
     "end_time": "2021-04-01T22:54:58.329363Z",
     "start_time": "2021-04-01T22:54:58.318757Z"
    }
   },
   "outputs": [
    {
     "ename": "ValueError",
     "evalue": "list.remove(x): x not in list",
     "output_type": "error",
     "traceback": [
      "\u001b[0;31m---------------------------------------------------------------------------\u001b[0m",
      "\u001b[0;31mValueError\u001b[0m                                Traceback (most recent call last)",
      "\u001b[0;32m<ipython-input-24-3da08a540dd6>\u001b[0m in \u001b[0;36m<module>\u001b[0;34m\u001b[0m\n\u001b[1;32m      1\u001b[0m \u001b[0;31m#delete element from the list\u001b[0m\u001b[0;34m\u001b[0m\u001b[0;34m\u001b[0m\u001b[0;34m\u001b[0m\u001b[0m\n\u001b[0;32m----> 2\u001b[0;31m \u001b[0ma\u001b[0m\u001b[0;34m.\u001b[0m\u001b[0mremove\u001b[0m\u001b[0;34m(\u001b[0m\u001b[0;36m1\u001b[0m\u001b[0;34m)\u001b[0m\u001b[0;34m\u001b[0m\u001b[0;34m\u001b[0m\u001b[0m\n\u001b[0m",
      "\u001b[0;31mValueError\u001b[0m: list.remove(x): x not in list"
     ]
    }
   ],
   "source": [
    "#delete element from the list\n",
    "a.remove(1)"
   ]
  },
  {
   "cell_type": "code",
   "execution_count": 25,
   "metadata": {},
   "outputs": [
    {
     "data": {
      "text/plain": [
       "[8, 2, 3, 4, 5, 6, 7]"
      ]
     },
     "execution_count": 25,
     "metadata": {},
     "output_type": "execute_result"
    }
   ],
   "source": [
    "a"
   ]
  },
  {
   "cell_type": "code",
   "execution_count": 26,
   "metadata": {},
   "outputs": [],
   "source": [
    "del(a[1])"
   ]
  },
  {
   "cell_type": "code",
   "execution_count": 27,
   "metadata": {},
   "outputs": [
    {
     "data": {
      "text/plain": [
       "[8, 3, 4, 5, 6, 7]"
      ]
     },
     "execution_count": 27,
     "metadata": {},
     "output_type": "execute_result"
    }
   ],
   "source": [
    "a"
   ]
  },
  {
   "cell_type": "code",
   "execution_count": 30,
   "metadata": {},
   "outputs": [
    {
     "data": {
      "text/plain": [
       "6"
      ]
     },
     "execution_count": 30,
     "metadata": {},
     "output_type": "execute_result"
    }
   ],
   "source": [
    "a.pop()"
   ]
  },
  {
   "cell_type": "code",
   "execution_count": 32,
   "metadata": {},
   "outputs": [
    {
     "data": {
      "text/plain": [
       "[8, 3, 4, 5]"
      ]
     },
     "execution_count": 32,
     "metadata": {},
     "output_type": "execute_result"
    }
   ],
   "source": [
    "a"
   ]
  },
  {
   "cell_type": "code",
   "execution_count": 33,
   "metadata": {},
   "outputs": [
    {
     "data": {
      "text/plain": [
       "3"
      ]
     },
     "execution_count": 33,
     "metadata": {},
     "output_type": "execute_result"
    }
   ],
   "source": [
    "a.pop(1)"
   ]
  },
  {
   "cell_type": "code",
   "execution_count": 34,
   "metadata": {},
   "outputs": [
    {
     "data": {
      "text/plain": [
       "[8, 4, 5]"
      ]
     },
     "execution_count": 34,
     "metadata": {},
     "output_type": "execute_result"
    }
   ],
   "source": [
    "a"
   ]
  },
  {
   "cell_type": "markdown",
   "metadata": {},
   "source": [
    "### Fila -> First in, First Out\n",
    "\n",
    "### Pilha -> First in, Last out"
   ]
  },
  {
   "cell_type": "code",
   "execution_count": 37,
   "metadata": {},
   "outputs": [
    {
     "data": {
      "text/plain": [
       "[8, 4, 5]"
      ]
     },
     "execution_count": 37,
     "metadata": {},
     "output_type": "execute_result"
    }
   ],
   "source": [
    "a"
   ]
  },
  {
   "cell_type": "code",
   "execution_count": 41,
   "metadata": {
    "ExecuteTime": {
     "end_time": "2021-04-01T22:55:38.420353Z",
     "start_time": "2021-04-01T22:55:38.413355Z"
    }
   },
   "outputs": [
    {
     "data": {
      "text/plain": [
       "2"
      ]
     },
     "execution_count": 41,
     "metadata": {},
     "output_type": "execute_result"
    }
   ],
   "source": [
    "#find element index\n",
    "\n",
    "a.index(5)\n"
   ]
  },
  {
   "cell_type": "code",
   "execution_count": null,
   "metadata": {
    "ExecuteTime": {
     "end_time": "2021-04-01T22:55:57.673338Z",
     "start_time": "2021-04-01T22:55:57.669338Z"
    }
   },
   "outputs": [],
   "source": [
    "#del element using index"
   ]
  },
  {
   "cell_type": "code",
   "execution_count": 46,
   "metadata": {},
   "outputs": [],
   "source": [
    "a = list(range(0, 100, 3))\n",
    "a[0] = 66"
   ]
  },
  {
   "cell_type": "code",
   "execution_count": 47,
   "metadata": {},
   "outputs": [
    {
     "data": {
      "text/plain": [
       "[66,\n",
       " 3,\n",
       " 6,\n",
       " 9,\n",
       " 12,\n",
       " 15,\n",
       " 18,\n",
       " 21,\n",
       " 24,\n",
       " 27,\n",
       " 30,\n",
       " 33,\n",
       " 36,\n",
       " 39,\n",
       " 42,\n",
       " 45,\n",
       " 48,\n",
       " 51,\n",
       " 54,\n",
       " 57,\n",
       " 60,\n",
       " 63,\n",
       " 66,\n",
       " 69,\n",
       " 72,\n",
       " 75,\n",
       " 78,\n",
       " 81,\n",
       " 84,\n",
       " 87,\n",
       " 90,\n",
       " 93,\n",
       " 96,\n",
       " 99]"
      ]
     },
     "execution_count": 47,
     "metadata": {},
     "output_type": "execute_result"
    }
   ],
   "source": [
    "a"
   ]
  },
  {
   "cell_type": "code",
   "execution_count": 49,
   "metadata": {},
   "outputs": [],
   "source": [
    "del a[a.index(66)]"
   ]
  },
  {
   "cell_type": "code",
   "execution_count": 50,
   "metadata": {},
   "outputs": [
    {
     "data": {
      "text/plain": [
       "[3,\n",
       " 6,\n",
       " 9,\n",
       " 12,\n",
       " 15,\n",
       " 18,\n",
       " 21,\n",
       " 24,\n",
       " 27,\n",
       " 30,\n",
       " 33,\n",
       " 36,\n",
       " 39,\n",
       " 42,\n",
       " 45,\n",
       " 48,\n",
       " 51,\n",
       " 54,\n",
       " 57,\n",
       " 60,\n",
       " 63,\n",
       " 66,\n",
       " 69,\n",
       " 72,\n",
       " 75,\n",
       " 78,\n",
       " 81,\n",
       " 84,\n",
       " 87,\n",
       " 90,\n",
       " 93,\n",
       " 96,\n",
       " 99]"
      ]
     },
     "execution_count": 50,
     "metadata": {},
     "output_type": "execute_result"
    }
   ],
   "source": [
    "a"
   ]
  },
  {
   "cell_type": "code",
   "execution_count": null,
   "metadata": {},
   "outputs": [],
   "source": []
  },
  {
   "cell_type": "code",
   "execution_count": null,
   "metadata": {
    "ExecuteTime": {
     "end_time": "2021-04-01T22:56:37.652471Z",
     "start_time": "2021-04-01T22:56:37.645465Z"
    }
   },
   "outputs": [],
   "source": [
    "#check if element is in the list"
   ]
  },
  {
   "cell_type": "code",
   "execution_count": 56,
   "metadata": {},
   "outputs": [
    {
     "data": {
      "text/plain": [
       "True"
      ]
     },
     "execution_count": 56,
     "metadata": {},
     "output_type": "execute_result"
    }
   ],
   "source": [
    "3 in a"
   ]
  },
  {
   "cell_type": "code",
   "execution_count": null,
   "metadata": {
    "ExecuteTime": {
     "end_time": "2021-04-01T22:56:44.404354Z",
     "start_time": "2021-04-01T22:56:44.396817Z"
    }
   },
   "outputs": [],
   "source": [
    "#tipo de objeto"
   ]
  },
  {
   "cell_type": "code",
   "execution_count": 59,
   "metadata": {},
   "outputs": [
    {
     "data": {
      "text/plain": [
       "list"
      ]
     },
     "execution_count": 59,
     "metadata": {},
     "output_type": "execute_result"
    }
   ],
   "source": [
    "type(a)"
   ]
  },
  {
   "cell_type": "code",
   "execution_count": 61,
   "metadata": {},
   "outputs": [],
   "source": [
    "a[1] = 3"
   ]
  },
  {
   "cell_type": "code",
   "execution_count": 62,
   "metadata": {},
   "outputs": [
    {
     "data": {
      "text/plain": [
       "[3,\n",
       " 3,\n",
       " 9,\n",
       " 12,\n",
       " 15,\n",
       " 18,\n",
       " 21,\n",
       " 24,\n",
       " 27,\n",
       " 30,\n",
       " 33,\n",
       " 36,\n",
       " 39,\n",
       " 42,\n",
       " 45,\n",
       " 48,\n",
       " 51,\n",
       " 54,\n",
       " 57,\n",
       " 60,\n",
       " 63,\n",
       " 66,\n",
       " 69,\n",
       " 72,\n",
       " 75,\n",
       " 78,\n",
       " 81,\n",
       " 84,\n",
       " 87,\n",
       " 90,\n",
       " 93,\n",
       " 96,\n",
       " 99]"
      ]
     },
     "execution_count": 62,
     "metadata": {},
     "output_type": "execute_result"
    }
   ],
   "source": [
    "a"
   ]
  },
  {
   "cell_type": "code",
   "execution_count": 63,
   "metadata": {},
   "outputs": [],
   "source": [
    "a.remove(3)"
   ]
  },
  {
   "cell_type": "code",
   "execution_count": 64,
   "metadata": {},
   "outputs": [
    {
     "data": {
      "text/plain": [
       "[3,\n",
       " 9,\n",
       " 12,\n",
       " 15,\n",
       " 18,\n",
       " 21,\n",
       " 24,\n",
       " 27,\n",
       " 30,\n",
       " 33,\n",
       " 36,\n",
       " 39,\n",
       " 42,\n",
       " 45,\n",
       " 48,\n",
       " 51,\n",
       " 54,\n",
       " 57,\n",
       " 60,\n",
       " 63,\n",
       " 66,\n",
       " 69,\n",
       " 72,\n",
       " 75,\n",
       " 78,\n",
       " 81,\n",
       " 84,\n",
       " 87,\n",
       " 90,\n",
       " 93,\n",
       " 96,\n",
       " 99]"
      ]
     },
     "execution_count": 64,
     "metadata": {},
     "output_type": "execute_result"
    }
   ],
   "source": [
    "a"
   ]
  },
  {
   "cell_type": "markdown",
   "metadata": {},
   "source": [
    "### Question 1\n",
    " Remove all 1 from the list\n",
    " \n",
    " [1, 1, 1, 2, 3, 4, 5, 1, 2, 1]"
   ]
  },
  {
   "cell_type": "code",
   "execution_count": 84,
   "metadata": {
    "ExecuteTime": {
     "end_time": "2021-04-01T23:06:16.439212Z",
     "start_time": "2021-04-01T23:06:16.431196Z"
    }
   },
   "outputs": [],
   "source": [
    "lista = [1, 1, 1, 2, 3, 4, 5, 1, 2, 1]"
   ]
  },
  {
   "cell_type": "code",
   "execution_count": 69,
   "metadata": {
    "ExecuteTime": {
     "end_time": "2021-04-01T23:06:12.424089Z",
     "start_time": "2021-04-01T23:06:12.415572Z"
    }
   },
   "outputs": [],
   "source": [
    "while 1 in lista:\n",
    "    lista.remove(1)"
   ]
  },
  {
   "cell_type": "code",
   "execution_count": 70,
   "metadata": {},
   "outputs": [
    {
     "data": {
      "text/plain": [
       "[2, 3, 4, 5, 2]"
      ]
     },
     "execution_count": 70,
     "metadata": {},
     "output_type": "execute_result"
    }
   ],
   "source": [
    "lista"
   ]
  },
  {
   "cell_type": "code",
   "execution_count": 73,
   "metadata": {},
   "outputs": [
    {
     "data": {
      "text/plain": [
       "[2, 3, 4, 5, 2]"
      ]
     },
     "execution_count": 73,
     "metadata": {},
     "output_type": "execute_result"
    }
   ],
   "source": [
    "lista_nova = [item for item in lista if item != 1]\n",
    "\n",
    "lista_nova"
   ]
  },
  {
   "cell_type": "code",
   "execution_count": 85,
   "metadata": {},
   "outputs": [
    {
     "name": "stdout",
     "output_type": "stream",
     "text": [
      "0\n",
      "[1, 1, 1, 2, 3, 4, 5, 1, 2, 1] 10\n",
      "1\n",
      "[1, 1, 2, 3, 4, 5, 1, 2, 1] 9\n",
      "2\n",
      "[1, 2, 3, 4, 5, 1, 2, 1] 8\n",
      "3\n",
      "[1, 2, 3, 4, 5, 1, 2, 1] 8\n",
      "4\n",
      "[1, 2, 3, 4, 5, 1, 2, 1] 8\n",
      "5\n",
      "[1, 2, 3, 4, 5, 1, 2, 1] 8\n",
      "6\n",
      "[1, 2, 3, 4, 5, 2, 1] 7\n",
      "7\n",
      "[1, 2, 3, 4, 5, 2] 6\n"
     ]
    },
    {
     "ename": "IndexError",
     "evalue": "list index out of range",
     "output_type": "error",
     "traceback": [
      "\u001b[0;31m---------------------------------------------------------------------------\u001b[0m",
      "\u001b[0;31mIndexError\u001b[0m                                Traceback (most recent call last)",
      "\u001b[0;32m<ipython-input-85-dee6009b7e66>\u001b[0m in \u001b[0;36m<module>\u001b[0;34m\u001b[0m\n\u001b[1;32m      2\u001b[0m     \u001b[0mprint\u001b[0m\u001b[0;34m(\u001b[0m\u001b[0mi\u001b[0m\u001b[0;34m)\u001b[0m\u001b[0;34m\u001b[0m\u001b[0;34m\u001b[0m\u001b[0m\n\u001b[1;32m      3\u001b[0m     \u001b[0mprint\u001b[0m\u001b[0;34m(\u001b[0m\u001b[0mlista\u001b[0m\u001b[0;34m,\u001b[0m \u001b[0mlen\u001b[0m\u001b[0;34m(\u001b[0m\u001b[0mlista\u001b[0m\u001b[0;34m)\u001b[0m\u001b[0;34m)\u001b[0m\u001b[0;34m\u001b[0m\u001b[0;34m\u001b[0m\u001b[0m\n\u001b[0;32m----> 4\u001b[0;31m     \u001b[0;32mif\u001b[0m \u001b[0mlista\u001b[0m\u001b[0;34m[\u001b[0m\u001b[0mi\u001b[0m\u001b[0;34m]\u001b[0m\u001b[0;34m==\u001b[0m\u001b[0;36m1\u001b[0m\u001b[0;34m:\u001b[0m\u001b[0;34m\u001b[0m\u001b[0;34m\u001b[0m\u001b[0m\n\u001b[0m\u001b[1;32m      5\u001b[0m         \u001b[0mlista\u001b[0m\u001b[0;34m.\u001b[0m\u001b[0mpop\u001b[0m\u001b[0;34m(\u001b[0m\u001b[0mi\u001b[0m\u001b[0;34m)\u001b[0m\u001b[0;34m\u001b[0m\u001b[0;34m\u001b[0m\u001b[0m\n",
      "\u001b[0;31mIndexError\u001b[0m: list index out of range"
     ]
    }
   ],
   "source": [
    "for i in range(len(lista)):\n",
    "    print(i)\n",
    "    print(lista, len(lista))\n",
    "    if lista[i]==1:\n",
    "        lista.pop(i)"
   ]
  },
  {
   "cell_type": "markdown",
   "metadata": {
    "ExecuteTime": {
     "end_time": "2021-04-01T15:11:52.282097Z",
     "start_time": "2021-04-01T15:11:52.274022Z"
    }
   },
   "source": [
    "### List comprehension"
   ]
  },
  {
   "cell_type": "code",
   "execution_count": 86,
   "metadata": {
    "ExecuteTime": {
     "end_time": "2021-04-01T23:12:34.825265Z",
     "start_time": "2021-04-01T23:12:34.818483Z"
    }
   },
   "outputs": [
    {
     "data": {
      "text/plain": [
       "[0, 0, 0, 0, 0, 0, 0, 0, 0, 0]"
      ]
     },
     "execution_count": 86,
     "metadata": {},
     "output_type": "execute_result"
    }
   ],
   "source": [
    "# lista com 10 zeros\n",
    "lista = [0, 0, 0,0,0, 0,0, 0,0,0]\n",
    "lista"
   ]
  },
  {
   "cell_type": "code",
   "execution_count": 87,
   "metadata": {},
   "outputs": [
    {
     "data": {
      "text/plain": [
       "[0, 0, 0, 0, 0, 0, 0, 0, 0, 0]"
      ]
     },
     "execution_count": 87,
     "metadata": {},
     "output_type": "execute_result"
    }
   ],
   "source": [
    "lista = []\n",
    "for i in range(10):\n",
    "    lista.append(0)\n",
    "lista"
   ]
  },
  {
   "cell_type": "code",
   "execution_count": 92,
   "metadata": {},
   "outputs": [
    {
     "data": {
      "text/plain": [
       "[0, 0, 0, 0, 0, 0, 0, 0, 0, 0]"
      ]
     },
     "execution_count": 92,
     "metadata": {},
     "output_type": "execute_result"
    }
   ],
   "source": [
    "[0 for item in range(10)]\n",
    "    "
   ]
  },
  {
   "cell_type": "code",
   "execution_count": 98,
   "metadata": {
    "ExecuteTime": {
     "end_time": "2021-04-01T23:17:09.477151Z",
     "start_time": "2021-04-01T23:17:09.469147Z"
    }
   },
   "outputs": [
    {
     "data": {
      "text/plain": [
       "[0, 0, 0, 0, 0, 0, 0, 0, 0, 0]"
      ]
     },
     "execution_count": 98,
     "metadata": {},
     "output_type": "execute_result"
    }
   ],
   "source": [
    "# comprehension\n",
    "lista = [0 for item in range(0, 10)]\n",
    "lista"
   ]
  },
  {
   "cell_type": "code",
   "execution_count": 95,
   "metadata": {},
   "outputs": [
    {
     "data": {
      "text/plain": [
       "(0, 1, 2, 3, 4, 5, 6, 7, 8, 9)"
      ]
     },
     "execution_count": 95,
     "metadata": {},
     "output_type": "execute_result"
    }
   ],
   "source": [
    "tuple((item for item in range(0, 10)))"
   ]
  },
  {
   "cell_type": "code",
   "execution_count": null,
   "metadata": {},
   "outputs": [],
   "source": [
    "[]\n",
    "[0,_]\n",
    "[0, 0]\n",
    "[0, 0, 0, _]\n",
    "[0, 0, 0, 0]\n",
    "[0, 0, 0, 0, _, _]\n",
    "\n",
    "[0, 0, 0, 0, 0, 0 ..., 0]\n"
   ]
  },
  {
   "cell_type": "code",
   "execution_count": 99,
   "metadata": {
    "ExecuteTime": {
     "end_time": "2021-04-01T23:19:42.359774Z",
     "start_time": "2021-04-01T23:19:42.354780Z"
    }
   },
   "outputs": [
    {
     "data": {
      "text/plain": [
       "[0, 0, 0, 0, 0, 0, 0, 0, 0, 0]"
      ]
     },
     "execution_count": 99,
     "metadata": {},
     "output_type": "execute_result"
    }
   ],
   "source": [
    "#somar 1 em todos elementos da lista\n",
    "lista"
   ]
  },
  {
   "cell_type": "code",
   "execution_count": 104,
   "metadata": {},
   "outputs": [
    {
     "data": {
      "text/plain": [
       "[1, 1, 1, 1, 1, 1, 1, 1, 1, 1]"
      ]
     },
     "execution_count": 104,
     "metadata": {},
     "output_type": "execute_result"
    }
   ],
   "source": [
    "[item+1 for item in lista]"
   ]
  },
  {
   "cell_type": "code",
   "execution_count": null,
   "metadata": {
    "ExecuteTime": {
     "end_time": "2021-04-01T23:20:33.873016Z",
     "start_time": "2021-04-01T23:20:33.866015Z"
    }
   },
   "outputs": [],
   "source": [
    "#somar as metades da lista e criar uma lista nova com 5 elementos"
   ]
  },
  {
   "cell_type": "code",
   "execution_count": 106,
   "metadata": {
    "ExecuteTime": {
     "end_time": "2021-04-01T23:21:56.519826Z",
     "start_time": "2021-04-01T23:21:56.516821Z"
    }
   },
   "outputs": [
    {
     "data": {
      "text/plain": [
       "[0, 1, 2, 3, 4, 5, 6, 7, 8, 9]"
      ]
     },
     "execution_count": 106,
     "metadata": {},
     "output_type": "execute_result"
    }
   ],
   "source": [
    "lista = list(range(10))\n",
    "lista"
   ]
  },
  {
   "cell_type": "code",
   "execution_count": 107,
   "metadata": {
    "ExecuteTime": {
     "end_time": "2021-04-01T23:22:53.875296Z",
     "start_time": "2021-04-01T23:22:53.867810Z"
    }
   },
   "outputs": [
    {
     "data": {
      "text/plain": [
       "[0, 2, 4, 6]"
      ]
     },
     "execution_count": 107,
     "metadata": {},
     "output_type": "execute_result"
    }
   ],
   "source": [
    "[item+item for item in lista[0:4]]"
   ]
  },
  {
   "cell_type": "code",
   "execution_count": 114,
   "metadata": {},
   "outputs": [],
   "source": [
    "lista1 = lista[0:5]\n",
    "lista2 = lista[5:10]\n"
   ]
  },
  {
   "cell_type": "code",
   "execution_count": 115,
   "metadata": {},
   "outputs": [
    {
     "data": {
      "text/plain": [
       "[0, 1, 2, 3, 4, 5, 6, 7, 8, 9]"
      ]
     },
     "execution_count": 115,
     "metadata": {},
     "output_type": "execute_result"
    }
   ],
   "source": [
    "lista1 + lista2"
   ]
  },
  {
   "cell_type": "code",
   "execution_count": 117,
   "metadata": {},
   "outputs": [
    {
     "data": {
      "text/plain": [
       "[5, 7, 9, 11, 13]"
      ]
     },
     "execution_count": 117,
     "metadata": {},
     "output_type": "execute_result"
    }
   ],
   "source": [
    "[lista1[i]+lista2[i] for i in range(0, 5)]"
   ]
  },
  {
   "cell_type": "code",
   "execution_count": 119,
   "metadata": {},
   "outputs": [
    {
     "data": {
      "text/plain": [
       "[5, 7, 9, 11, 13]"
      ]
     },
     "execution_count": 119,
     "metadata": {},
     "output_type": "execute_result"
    }
   ],
   "source": [
    "[lista1[i]+lista2[i] for i in range(len(lista1))]"
   ]
  },
  {
   "cell_type": "code",
   "execution_count": 120,
   "metadata": {},
   "outputs": [
    {
     "data": {
      "text/plain": [
       "[5, 7, 9, 11, 13]"
      ]
     },
     "execution_count": 120,
     "metadata": {},
     "output_type": "execute_result"
    }
   ],
   "source": [
    "[l1+l2 for l1, l2 in zip(lista1,lista2)]"
   ]
  },
  {
   "cell_type": "code",
   "execution_count": 122,
   "metadata": {},
   "outputs": [
    {
     "data": {
      "text/plain": [
       "[(0, 5), (1, 6), (2, 7), (3, 8), (4, 9)]"
      ]
     },
     "execution_count": 122,
     "metadata": {},
     "output_type": "execute_result"
    }
   ],
   "source": [
    "list(zip(lista1,lista2))"
   ]
  },
  {
   "cell_type": "code",
   "execution_count": null,
   "metadata": {
    "ExecuteTime": {
     "end_time": "2021-04-01T23:27:58.404820Z",
     "start_time": "2021-04-01T23:27:58.400407Z"
    }
   },
   "outputs": [],
   "source": [
    "#copiar lista"
   ]
  },
  {
   "cell_type": "code",
   "execution_count": 124,
   "metadata": {},
   "outputs": [
    {
     "data": {
      "text/plain": [
       "[0, 1, 2, 3, 4, 5, 6, 7, 8, 9]"
      ]
     },
     "execution_count": 124,
     "metadata": {},
     "output_type": "execute_result"
    }
   ],
   "source": [
    "lista_nova = lista\n",
    "lista_nova"
   ]
  },
  {
   "cell_type": "code",
   "execution_count": 126,
   "metadata": {},
   "outputs": [],
   "source": [
    "lista_nova.append(10)"
   ]
  },
  {
   "cell_type": "code",
   "execution_count": 132,
   "metadata": {},
   "outputs": [
    {
     "data": {
      "text/plain": [
       "140475298825152"
      ]
     },
     "execution_count": 132,
     "metadata": {},
     "output_type": "execute_result"
    }
   ],
   "source": [
    "id(lista_nova)"
   ]
  },
  {
   "cell_type": "code",
   "execution_count": 133,
   "metadata": {},
   "outputs": [
    {
     "data": {
      "text/plain": [
       "140475350070720"
      ]
     },
     "execution_count": 133,
     "metadata": {},
     "output_type": "execute_result"
    }
   ],
   "source": [
    "id(lista)"
   ]
  },
  {
   "cell_type": "code",
   "execution_count": 131,
   "metadata": {},
   "outputs": [],
   "source": [
    "lista_nova = lista[:] \n",
    "# lista_nova = lista.copy()"
   ]
  },
  {
   "cell_type": "code",
   "execution_count": 135,
   "metadata": {},
   "outputs": [
    {
     "data": {
      "text/plain": [
       "[0, 1, 2, 3, 4, 5, 6, 7, 8, 9, 10, 11]"
      ]
     },
     "execution_count": 135,
     "metadata": {},
     "output_type": "execute_result"
    }
   ],
   "source": [
    "# lista_nova.append(11)\n",
    "lista_nova"
   ]
  },
  {
   "cell_type": "code",
   "execution_count": 136,
   "metadata": {},
   "outputs": [
    {
     "data": {
      "text/plain": [
       "[0, 1, 2, 3, 4, 5, 6, 7, 8, 9, 10]"
      ]
     },
     "execution_count": 136,
     "metadata": {},
     "output_type": "execute_result"
    }
   ],
   "source": [
    "lista"
   ]
  },
  {
   "cell_type": "code",
   "execution_count": null,
   "metadata": {
    "ExecuteTime": {
     "end_time": "2021-04-01T23:29:15.441645Z",
     "start_time": "2021-04-01T23:29:15.433645Z"
    }
   },
   "outputs": [],
   "source": [
    "#Funçoes um pouco mais avançadas de lista\n",
    "#lambda\n",
    "#map\n",
    "#zip\n",
    "#enumerate\n",
    "#filter\n",
    "#next\n",
    "#reduce"
   ]
  },
  {
   "cell_type": "code",
   "execution_count": 138,
   "metadata": {},
   "outputs": [],
   "source": [
    "# homework\n",
    "# https://www.youtube.com/watch?v=Zv4ge83Qz8I&t=951s"
   ]
  },
  {
   "cell_type": "markdown",
   "metadata": {},
   "source": [
    "## Numpy"
   ]
  },
  {
   "cell_type": "code",
   "execution_count": null,
   "metadata": {
    "ExecuteTime": {
     "end_time": "2021-04-06T17:57:25.241717Z",
     "start_time": "2021-04-06T17:57:25.211455Z"
    }
   },
   "outputs": [],
   "source": [
    "import numpy as np"
   ]
  },
  {
   "cell_type": "markdown",
   "metadata": {},
   "source": [
    "Numpy é uma biblioteca das principais bibliotecas do Python, devido a sua grande velocidade e eficiência ele é extremamente utilizada para computação científica e analise de dados. Esta fama se da principalmente a estrutura chamada [numpy array](https://docs.scipy.org/doc/numpy/reference/arrays.html), um forma eficiente de guardar e manipular matrizes, que serve como base para as tabelas que iremos utilizar."
   ]
  },
  {
   "cell_type": "code",
   "execution_count": null,
   "metadata": {
    "ExecuteTime": {
     "end_time": "2021-04-01T23:39:26.737953Z",
     "start_time": "2021-04-01T23:39:26.725443Z"
    }
   },
   "outputs": [],
   "source": [
    "# criando listas numpy a partir de listas do python\n"
   ]
  },
  {
   "cell_type": "code",
   "execution_count": null,
   "metadata": {
    "ExecuteTime": {
     "end_time": "2021-04-01T23:40:21.409280Z",
     "start_time": "2021-04-01T23:40:21.401274Z"
    }
   },
   "outputs": [],
   "source": [
    "#Criando array zeros numpy\n"
   ]
  },
  {
   "cell_type": "code",
   "execution_count": null,
   "metadata": {
    "ExecuteTime": {
     "end_time": "2021-04-01T23:42:07.372271Z",
     "start_time": "2021-04-01T23:42:07.364237Z"
    }
   },
   "outputs": [],
   "source": [
    "#Criando array 1 \n"
   ]
  },
  {
   "cell_type": "markdown",
   "metadata": {},
   "source": [
    "### Multiplicação de Listas vs np.Array"
   ]
  },
  {
   "cell_type": "code",
   "execution_count": null,
   "metadata": {},
   "outputs": [],
   "source": []
  },
  {
   "cell_type": "code",
   "execution_count": null,
   "metadata": {
    "ExecuteTime": {
     "end_time": "2021-04-01T23:44:14.312567Z",
     "start_time": "2021-04-01T23:44:14.302050Z"
    }
   },
   "outputs": [],
   "source": [
    "#Criando array de um numero qualquer\n"
   ]
  },
  {
   "cell_type": "code",
   "execution_count": null,
   "metadata": {
    "ExecuteTime": {
     "end_time": "2021-04-01T23:44:45.886510Z",
     "start_time": "2021-04-01T23:44:45.877519Z"
    }
   },
   "outputs": [],
   "source": []
  },
  {
   "cell_type": "code",
   "execution_count": null,
   "metadata": {
    "ExecuteTime": {
     "end_time": "2021-04-01T23:45:03.056183Z",
     "start_time": "2021-04-01T23:45:03.050157Z"
    }
   },
   "outputs": [],
   "source": [
    "#Criando array com sequencia\n"
   ]
  },
  {
   "cell_type": "code",
   "execution_count": null,
   "metadata": {
    "ExecuteTime": {
     "end_time": "2021-04-01T23:45:36.471728Z",
     "start_time": "2021-04-01T23:45:36.465179Z"
    }
   },
   "outputs": [],
   "source": [
    "#Criando array com saltos\n"
   ]
  },
  {
   "cell_type": "code",
   "execution_count": null,
   "metadata": {
    "ExecuteTime": {
     "end_time": "2021-04-01T23:48:48.147473Z",
     "start_time": "2021-04-01T23:48:48.139415Z"
    }
   },
   "outputs": [],
   "source": [
    "#Array espaçado, os dois primeiros numeros são o intervalo, o terceiro e numero de valores \n"
   ]
  },
  {
   "cell_type": "code",
   "execution_count": null,
   "metadata": {
    "ExecuteTime": {
     "end_time": "2021-04-01T23:51:09.301598Z",
     "start_time": "2021-04-01T23:51:09.294597Z"
    }
   },
   "outputs": [],
   "source": [
    "from numpy import random\n",
    "\n",
    "#Criando array com valores aleatorios\n"
   ]
  },
  {
   "cell_type": "code",
   "execution_count": null,
   "metadata": {
    "ExecuteTime": {
     "end_time": "2021-04-01T23:51:23.499939Z",
     "start_time": "2021-04-01T23:51:23.492407Z"
    }
   },
   "outputs": [],
   "source": [
    "# aleatorio inteiro (10 itens de 0 a 100)\n"
   ]
  },
  {
   "cell_type": "code",
   "execution_count": null,
   "metadata": {
    "ExecuteTime": {
     "end_time": "2021-04-01T23:52:04.916388Z",
     "start_time": "2021-04-01T23:52:04.908380Z"
    }
   },
   "outputs": [],
   "source": []
  },
  {
   "cell_type": "markdown",
   "metadata": {},
   "source": [
    "### Indexação"
   ]
  },
  {
   "cell_type": "code",
   "execution_count": null,
   "metadata": {},
   "outputs": [],
   "source": []
  },
  {
   "cell_type": "markdown",
   "metadata": {},
   "source": [
    "### Operações matemáticas"
   ]
  },
  {
   "cell_type": "code",
   "execution_count": null,
   "metadata": {},
   "outputs": [],
   "source": []
  },
  {
   "cell_type": "markdown",
   "metadata": {
    "ExecuteTime": {
     "end_time": "2021-04-01T16:02:19.292406Z",
     "start_time": "2021-04-01T16:02:19.275829Z"
    }
   },
   "source": [
    "### Operações com Arrays"
   ]
  },
  {
   "cell_type": "code",
   "execution_count": null,
   "metadata": {
    "ExecuteTime": {
     "end_time": "2021-04-01T23:58:46.314479Z",
     "start_time": "2021-04-01T23:58:46.307482Z"
    }
   },
   "outputs": [],
   "source": [
    "#adição\n"
   ]
  },
  {
   "cell_type": "code",
   "execution_count": null,
   "metadata": {
    "ExecuteTime": {
     "end_time": "2021-04-02T00:00:03.512154Z",
     "start_time": "2021-04-02T00:00:03.504151Z"
    }
   },
   "outputs": [],
   "source": [
    "#multiplicação\n"
   ]
  },
  {
   "cell_type": "code",
   "execution_count": null,
   "metadata": {
    "ExecuteTime": {
     "end_time": "2021-04-02T00:00:05.220422Z",
     "start_time": "2021-04-02T00:00:05.214423Z"
    }
   },
   "outputs": [],
   "source": [
    "#produto entre dois arrays\n"
   ]
  },
  {
   "cell_type": "code",
   "execution_count": null,
   "metadata": {
    "ExecuteTime": {
     "end_time": "2021-04-02T00:00:45.269443Z",
     "start_time": "2021-04-02T00:00:45.260909Z"
    }
   },
   "outputs": [],
   "source": [
    "# divisão\n"
   ]
  },
  {
   "cell_type": "code",
   "execution_count": null,
   "metadata": {
    "ExecuteTime": {
     "end_time": "2021-04-02T00:01:19.654590Z",
     "start_time": "2021-04-02T00:01:19.646593Z"
    }
   },
   "outputs": [],
   "source": [
    "#filtro\n"
   ]
  },
  {
   "cell_type": "code",
   "execution_count": null,
   "metadata": {
    "ExecuteTime": {
     "end_time": "2021-04-02T00:03:08.239477Z",
     "start_time": "2021-04-02T00:03:08.232482Z"
    },
    "scrolled": true
   },
   "outputs": [],
   "source": [
    "#concatenate\n"
   ]
  },
  {
   "cell_type": "markdown",
   "metadata": {},
   "source": [
    "### Operações em arrays"
   ]
  },
  {
   "cell_type": "markdown",
   "metadata": {},
   "source": [
    "### Problema 1:\n",
    "Somar 2 **Listas** aleatórias de tamanhos iguais - Retorno deve conter uma lista"
   ]
  },
  {
   "cell_type": "code",
   "execution_count": null,
   "metadata": {
    "ExecuteTime": {
     "end_time": "2021-04-02T00:04:35.587000Z",
     "start_time": "2021-04-02T00:04:35.580013Z"
    }
   },
   "outputs": [],
   "source": []
  },
  {
   "cell_type": "markdown",
   "metadata": {},
   "source": [
    "### problema 2\n",
    "Somar 2 Arrays de tamanhos diferentes - Retorno deve conter um array\n",
    "\n",
    "***Tomar cuidado ao fazer operações com arrays de tamanhos diferentes***\n",
    "\n",
    "Ex: array([1, 2, 3, 4, 5, 6, 7, 8, 9, 10]) + array([1, 1, 1, 1, 1]) = array(2, 3, 4, 5, 6, 6, 7, 8, 9, 10)"
   ]
  },
  {
   "cell_type": "code",
   "execution_count": null,
   "metadata": {
    "ExecuteTime": {
     "end_time": "2021-04-01T16:13:02.437758Z",
     "start_time": "2021-04-01T16:13:02.428752Z"
    }
   },
   "outputs": [],
   "source": []
  },
  {
   "cell_type": "markdown",
   "metadata": {},
   "source": [
    "### Métodos"
   ]
  },
  {
   "cell_type": "code",
   "execution_count": null,
   "metadata": {
    "ExecuteTime": {
     "end_time": "2021-04-06T22:32:39.511633Z",
     "start_time": "2021-04-06T22:32:39.498036Z"
    }
   },
   "outputs": [],
   "source": []
  },
  {
   "cell_type": "code",
   "execution_count": null,
   "metadata": {
    "ExecuteTime": {
     "end_time": "2021-04-02T00:36:08.820728Z",
     "start_time": "2021-04-02T00:36:08.805739Z"
    }
   },
   "outputs": [],
   "source": [
    "#maior valor\n"
   ]
  },
  {
   "cell_type": "code",
   "execution_count": null,
   "metadata": {
    "ExecuteTime": {
     "end_time": "2021-04-02T00:36:09.019729Z",
     "start_time": "2021-04-02T00:36:08.998727Z"
    }
   },
   "outputs": [],
   "source": [
    "#index do maior valor\n"
   ]
  },
  {
   "cell_type": "code",
   "execution_count": null,
   "metadata": {
    "ExecuteTime": {
     "end_time": "2021-04-02T00:36:09.192724Z",
     "start_time": "2021-04-02T00:36:09.175728Z"
    }
   },
   "outputs": [],
   "source": [
    "#menor valor\n"
   ]
  },
  {
   "cell_type": "code",
   "execution_count": null,
   "metadata": {
    "ExecuteTime": {
     "end_time": "2021-04-02T00:36:09.348726Z",
     "start_time": "2021-04-02T00:36:09.342727Z"
    }
   },
   "outputs": [],
   "source": [
    "#index do menor valor\n"
   ]
  },
  {
   "cell_type": "code",
   "execution_count": null,
   "metadata": {
    "ExecuteTime": {
     "end_time": "2021-04-02T00:36:09.567258Z",
     "start_time": "2021-04-02T00:36:09.550726Z"
    }
   },
   "outputs": [],
   "source": [
    "#soma de todos os items\n"
   ]
  },
  {
   "cell_type": "code",
   "execution_count": null,
   "metadata": {
    "ExecuteTime": {
     "end_time": "2021-04-02T00:33:57.118960Z",
     "start_time": "2021-04-02T00:33:57.096931Z"
    }
   },
   "outputs": [],
   "source": [
    "#media\n"
   ]
  },
  {
   "cell_type": "code",
   "execution_count": null,
   "metadata": {
    "ExecuteTime": {
     "end_time": "2021-04-02T00:33:59.038134Z",
     "start_time": "2021-04-02T00:33:59.023134Z"
    }
   },
   "outputs": [],
   "source": [
    "#desvio padrão\n"
   ]
  },
  {
   "cell_type": "code",
   "execution_count": null,
   "metadata": {
    "ExecuteTime": {
     "end_time": "2021-04-02T00:36:16.026245Z",
     "start_time": "2021-04-02T00:36:16.014727Z"
    }
   },
   "outputs": [],
   "source": [
    "#ordenar a lista\n"
   ]
  },
  {
   "cell_type": "code",
   "execution_count": null,
   "metadata": {
    "ExecuteTime": {
     "end_time": "2021-04-02T00:36:25.572074Z",
     "start_time": "2021-04-02T00:36:25.548099Z"
    }
   },
   "outputs": [],
   "source": [
    "## Aleatorizando o array\n"
   ]
  },
  {
   "cell_type": "code",
   "execution_count": null,
   "metadata": {
    "ExecuteTime": {
     "end_time": "2021-04-06T22:33:48.328503Z",
     "start_time": "2021-04-06T22:33:48.320487Z"
    }
   },
   "outputs": [],
   "source": [
    "#Trocando o tipo dos dados nas lista\n"
   ]
  },
  {
   "cell_type": "code",
   "execution_count": null,
   "metadata": {
    "ExecuteTime": {
     "end_time": "2021-04-02T00:38:46.886875Z",
     "start_time": "2021-04-02T00:38:46.870914Z"
    }
   },
   "outputs": [],
   "source": [
    "# Valores únicos\n"
   ]
  },
  {
   "cell_type": "code",
   "execution_count": null,
   "metadata": {
    "ExecuteTime": {
     "end_time": "2021-04-02T00:39:20.611950Z",
     "start_time": "2021-04-02T00:39:20.588657Z"
    }
   },
   "outputs": [],
   "source": [
    "#moda\n"
   ]
  },
  {
   "cell_type": "markdown",
   "metadata": {},
   "source": [
    "### Matriz"
   ]
  },
  {
   "cell_type": "code",
   "execution_count": null,
   "metadata": {
    "ExecuteTime": {
     "end_time": "2021-04-02T00:41:10.953329Z",
     "start_time": "2021-04-02T00:41:10.937695Z"
    }
   },
   "outputs": [],
   "source": [
    "#Criando matriz\n"
   ]
  },
  {
   "cell_type": "code",
   "execution_count": null,
   "metadata": {
    "ExecuteTime": {
     "end_time": "2021-04-02T00:43:36.346737Z",
     "start_time": "2021-04-02T00:43:36.337212Z"
    }
   },
   "outputs": [],
   "source": [
    "#Matriz de zeros\n"
   ]
  },
  {
   "cell_type": "code",
   "execution_count": null,
   "metadata": {
    "ExecuteTime": {
     "end_time": "2021-04-02T00:43:39.487877Z",
     "start_time": "2021-04-02T00:43:39.469296Z"
    }
   },
   "outputs": [],
   "source": [
    "#Matriz de 1's\n"
   ]
  },
  {
   "cell_type": "code",
   "execution_count": null,
   "metadata": {
    "ExecuteTime": {
     "end_time": "2021-04-02T00:43:45.320590Z",
     "start_time": "2021-04-02T00:43:45.311030Z"
    },
    "hide_input": false
   },
   "outputs": [],
   "source": [
    "#eye - Matriz identidade\n"
   ]
  },
  {
   "cell_type": "code",
   "execution_count": null,
   "metadata": {
    "ExecuteTime": {
     "end_time": "2021-04-02T00:44:34.921691Z",
     "start_time": "2021-04-02T00:44:34.907177Z"
    }
   },
   "outputs": [],
   "source": []
  },
  {
   "cell_type": "markdown",
   "metadata": {},
   "source": [
    "#### Operações"
   ]
  },
  {
   "cell_type": "code",
   "execution_count": null,
   "metadata": {
    "ExecuteTime": {
     "end_time": "2021-04-02T00:45:01.271386Z",
     "start_time": "2021-04-02T00:45:01.254260Z"
    },
    "code_folding": []
   },
   "outputs": [],
   "source": [
    "# Redimensionamento\n"
   ]
  },
  {
   "cell_type": "code",
   "execution_count": null,
   "metadata": {
    "ExecuteTime": {
     "end_time": "2021-04-02T00:45:10.097174Z",
     "start_time": "2021-04-02T00:45:10.080639Z"
    }
   },
   "outputs": [],
   "source": []
  },
  {
   "cell_type": "code",
   "execution_count": null,
   "metadata": {
    "ExecuteTime": {
     "end_time": "2021-04-02T00:46:06.943048Z",
     "start_time": "2021-04-02T00:46:06.933418Z"
    }
   },
   "outputs": [],
   "source": [
    "#Matriz Transposta\n"
   ]
  },
  {
   "cell_type": "code",
   "execution_count": null,
   "metadata": {
    "ExecuteTime": {
     "end_time": "2021-04-02T00:50:40.448573Z",
     "start_time": "2021-04-02T00:50:40.433059Z"
    }
   },
   "outputs": [],
   "source": [
    "#concatenaçäo\n"
   ]
  },
  {
   "cell_type": "code",
   "execution_count": null,
   "metadata": {
    "ExecuteTime": {
     "end_time": "2021-04-02T00:49:12.376821Z",
     "start_time": "2021-04-02T00:49:12.368805Z"
    }
   },
   "outputs": [],
   "source": [
    "#hstack\n"
   ]
  },
  {
   "cell_type": "code",
   "execution_count": null,
   "metadata": {
    "ExecuteTime": {
     "end_time": "2021-04-02T00:50:24.026008Z",
     "start_time": "2021-04-02T00:50:24.014976Z"
    }
   },
   "outputs": [],
   "source": [
    "#vstack\n"
   ]
  },
  {
   "cell_type": "code",
   "execution_count": null,
   "metadata": {
    "ExecuteTime": {
     "end_time": "2021-04-01T21:06:15.969130Z",
     "start_time": "2021-04-01T21:06:15.953596Z"
    }
   },
   "outputs": [],
   "source": [
    "#indexação matriz\n"
   ]
  },
  {
   "cell_type": "markdown",
   "metadata": {
    "ExecuteTime": {
     "end_time": "2020-12-02T00:45:05.502884Z",
     "start_time": "2020-12-02T00:45:05.483356Z"
    }
   },
   "source": [
    "### Problema 3: \n",
    "\n",
    "Criar uma matriz 10x2 onde na primeira coluna estejam os valores de [1..10] e a segunda coluna seja preenchida com zeros"
   ]
  },
  {
   "cell_type": "code",
   "execution_count": null,
   "metadata": {},
   "outputs": [],
   "source": []
  },
  {
   "cell_type": "markdown",
   "metadata": {},
   "source": [
    "### Máscaras"
   ]
  },
  {
   "cell_type": "code",
   "execution_count": null,
   "metadata": {
    "ExecuteTime": {
     "end_time": "2021-04-06T22:49:06.194657Z",
     "start_time": "2021-04-06T22:49:06.185658Z"
    }
   },
   "outputs": [],
   "source": []
  },
  {
   "cell_type": "code",
   "execution_count": null,
   "metadata": {
    "ExecuteTime": {
     "end_time": "2021-04-06T23:02:25.191909Z",
     "start_time": "2021-04-06T23:02:25.184910Z"
    }
   },
   "outputs": [],
   "source": [
    "#Criando array com sequencia\n"
   ]
  },
  {
   "cell_type": "code",
   "execution_count": null,
   "metadata": {
    "ExecuteTime": {
     "end_time": "2021-04-06T23:03:07.883803Z",
     "start_time": "2021-04-06T23:03:07.873687Z"
    }
   },
   "outputs": [],
   "source": [
    "#Numeros pares\n"
   ]
  },
  {
   "cell_type": "code",
   "execution_count": null,
   "metadata": {
    "ExecuteTime": {
     "end_time": "2021-04-06T23:03:12.948813Z",
     "start_time": "2021-04-06T23:03:12.943801Z"
    }
   },
   "outputs": [],
   "source": [
    "#Aplicando a mascara maior que 2\n"
   ]
  },
  {
   "cell_type": "code",
   "execution_count": null,
   "metadata": {
    "ExecuteTime": {
     "end_time": "2021-04-06T23:07:01.249019Z",
     "start_time": "2021-04-06T23:07:01.242019Z"
    }
   },
   "outputs": [],
   "source": [
    "#mascaras com mais de 1 condição\n"
   ]
  },
  {
   "cell_type": "markdown",
   "metadata": {},
   "source": [
    "## Pandas"
   ]
  },
  {
   "cell_type": "markdown",
   "metadata": {},
   "source": [
    "### Series"
   ]
  },
  {
   "cell_type": "markdown",
   "metadata": {},
   "source": [
    "`Series` representam as colunas das tabelas, guardando seu conteúdo com numpy arrays, porem neste caso cada array tem um index, que permite acessar o conteúdo das series como um similar a um dicionário python. além disso essa classe conta com alguns métodos mais avançados que o numpy array."
   ]
  },
  {
   "cell_type": "code",
   "execution_count": null,
   "metadata": {
    "ExecuteTime": {
     "end_time": "2021-04-06T23:08:39.708567Z",
     "start_time": "2021-04-06T23:08:39.695566Z"
    }
   },
   "outputs": [],
   "source": [
    "#utilizando um lista simples\n"
   ]
  },
  {
   "cell_type": "code",
   "execution_count": null,
   "metadata": {
    "ExecuteTime": {
     "end_time": "2021-04-06T23:12:01.939531Z",
     "start_time": "2021-04-06T23:12:01.932535Z"
    }
   },
   "outputs": [],
   "source": []
  },
  {
   "cell_type": "code",
   "execution_count": null,
   "metadata": {
    "ExecuteTime": {
     "end_time": "2021-04-06T23:10:40.975022Z",
     "start_time": "2021-04-06T23:10:40.967023Z"
    }
   },
   "outputs": [],
   "source": [
    "#Acessando dados como uma lista\n"
   ]
  },
  {
   "cell_type": "code",
   "execution_count": null,
   "metadata": {
    "ExecuteTime": {
     "end_time": "2021-04-06T23:10:51.698128Z",
     "start_time": "2021-04-06T23:10:51.688131Z"
    }
   },
   "outputs": [],
   "source": [
    "#indexação"
   ]
  },
  {
   "cell_type": "code",
   "execution_count": null,
   "metadata": {
    "ExecuteTime": {
     "end_time": "2021-04-06T23:12:33.509046Z",
     "start_time": "2021-04-06T23:12:33.497041Z"
    }
   },
   "outputs": [],
   "source": [
    "#Series com index\n"
   ]
  },
  {
   "cell_type": "code",
   "execution_count": null,
   "metadata": {
    "ExecuteTime": {
     "end_time": "2021-04-06T23:12:38.911920Z",
     "start_time": "2021-04-06T23:12:38.904923Z"
    },
    "code_folding": []
   },
   "outputs": [],
   "source": [
    "#acessando index 'a' da serie\n"
   ]
  },
  {
   "cell_type": "code",
   "execution_count": null,
   "metadata": {
    "ExecuteTime": {
     "end_time": "2021-04-06T23:14:50.275553Z",
     "start_time": "2021-04-06T23:14:50.266553Z"
    }
   },
   "outputs": [],
   "source": [
    "#acessando index 'a' e 'b' da serie\n"
   ]
  },
  {
   "cell_type": "code",
   "execution_count": null,
   "metadata": {
    "ExecuteTime": {
     "end_time": "2021-04-06T23:12:56.306519Z",
     "start_time": "2021-04-06T23:12:56.297521Z"
    }
   },
   "outputs": [],
   "source": [
    "#Series com dicionarios\n"
   ]
  },
  {
   "cell_type": "code",
   "execution_count": null,
   "metadata": {
    "ExecuteTime": {
     "end_time": "2021-04-06T23:16:29.725597Z",
     "start_time": "2021-04-06T23:16:29.707035Z"
    }
   },
   "outputs": [],
   "source": [
    "#operações com series\n"
   ]
  },
  {
   "cell_type": "code",
   "execution_count": null,
   "metadata": {
    "ExecuteTime": {
     "end_time": "2021-04-06T23:18:07.669285Z",
     "start_time": "2021-04-06T23:18:07.661739Z"
    }
   },
   "outputs": [],
   "source": []
  },
  {
   "cell_type": "code",
   "execution_count": null,
   "metadata": {
    "ExecuteTime": {
     "end_time": "2021-04-06T23:18:17.391224Z",
     "start_time": "2021-04-06T23:18:17.382219Z"
    }
   },
   "outputs": [],
   "source": [
    "#unique\n"
   ]
  },
  {
   "cell_type": "code",
   "execution_count": null,
   "metadata": {
    "ExecuteTime": {
     "end_time": "2021-04-06T23:19:09.396552Z",
     "start_time": "2021-04-06T23:19:09.383555Z"
    },
    "scrolled": true
   },
   "outputs": [],
   "source": [
    "#Contando valores\n"
   ]
  },
  {
   "cell_type": "code",
   "execution_count": null,
   "metadata": {
    "ExecuteTime": {
     "end_time": "2021-04-06T23:19:34.551861Z",
     "start_time": "2021-04-06T23:19:34.541298Z"
    }
   },
   "outputs": [],
   "source": [
    "#Contando valores em porcentagem\n"
   ]
  },
  {
   "cell_type": "code",
   "execution_count": null,
   "metadata": {
    "ExecuteTime": {
     "end_time": "2021-04-06T23:20:42.220357Z",
     "start_time": "2021-04-06T23:20:42.210353Z"
    }
   },
   "outputs": [],
   "source": [
    "#isin - Para filtar valores"
   ]
  },
  {
   "cell_type": "markdown",
   "metadata": {},
   "source": [
    "### Dataframe"
   ]
  },
  {
   "cell_type": "markdown",
   "metadata": {},
   "source": [
    "E por ultimo temos a estrutura DataFrame, esta será nossa tabela, representada por um dicionário de series com o mesmo index."
   ]
  },
  {
   "cell_type": "code",
   "execution_count": null,
   "metadata": {
    "ExecuteTime": {
     "end_time": "2021-04-06T23:22:04.376865Z",
     "start_time": "2021-04-06T23:22:04.369879Z"
    }
   },
   "outputs": [],
   "source": []
  },
  {
   "cell_type": "code",
   "execution_count": null,
   "metadata": {
    "ExecuteTime": {
     "end_time": "2021-04-06T23:29:28.932829Z",
     "start_time": "2021-04-06T23:29:28.923832Z"
    }
   },
   "outputs": [],
   "source": [
    "# acessando coluna 'x', retornando uma serie\n"
   ]
  },
  {
   "cell_type": "code",
   "execution_count": null,
   "metadata": {
    "ExecuteTime": {
     "end_time": "2021-04-06T23:29:29.912906Z",
     "start_time": "2021-04-06T23:29:29.899898Z"
    }
   },
   "outputs": [],
   "source": [
    "# acessando colunas 'x' e 'y', retornando um dataframe\n"
   ]
  },
  {
   "cell_type": "code",
   "execution_count": null,
   "metadata": {
    "ExecuteTime": {
     "end_time": "2021-04-06T23:29:30.707908Z",
     "start_time": "2021-04-06T23:29:30.697906Z"
    }
   },
   "outputs": [],
   "source": [
    "#pegando ponto\n"
   ]
  },
  {
   "cell_type": "code",
   "execution_count": null,
   "metadata": {
    "ExecuteTime": {
     "end_time": "2021-04-06T23:32:27.477292Z",
     "start_time": "2021-04-06T23:32:27.463285Z"
    }
   },
   "outputs": [],
   "source": []
  },
  {
   "cell_type": "code",
   "execution_count": null,
   "metadata": {
    "ExecuteTime": {
     "end_time": "2021-04-06T23:31:31.745888Z",
     "start_time": "2021-04-06T23:31:31.736894Z"
    }
   },
   "outputs": [],
   "source": [
    "#Pegando linha\n"
   ]
  },
  {
   "cell_type": "code",
   "execution_count": null,
   "metadata": {
    "ExecuteTime": {
     "end_time": "2021-04-06T23:29:37.345783Z",
     "start_time": "2021-04-06T23:29:37.337773Z"
    }
   },
   "outputs": [],
   "source": [
    "#Pegando linha por numero\n"
   ]
  },
  {
   "cell_type": "code",
   "execution_count": null,
   "metadata": {
    "ExecuteTime": {
     "end_time": "2021-04-06T23:30:21.881404Z",
     "start_time": "2021-04-06T23:30:21.873389Z"
    }
   },
   "outputs": [],
   "source": [
    "#pegando linha e coluna\n"
   ]
  },
  {
   "cell_type": "code",
   "execution_count": null,
   "metadata": {
    "ExecuteTime": {
     "end_time": "2021-04-06T23:41:58.233630Z",
     "start_time": "2021-04-06T23:41:58.212637Z"
    }
   },
   "outputs": [],
   "source": [
    "#nova coluna \n"
   ]
  },
  {
   "cell_type": "code",
   "execution_count": null,
   "metadata": {
    "ExecuteTime": {
     "end_time": "2021-04-06T23:41:59.093151Z",
     "start_time": "2021-04-06T23:41:59.075150Z"
    }
   },
   "outputs": [],
   "source": [
    "#remove mas não salva\n"
   ]
  },
  {
   "cell_type": "code",
   "execution_count": null,
   "metadata": {
    "ExecuteTime": {
     "end_time": "2021-04-06T23:42:05.436881Z",
     "start_time": "2021-04-06T23:42:05.420881Z"
    }
   },
   "outputs": [],
   "source": [
    "#remove e salva\n"
   ]
  },
  {
   "cell_type": "code",
   "execution_count": null,
   "metadata": {
    "ExecuteTime": {
     "end_time": "2021-04-06T23:42:17.658399Z",
     "start_time": "2021-04-06T23:42:17.637396Z"
    }
   },
   "outputs": [],
   "source": [
    "#retirando linhas\n"
   ]
  },
  {
   "cell_type": "code",
   "execution_count": null,
   "metadata": {
    "ExecuteTime": {
     "end_time": "2021-04-06T23:42:43.280904Z",
     "start_time": "2021-04-06T23:42:43.262900Z"
    }
   },
   "outputs": [],
   "source": [
    "#Seleções através de condições\n"
   ]
  },
  {
   "cell_type": "code",
   "execution_count": null,
   "metadata": {
    "ExecuteTime": {
     "end_time": "2021-04-06T23:42:58.462207Z",
     "start_time": "2021-04-06T23:42:58.444224Z"
    }
   },
   "outputs": [],
   "source": [
    "#utilizando condição como mascara para um novo dataFrame\n"
   ]
  },
  {
   "cell_type": "code",
   "execution_count": null,
   "metadata": {
    "ExecuteTime": {
     "end_time": "2021-04-06T23:43:48.627096Z",
     "start_time": "2021-04-06T23:43:48.612094Z"
    }
   },
   "outputs": [],
   "source": [
    "#porem não salva\n"
   ]
  },
  {
   "cell_type": "code",
   "execution_count": null,
   "metadata": {
    "ExecuteTime": {
     "end_time": "2021-04-06T23:44:20.653451Z",
     "start_time": "2021-04-06T23:44:20.644444Z"
    }
   },
   "outputs": [],
   "source": []
  },
  {
   "cell_type": "code",
   "execution_count": null,
   "metadata": {
    "ExecuteTime": {
     "end_time": "2021-04-06T23:44:40.275482Z",
     "start_time": "2021-04-06T23:44:40.254476Z"
    }
   },
   "outputs": [],
   "source": [
    "#retira a linha do y que tem um item menor que 0\n"
   ]
  },
  {
   "cell_type": "code",
   "execution_count": null,
   "metadata": {
    "ExecuteTime": {
     "end_time": "2021-04-06T23:49:12.290378Z",
     "start_time": "2021-04-06T23:49:12.277373Z"
    }
   },
   "outputs": [],
   "source": [
    "#Mesma operação de cima porem so retorna o linha z\n"
   ]
  },
  {
   "cell_type": "code",
   "execution_count": null,
   "metadata": {
    "ExecuteTime": {
     "end_time": "2021-04-06T23:50:28.046441Z",
     "start_time": "2021-04-06T23:50:28.032439Z"
    }
   },
   "outputs": [],
   "source": [
    "#resetando index\n"
   ]
  },
  {
   "cell_type": "code",
   "execution_count": null,
   "metadata": {
    "ExecuteTime": {
     "end_time": "2021-04-06T18:22:35.116944Z",
     "start_time": "2021-04-06T18:22:35.090081Z"
    }
   },
   "outputs": [],
   "source": [
    "#resetando index sem manter o index antigo\n"
   ]
  },
  {
   "cell_type": "code",
   "execution_count": null,
   "metadata": {
    "ExecuteTime": {
     "end_time": "2021-04-06T23:51:16.195879Z",
     "start_time": "2021-04-06T23:51:16.180359Z"
    }
   },
   "outputs": [],
   "source": [
    "#reordenando as colunas\n"
   ]
  },
  {
   "cell_type": "code",
   "execution_count": null,
   "metadata": {
    "ExecuteTime": {
     "end_time": "2021-04-06T23:55:34.425799Z",
     "start_time": "2021-04-06T23:55:34.408797Z"
    }
   },
   "outputs": [],
   "source": [
    "#Alterando o nome das colunas\n"
   ]
  },
  {
   "cell_type": "code",
   "execution_count": null,
   "metadata": {
    "ExecuteTime": {
     "end_time": "2021-04-06T23:55:44.110520Z",
     "start_time": "2021-04-06T23:55:44.093527Z"
    }
   },
   "outputs": [],
   "source": [
    "#criando novo index\n"
   ]
  },
  {
   "cell_type": "markdown",
   "metadata": {},
   "source": [
    "**indices multiplos**"
   ]
  },
  {
   "cell_type": "code",
   "execution_count": null,
   "metadata": {},
   "outputs": [],
   "source": []
  },
  {
   "cell_type": "markdown",
   "metadata": {},
   "source": [
    "#### Concats e merges"
   ]
  },
  {
   "cell_type": "code",
   "execution_count": null,
   "metadata": {},
   "outputs": [],
   "source": []
  },
  {
   "cell_type": "markdown",
   "metadata": {},
   "source": [
    "#### Importando dados"
   ]
  },
  {
   "cell_type": "code",
   "execution_count": null,
   "metadata": {},
   "outputs": [],
   "source": []
  }
 ],
 "metadata": {
  "hide_input": false,
  "kernelspec": {
   "display_name": "Python 3",
   "language": "python",
   "name": "python3"
  },
  "language_info": {
   "codemirror_mode": {
    "name": "ipython",
    "version": 3
   },
   "file_extension": ".py",
   "mimetype": "text/x-python",
   "name": "python",
   "nbconvert_exporter": "python",
   "pygments_lexer": "ipython3",
   "version": "3.8.10"
  },
  "toc": {
   "base_numbering": 1,
   "nav_menu": {},
   "number_sections": true,
   "sideBar": true,
   "skip_h1_title": false,
   "title_cell": "Table of Contents",
   "title_sidebar": "Contents",
   "toc_cell": false,
   "toc_position": {
    "height": "calc(100% - 180px)",
    "left": "10px",
    "top": "150px",
    "width": "361.321px"
   },
   "toc_section_display": true,
   "toc_window_display": true
  }
 },
 "nbformat": 4,
 "nbformat_minor": 2
}
