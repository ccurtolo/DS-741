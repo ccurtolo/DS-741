{
 "cells": [
  {
   "cell_type": "markdown",
   "metadata": {},
   "source": [
    "## Aula 12: Estatística Inferencial\n"
   ]
  },
  {
   "cell_type": "markdown",
   "metadata": {},
   "source": [
    "## 1. Noções Básicas\n",
    "\n",
    "Geralmente quando se prepara um macarrão, uma unidade desse é retirada para saber se o ponto de cozimento é o desejado. Quando um médico deseja identificar se um paciente está doente, alguns ml de sangue são retirados para análise. Note que nos dois casos, não seria conveniente analisar o todo, para chegar a uma conclusão satisfatória.  \n",
    "\n",
    "Em Estátistica, este procedimento de tirar uma parte do todo para validar alguma suposição é chamada de amostragem.  Em outras palavras, o procedimento amostral visa obter informações sobre o todo baseando-se no resultado de uma amostra.\n",
    "\n"
   ]
  },
  {
   "cell_type": "markdown",
   "metadata": {},
   "source": [
    "![amostra](../images/amostragem.png)"
   ]
  },
  {
   "cell_type": "markdown",
   "metadata": {},
   "source": [
    "### 1.1 Definições\n",
    "**População**: ou Universo é o conjunto de todas as unidades elementares de interesse. A população deve ser definida claramente e em termos da informação que se pretende conhecer.\n",
    "\n",
    "**Unidade**: trata-se de qualquer elemento da populaçao.\n",
    "\n",
    "**Amostra**: uma parte ou subconjunto da população\n",
    "\n",
    "**Censo**:  observação de todos os elementos da população.\n",
    "\n",
    "**Parâmetro Populacional**: é o vetor correspondente a todos os valores de uma variável de interesse. Pode ser qualitativa (gosto musical, opnião sobre o governo, etc) ou quantitativa (média, proporção, quantidade, etc).\n",
    "\n",
    "**Função Paramétrica Populacional**:  é uma característica numérica da população, ou seja, uma expressão numérica que condensa os valores do vetor de parâmetro populacional. Por exemplo, média, total, proporção, dentre outros.\n",
    "\n",
    "<br>\n",
    "\n",
    "**Exemplo 1**: Considere uma população formada por 4 alunos de uma escola. Com as seguintes caracteristicas:\n",
    "\n",
    "\n",
    "<table>\n",
    "    <th style=\"text-align: center; border: 1px solid black\">Variável</th>\n",
    "    <th style=\"text-align: center; border: 1px solid black\" colspan=\"4\">Valores</td>\n",
    "    <tr style=\" border: 1px solid black\">\n",
    "        <td style=\"text-align: center; border: 1px solid black\">Aluno</td>\n",
    "        <td style=\"text-align: center; border: 1px solid black\">1</td>\n",
    "        <td style=\"text-align: center; border: 1px solid black\">2</td>\n",
    "        <td style=\"text-align: center; border: 1px solid black\">3</td>\n",
    "        <td style=\"text-align: center; border: 1px solid black\">4</td>\n",
    "    </tr>\n",
    "    <tr style=\"text-align: center; border: 1px solid black\">\n",
    "        <td style=\"text-align: center; border: 1px solid black\">Nome</td>\n",
    "        <td style=\"text-align: center; border: 1px solid black\">Ana</td>\n",
    "        <td style=\"text-align: center; border: 1px solid black\">João</td>\n",
    "        <td style=\"text-align: center; border: 1px solid black\">Lucas</td>\n",
    "        <td style=\"text-align: center; border: 1px solid black\">Francisco</td>\n",
    "    </tr>\n",
    "    <tr style=\"text-align: center; border: 1px solid black\">\n",
    "        <td style=\"text-align: center; border: 1px solid black\">Idade</td>\n",
    "        <td style=\"text-align: center; border: 1px solid black\">8</td>\n",
    "        <td style=\"text-align: center; border: 1px solid black\">7</td>\n",
    "        <td style=\"text-align: center; border: 1px solid black\">8</td>\n",
    "        <td style=\"text-align: center; border: 1px solid black\">12</td>\n",
    "    </tr>\n",
    "        <tr style=\"text-align: center; border: 1px solid black\">\n",
    "        <td style=\"text-align: center; border: 1px solid black\">Sexo</td>\n",
    "        <td style=\"text-align: center; border: 1px solid black\">F</td>\n",
    "        <td style=\"text-align: center; border: 1px solid black\">M</td>\n",
    "        <td style=\"text-align: center; border: 1px solid black\">M</td>\n",
    "        <td style=\"text-align: center; border: 1px solid black\">M</td>\n",
    "    </tr>\n",
    "</table>\n",
    "\n",
    "\n",
    "Neste exemplo, cada aluno é um elemento da população. Com relação à amostragem os subconjuntos (Ana, João), (Francisco, Ana), (João) são **exemplos de amostra**. **Parâmetros populacionais**: idade = (8,7,8,12) e sexo = (F,M,M,M). Com relação às **funções paramétricas**, poderíamos definir:\n",
    "\n",
    "- Idade média: fazendo idade = Y:\n",
    "\n",
    "$$\\mu = \\overline{Y} = \\frac{\\sum_{i=1}^{4}Y_i}{4}=\\frac{8+7+8+12}{4}=8,75$$\n",
    "\n",
    "- Idade máxima: max(Y)= max(8,7,8,12) = 12\n",
    "\n",
    "\n",
    "- Porporção de meninas: sexo = Y = (F,M,M,M)\n",
    "\n",
    "$$p(F) = \\frac{1}{4} = 0,25 $$\n",
    "\n",
    "\n",
    "\n",
    "\n",
    "\n",
    "\n",
    "\n"
   ]
  },
  {
   "cell_type": "markdown",
   "metadata": {},
   "source": [
    "### 1.2 Tipos de Amostragem\n",
    "\n",
    "- **Amostra probabilística**: todos os elementos da população apresentam probabilidade maior que zero de serem selecionados\n",
    "\n",
    "\n",
    "- **Amostra não probabilística**: quando não há probabilidade clara/conhecida de seleção dos elementos. Os elementos são escolhidos de forma julgamental."
   ]
  },
  {
   "cell_type": "markdown",
   "metadata": {},
   "source": [
    "## 2. Métodos de Amostragem\n",
    "\n",
    "Neste material abordaremos apenas os métodos relacionados à amostragem probabilística, com o objetico de obter uma **amostra representativa**. Uma amostra é considerada representativa quando consegue **refletir as caracteristicas da população**."
   ]
  },
  {
   "cell_type": "markdown",
   "metadata": {},
   "source": [
    "### 2.1 Amostra Aleatória Simples\n",
    "\n",
    "Este é o método mais simples e mais importante de seleção de uma amostra, pois pode ser usada em combinação com outros métodos. A premissa assumida é que a população é homogênea com relação à característica de interesse.\n",
    "\n",
    "A amostra aleatória simples pode ser realizada com ou sem reposição. No caso em que há reposição, cada elemento pode ser sorteado mais de uma vez. Para exemplificar, suponha que se queira sortear um número aleatório de uma urna, se for uma AAS com preposição,  este número voltará para urna para participar do próximo sorteio. Se não houver reposição, cada elemento só poderá ser selecionado uma vez para compor a amostra.\n",
    " \n",
    " \n",
    "Considere uma população formada por $N$ elementos (conhecido e finito). Este método consiste em selecionar $n$ elementos, sendo que cada elemento tem a mesma probabilidade de ser selecionado"
   ]
  },
  {
   "cell_type": "markdown",
   "metadata": {},
   "source": [
    "**Exemplo 1**: Considere uma população formada por 20 alunos. Selecionar de forma aleatória 5 alunos, sem reposição."
   ]
  },
  {
   "cell_type": "code",
   "execution_count": null,
   "metadata": {
    "ExecuteTime": {
     "end_time": "2021-04-27T23:02:07.874866Z",
     "start_time": "2021-04-27T23:02:07.854798Z"
    }
   },
   "outputs": [],
   "source": [
    "import random\n",
    "N = list(range(1,21,1))\n",
    "print(\"População: \", N, \"\\n\")\n",
    "\n",
    "n = random.sample(N,5)\n",
    "print(\"Amostra: \",n)"
   ]
  },
  {
   "cell_type": "markdown",
   "metadata": {},
   "source": [
    "### 2.2 Amostra Sistemática\n",
    "\n",
    "Usada quando os elementos população estão ordenados (população de lista telefônica, casas em uma rua). \n",
    "\n",
    "Considere uma população de tamanho $N$ e que se queira uma amostra de tamanho $n$. O processo de amostragem deste método consiste em:\n",
    "\n",
    "- Dividir o tamanho populacional em $K$ partes:\n",
    "$$ k = \\frac{N}{n} $$\n",
    "\n",
    "- Definir a posição de início da amostragem (que também será o primeiro elemento da amostra). Para tal fim, é sorteado $i$ com o uso da amostra aleatória simples no intervalo, em que  $i \\in [1, k]$\n",
    "\n",
    "\n",
    "- A partir do elemento selecionado aleatoriamente, é realizada sucessão aritimética para selecionar os $n-1$ indivíduos restantes\n",
    "$$i, i + k, i + 2k, i + 3k, ...., i + (n-1)k$$\n",
    "\n"
   ]
  },
  {
   "cell_type": "markdown",
   "metadata": {},
   "source": [
    "Exemplo de algoritmo para amostragem sistemática:"
   ]
  },
  {
   "cell_type": "code",
   "execution_count": null,
   "metadata": {
    "ExecuteTime": {
     "end_time": "2021-04-27T23:08:47.754107Z",
     "start_time": "2021-04-27T23:08:47.748095Z"
    }
   },
   "outputs": [],
   "source": [
    "def amostra_sistematica(lista,n):\n",
    "    \n",
    "    k = int(len(lista)/n) #define o intervalo de seleção da amostra\n",
    "    print(\"K = \", k)\n",
    "\n",
    "    id_amostra = [] #cria lista para amarzenar os indices amostrados\n",
    "\n",
    "    elemento = random.randint(0, n) #sorteia o primeiro elemento da amostra\n",
    "\n",
    "    id_amostra.append(elemento) #guarda o elemento na lista\n",
    "\n",
    "    i = 1 #inicia contador\n",
    "\n",
    "    while (elemento+(k*i)) < len(lista): #loop para selecionar proximos elementos\n",
    "        elemento_add = elemento+(k*i)\n",
    "        id_amostra.append(elemento_add)\n",
    "        i += 1\n",
    "    \n",
    "    return(id_amostra)\n"
   ]
  },
  {
   "cell_type": "markdown",
   "metadata": {},
   "source": [
    "**Exemplo 2**: selecione 5 elementos, em uma polupaçao com 20 elementos ordenada (do 0 ao 10)"
   ]
  },
  {
   "cell_type": "code",
   "execution_count": null,
   "metadata": {
    "ExecuteTime": {
     "end_time": "2021-04-27T23:08:50.030993Z",
     "start_time": "2021-04-27T23:08:50.010778Z"
    }
   },
   "outputs": [],
   "source": [
    "N = list(range(0,20,1))\n",
    "print(\"População: \", N, \"\\n\")\n",
    "\n",
    "t=amostra_sistematica(N, 5)\n",
    "print (\"Posições amostradas:  \", t, \"\\n\") \n",
    "\n",
    "print (\"Lista de indíces-valores da lista original: \") \n",
    "print ([list((i, N[i])) for i in t]) "
   ]
  },
  {
   "cell_type": "markdown",
   "metadata": {},
   "source": [
    "### 2.3 Amostra Estratificada \n",
    "\n",
    "Trata-se do método em que a população é dividida em grupos (estratos) segundo alguma(s) característica(s) conhecida(s) na população sob estudo. São exemplos de estrato o gênero, faixa etária, região geográfica, profiissão. No geral, é usada quanto a população é heterogênea sob a ótica das características analisadas. Procedimento de amostragem:\n",
    "\n",
    "- Dividir as $N$ unidades da população em $N_1, N_2, \\cdots , N_j$ estratos distintos e homogêneos\n",
    "\n",
    "\n",
    "- Selecionar, ao acaso, uma amostra de tamanhos $n_1, n_2, \\cdots , n_j$ , de modo que o tamanho da amostra seja $n = n_1+n_2+ \\cdots +n_j$. O tamanho amostral pode ser proporcional à representatividade do estrato\n"
   ]
  },
  {
   "cell_type": "markdown",
   "metadata": {},
   "source": [
    "**Exemplo 3**: Considere a população formada pelos integrantes de uma escola. Dependendo do objetivo do estudo, esta população poderia ser dividida em alunos, professores, e demais funcionários (grupos mais homogêneos com relação à função na escola). Agora considere que a proporção de cada estrato seja: 60% alunos, 30% professores e 10% servidores. A amostragem poderia ser realizada dentro de cada estrato de forma que o tamanho amostral preserve esta característica. Sendo assim, se amostra total é $n$, a composição será $0,6 \\times n$ de alunos, $0,3\\times n$ de professores e $0,10\\times n$ de servidores.\n",
    "\n",
    "![estratos](../images/estratificada.png)\n"
   ]
  },
  {
   "cell_type": "markdown",
   "metadata": {},
   "source": [
    "### 2.4 Amostra por conglomerados\n",
    "\n",
    "A população é dividida em subpopulações (conglomerados) heterogêneas distintas (quarteirões, residências, famílias, bairros, etc.). Alguns dos conglomerados são selecionados segundo amostra aleatória simples e **todos os elementos** nos conglomerados selecionados são observados. Note que amostragem é feita sobre os conglomerados, e não mais sobre os indivíduos da população. Este procedimento amostral é adequado quando é possível dividir a população em um grande número de pequenas subpopulações.\n",
    "\n",
    "Geralmente este método é usado quando os sistemas de referência da população não são adequados e o custo para atualização é alto, ou quando identificar os elementos da população em campo é cara e consome muito tempo."
   ]
  },
  {
   "cell_type": "markdown",
   "metadata": {},
   "source": [
    "**Exemplo 4**: Suponha que o objetivo de uma pesquisa seja determinar a renda média familiar de moradores de uma cidade. Dificilmente dispõe-se de uma lista de famílias, a unidade elementar da população de interesse. Pode-se usar como sistema de referência a lista de setores censitários do IBGE. Neste caso, os setores censitários seriam os conglomerados.\n",
    "\n",
    "![cong](../images/conglomerado.png)"
   ]
  },
  {
   "cell_type": "markdown",
   "metadata": {},
   "source": [
    "## 3. Tamanho Amostral\n",
    "\n",
    "Ao se realizar uma amostra para inferir uma determinada função paramétrica (média, máximo ou outra função de um parâmetro), há um erro associado ao planejamento amostral. A medida que o tamanho da amostra aumenta, o erro do estimador decresce. Vale ressaltar que uma amostra muito grande pode implicar em custos desnecessários, enquanto que uma amostra pequena pode tornar a pesquisa inconclusiva. Deste modo, o ponto chave de um levantamento amostral é determinar o tamanho da amostra. \n"
   ]
  },
  {
   "cell_type": "markdown",
   "metadata": {},
   "source": [
    "**Exemplo 5**: Considere o exemplo em que se queira estimar a média da variável \"Petal length\" (base ires). O gráfico mostra que a relação entre tamanho da amostra e erro amostral não é linear, corroborando o que será discutido nesta seção."
   ]
  },
  {
   "cell_type": "code",
   "execution_count": 1,
   "metadata": {
    "ExecuteTime": {
     "end_time": "2021-04-27T23:15:48.142037Z",
     "start_time": "2021-04-27T23:15:48.124996Z"
    }
   },
   "outputs": [],
   "source": [
    "from sklearn import datasets\n",
    "import pandas as pd\n",
    "import matplotlib.pyplot as plt\n",
    "\n",
    "#leitura da base\n",
    "dataset = datasets.load_iris()\n",
    "iris_df = pd.DataFrame(dataset.data,columns=[\"Petal length\", \"Petal Width\",\"Sepal Length\",\"Sepal Width\"])\n"
   ]
  },
  {
   "cell_type": "code",
   "execution_count": 2,
   "metadata": {
    "ExecuteTime": {
     "end_time": "2021-04-27T23:15:55.777807Z",
     "start_time": "2021-04-27T23:15:55.760808Z"
    }
   },
   "outputs": [
    {
     "data": {
      "text/plain": [
       "(150, 4)"
      ]
     },
     "execution_count": 2,
     "metadata": {},
     "output_type": "execute_result"
    }
   ],
   "source": [
    "iris_df.shape"
   ]
  },
  {
   "cell_type": "code",
   "execution_count": 15,
   "metadata": {
    "ExecuteTime": {
     "end_time": "2021-04-27T23:18:19.295134Z",
     "start_time": "2021-04-27T23:18:19.272250Z"
    }
   },
   "outputs": [
    {
     "data": {
      "text/html": [
       "<div>\n",
       "<style scoped>\n",
       "    .dataframe tbody tr th:only-of-type {\n",
       "        vertical-align: middle;\n",
       "    }\n",
       "\n",
       "    .dataframe tbody tr th {\n",
       "        vertical-align: top;\n",
       "    }\n",
       "\n",
       "    .dataframe thead th {\n",
       "        text-align: right;\n",
       "    }\n",
       "</style>\n",
       "<table border=\"1\" class=\"dataframe\">\n",
       "  <thead>\n",
       "    <tr style=\"text-align: right;\">\n",
       "      <th></th>\n",
       "      <th>Petal length</th>\n",
       "      <th>Petal Width</th>\n",
       "      <th>Sepal Length</th>\n",
       "      <th>Sepal Width</th>\n",
       "    </tr>\n",
       "  </thead>\n",
       "  <tbody>\n",
       "    <tr>\n",
       "      <th>61</th>\n",
       "      <td>5.9</td>\n",
       "      <td>3.0</td>\n",
       "      <td>4.2</td>\n",
       "      <td>1.5</td>\n",
       "    </tr>\n",
       "    <tr>\n",
       "      <th>47</th>\n",
       "      <td>4.6</td>\n",
       "      <td>3.2</td>\n",
       "      <td>1.4</td>\n",
       "      <td>0.2</td>\n",
       "    </tr>\n",
       "    <tr>\n",
       "      <th>18</th>\n",
       "      <td>5.7</td>\n",
       "      <td>3.8</td>\n",
       "      <td>1.7</td>\n",
       "      <td>0.3</td>\n",
       "    </tr>\n",
       "  </tbody>\n",
       "</table>\n",
       "</div>"
      ],
      "text/plain": [
       "    Petal length  Petal Width  Sepal Length  Sepal Width\n",
       "61           5.9          3.0           4.2          1.5\n",
       "47           4.6          3.2           1.4          0.2\n",
       "18           5.7          3.8           1.7          0.3"
      ]
     },
     "execution_count": 15,
     "metadata": {},
     "output_type": "execute_result"
    }
   ],
   "source": [
    "iris_df.sample(3)"
   ]
  },
  {
   "cell_type": "code",
   "execution_count": 17,
   "metadata": {
    "ExecuteTime": {
     "end_time": "2021-04-27T23:18:55.836418Z",
     "start_time": "2021-04-27T23:18:55.321867Z"
    }
   },
   "outputs": [
    {
     "data": {
      "image/png": "[encoded data removed]",
      "text/plain": [
       "<Figure size 1440x720 with 1 Axes>"
      ]
     },
     "metadata": {
      "needs_background": "light"
     },
     "output_type": "display_data"
    }
   ],
   "source": [
    "from sklearn import datasets\n",
    "import pandas as pd\n",
    "import matplotlib.pyplot as plt\n",
    "\n",
    "#leitura da base\n",
    "dataset = datasets.load_iris()\n",
    "\n",
    "#transforma a base em dataframe\n",
    "iris_df = pd.DataFrame(dataset.data,columns=[\"Petal length\", \"Petal Width\",\"Sepal Length\",\"Sepal Width\"])\n",
    "\n",
    "#função parametrica (media) do parâmetro de interesse (Petal length)\n",
    "media = iris_df[\"Petal length\"].mean()\n",
    "\n",
    "#cria tabela para guardar resultados\n",
    "amostra_tab  = pd.DataFrame(columns = [\"n\", \"erro\"])\n",
    "\n",
    "#tamanho da amostra ideal\n",
    "i=2\n",
    "\n",
    "#loop que calcula o erro entre o estimador da função parâmetrica (media amostral) e a media populacional\n",
    "while i <= iris_df.shape[0]:\n",
    "    amostra_tab = amostra_tab.append(\n",
    "                pd.DataFrame({\"n\":[i], \n",
    "                              \"erro\":[abs(media-iris_df.sample(i, random_state=123)['Petal length'].mean())\n",
    "                                    ]}))\n",
    "    i += 1\n",
    "    \n",
    "# amostra_tab    \n",
    "#plota o grafico da amostra versus o erro    \n",
    "fig = plt.figure(figsize=(20, 10))\n",
    "ax = plt.axes()\n",
    "\n",
    "ax.plot(amostra_tab[\"n\"], amostra_tab[\"erro\"]);"
   ]
  },
  {
   "cell_type": "code",
   "execution_count": 19,
   "metadata": {
    "ExecuteTime": {
     "end_time": "2021-04-27T23:21:01.566782Z",
     "start_time": "2021-04-27T23:21:01.012784Z"
    }
   },
   "outputs": [
    {
     "data": {
      "application/vnd.plotly.v1+json": {
       "config": {
        "plotlyServerURL": "https://plot.ly"
       },
       "data": [
        {
         "mode": "lines",
         "name": "lines",
         "type": "scatter",
         "x": [
          2,
          3,
          4,
          5,
          6,
          7,
          8,
          9,
          10,
          11,
          12,
          13,
          14,
          15,
          16,
          17,
          18,
          19,
          20,
          21,
          22,
          23,
          24,
          25,
          26,
          27,
          28,
          29,
          30,
          31,
          32,
          33,
          34,
          35,
          36,
          37,
          38,
          39,
          40,
          41,
          42,
          43,
          44,
          45,
          46,
          47,
          48,
          49,
          50,
          51,
          52,
          53,
          54,
          55,
          56,
          57,
          58,
          59,
          60,
          61,
          62,
          63,
          64,
          65,
          66,
          67,
          68,
          69,
          70,
          71,
          72,
          73,
          74,
          75,
          76,
          77,
          78,
          79,
          80,
          81,
          82,
          83,
          84,
          85,
          86,
          87,
          88,
          89,
          90,
          91,
          92,
          93,
          94,
          95,
          96,
          97,
          98,
          99,
          100,
          101,
          102,
          103,
          104,
          105,
          106,
          107,
          108,
          109,
          110,
          111,
          112,
          113,
          114,
          115,
          116,
          117,
          118,
          119,
          120,
          121,
          122,
          123,
          124,
          125,
          126,
          127,
          128,
          129,
          130,
          131,
          132,
          133,
          134,
          135,
          136,
          137,
          138,
          139,
          140,
          141,
          142,
          143,
          144,
          145,
          146,
          147,
          148,
          149,
          150
         ],
         "y": [
          0.7066666666666661,
          0.6566666666666663,
          0.43166666666666664,
          0.1566666666666663,
          0.1566666666666663,
          0.199523809523809,
          0.005833333333333357,
          0.16555555555555568,
          0.18333333333333357,
          0.07060606060606123,
          0.09333333333333371,
          0.13564102564102587,
          0.07904761904761948,
          0.04999999999999982,
          0.08791666666666664,
          0.06254901960784309,
          0.026666666666667282,
          0.011754385964913183,
          0.06333333333333435,
          0.09095238095238134,
          0.06606060606060637,
          0.10855072463768156,
          0.09333333333333371,
          0.11933333333333351,
          0.13179487179487204,
          0.14333333333333353,
          0.14690476190476254,
          0.07781609195402339,
          0.10333333333333439,
          0.049784946236560046,
          0.04333333333333389,
          0.07666666666666799,
          0.09627450980392283,
          0.08904761904762015,
          0.11000000000000121,
          0.05144144144144214,
          0.061754385964913006,
          0.071538461538462,
          0.07083333333333464,
          0.08967479674796852,
          0.10761904761904884,
          0.08286821705426384,
          0.06151515151515241,
          0.06111111111111178,
          0.060724637681159876,
          0.04971631205673788,
          0.055833333333334956,
          0.06986394557823239,
          0.09733333333333505,
          0.08254901960784444,
          0.09525641025641107,
          0.11125786163522111,
          0.0933333333333346,
          0.08696969696969781,
          0.09154761904761877,
          0.09245614035087701,
          0.09160919540229884,
          0.07553672316384219,
          0.06500000000000039,
          0.08595628415300638,
          0.0707526881720435,
          0.07190476190476325,
          0.08239583333333389,
          0.09717948717948754,
          0.08878787878787886,
          0.07915422885572188,
          0.050686274509804896,
          0.023043478260870387,
          0.0333333333333341,
          0.025023474178405003,
          0.029444444444444606,
          0.028264840182648854,
          0.041981981981981775,
          0.023333333333333428,
          0.01701754385964893,
          0.0017748917748923176,
          0.01256410256410323,
          0.00535864978902989,
          0.0004166666666662877,
          0.010000000000000675,
          0.021382113821139193,
          0.018032128514057,
          0.010000000000000675,
          0.004509803921568967,
          0.004961240310077386,
          0.019195402298850084,
          0.022878787878789275,
          0.03209737827715475,
          0.03111111111111242,
          0.019157509157510688,
          0.030289855072465954,
          0.020752688172044564,
          0.02205673758865334,
          0.023333333333334316,
          0.014166666666667993,
          0.026838487972510094,
          0.031088435374151402,
          0.023131313131314002,
          0.008333333333334636,
          0.0007590759075917219,
          0.0031372549019614837,
          0.005469255663431483,
          0.017371794871795743,
          0.025238095238095504,
          0.01597484276729677,
          0.013426791277259653,
          0.02203703703703841,
          0.027737003058105003,
          0.02969696969697022,
          0.02801801801801851,
          0.024583333333334068,
          0.013244837758112915,
          0.0038596491228082286,
          0.004202898550725642,
          0.0054022988505755265,
          0.009658119658118913,
          0.0024293785310725013,
          0.002156862745098742,
          0.0016666666666678154,
          0.007079889807161344,
          0.011584699453550229,
          0.02252032520325109,
          0.027634408602149385,
          0.02146666666666519,
          0.017777777777776116,
          0.008635170603673359,
          0.008229166666666288,
          0.007054263565891006,
          0.0005128205128199781,
          0.003231552162848317,
          0.009696969696968871,
          0.010802005012529925,
          0.017114427860695614,
          0.021111111111109082,
          0.016225490196077885,
          0.017980535279805032,
          0.008840579710144958,
          0.011342925659471703,
          0.010238095238094935,
          0.009148936170213062,
          0.0024413145539892156,
          0.005617715617715291,
          0.0009722222222219301,
          0.00011494252873589517,
          0.0049771689497717375,
          0.009999999999999787,
          0.011576576576575626,
          0.009105145413869309,
          0
         ]
        }
       ],
       "layout": {
        "template": {
         "data": {
          "bar": [
           {
            "error_x": {
             "color": "#2a3f5f"
            },
            "error_y": {
             "color": "#2a3f5f"
            },
            "marker": {
             "line": {
              "color": "#E5ECF6",
              "width": 0.5
             },
             "pattern": {
              "fillmode": "overlay",
              "size": 10,
              "solidity": 0.2
             }
            },
            "type": "bar"
           }
          ],
          "barpolar": [
           {
            "marker": {
             "line": {
              "color": "#E5ECF6",
              "width": 0.5
             },
             "pattern": {
              "fillmode": "overlay",
              "size": 10,
              "solidity": 0.2
             }
            },
            "type": "barpolar"
           }
          ],
          "carpet": [
           {
            "aaxis": {
             "endlinecolor": "#2a3f5f",
             "gridcolor": "white",
             "linecolor": "white",
             "minorgridcolor": "white",
             "startlinecolor": "#2a3f5f"
            },
            "baxis": {
             "endlinecolor": "#2a3f5f",
             "gridcolor": "white",
             "linecolor": "white",
             "minorgridcolor": "white",
             "startlinecolor": "#2a3f5f"
            },
            "type": "carpet"
           }
          ],
          "choropleth": [
           {
            "colorbar": {
             "outlinewidth": 0,
             "ticks": ""
            },
            "type": "choropleth"
           }
          ],
          "contour": [
           {
            "colorbar": {
             "outlinewidth": 0,
             "ticks": ""
            },
            "colorscale": [
             [
              0,
              "#0d0887"
             ],
             [
              0.1111111111111111,
              "#46039f"
             ],
             [
              0.2222222222222222,
              "#7201a8"
             ],
             [
              0.3333333333333333,
              "#9c179e"
             ],
             [
              0.4444444444444444,
              "#bd3786"
             ],
             [
              0.5555555555555556,
              "#d8576b"
             ],
             [
              0.6666666666666666,
              "#ed7953"
             ],
             [
              0.7777777777777778,
              "#fb9f3a"
             ],
             [
              0.8888888888888888,
              "#fdca26"
             ],
             [
              1,
              "#f0f921"
             ]
            ],
            "type": "contour"
           }
          ],
          "contourcarpet": [
           {
            "colorbar": {
             "outlinewidth": 0,
             "ticks": ""
            },
            "type": "contourcarpet"
           }
          ],
          "heatmap": [
           {
            "colorbar": {
             "outlinewidth": 0,
             "ticks": ""
            },
            "colorscale": [
             [
              0,
              "#0d0887"
             ],
             [
              0.1111111111111111,
              "#46039f"
             ],
             [
              0.2222222222222222,
              "#7201a8"
             ],
             [
              0.3333333333333333,
              "#9c179e"
             ],
             [
              0.4444444444444444,
              "#bd3786"
             ],
             [
              0.5555555555555556,
              "#d8576b"
             ],
             [
              0.6666666666666666,
              "#ed7953"
             ],
             [
              0.7777777777777778,
              "#fb9f3a"
             ],
             [
              0.8888888888888888,
              "#fdca26"
             ],
             [
              1,
              "#f0f921"
             ]
            ],
            "type": "heatmap"
           }
          ],
          "heatmapgl": [
           {
            "colorbar": {
             "outlinewidth": 0,
             "ticks": ""
            },
            "colorscale": [
             [
              0,
              "#0d0887"
             ],
             [
              0.1111111111111111,
              "#46039f"
             ],
             [
              0.2222222222222222,
              "#7201a8"
             ],
             [
              0.3333333333333333,
              "#9c179e"
             ],
             [
              0.4444444444444444,
              "#bd3786"
             ],
             [
              0.5555555555555556,
              "#d8576b"
             ],
             [
              0.6666666666666666,
              "#ed7953"
             ],
             [
              0.7777777777777778,
              "#fb9f3a"
             ],
             [
              0.8888888888888888,
              "#fdca26"
             ],
             [
              1,
              "#f0f921"
             ]
            ],
            "type": "heatmapgl"
           }
          ],
          "histogram": [
           {
            "marker": {
             "pattern": {
              "fillmode": "overlay",
              "size": 10,
              "solidity": 0.2
             }
            },
            "type": "histogram"
           }
          ],
          "histogram2d": [
           {
            "colorbar": {
             "outlinewidth": 0,
             "ticks": ""
            },
            "colorscale": [
             [
              0,
              "#0d0887"
             ],
             [
              0.1111111111111111,
              "#46039f"
             ],
             [
              0.2222222222222222,
              "#7201a8"
             ],
             [
              0.3333333333333333,
              "#9c179e"
             ],
             [
              0.4444444444444444,
              "#bd3786"
             ],
             [
              0.5555555555555556,
              "#d8576b"
             ],
             [
              0.6666666666666666,
              "#ed7953"
             ],
             [
              0.7777777777777778,
              "#fb9f3a"
             ],
             [
              0.8888888888888888,
              "#fdca26"
             ],
             [
              1,
              "#f0f921"
             ]
            ],
            "type": "histogram2d"
           }
          ],
          "histogram2dcontour": [
           {
            "colorbar": {
             "outlinewidth": 0,
             "ticks": ""
            },
            "colorscale": [
             [
              0,
              "#0d0887"
             ],
             [
              0.1111111111111111,
              "#46039f"
             ],
             [
              0.2222222222222222,
              "#7201a8"
             ],
             [
              0.3333333333333333,
              "#9c179e"
             ],
             [
              0.4444444444444444,
              "#bd3786"
             ],
             [
              0.5555555555555556,
              "#d8576b"
             ],
             [
              0.6666666666666666,
              "#ed7953"
             ],
             [
              0.7777777777777778,
              "#fb9f3a"
             ],
             [
              0.8888888888888888,
              "#fdca26"
             ],
             [
              1,
              "#f0f921"
             ]
            ],
            "type": "histogram2dcontour"
           }
          ],
          "mesh3d": [
           {
            "colorbar": {
             "outlinewidth": 0,
             "ticks": ""
            },
            "type": "mesh3d"
           }
          ],
          "parcoords": [
           {
            "line": {
             "colorbar": {
              "outlinewidth": 0,
              "ticks": ""
             }
            },
            "type": "parcoords"
           }
          ],
          "pie": [
           {
            "automargin": true,
            "type": "pie"
           }
          ],
          "scatter": [
           {
            "marker": {
             "colorbar": {
              "outlinewidth": 0,
              "ticks": ""
             }
            },
            "type": "scatter"
           }
          ],
          "scatter3d": [
           {
            "line": {
             "colorbar": {
              "outlinewidth": 0,
              "ticks": ""
             }
            },
            "marker": {
             "colorbar": {
              "outlinewidth": 0,
              "ticks": ""
             }
            },
            "type": "scatter3d"
           }
          ],
          "scattercarpet": [
           {
            "marker": {
             "colorbar": {
              "outlinewidth": 0,
              "ticks": ""
             }
            },
            "type": "scattercarpet"
           }
          ],
          "scattergeo": [
           {
            "marker": {
             "colorbar": {
              "outlinewidth": 0,
              "ticks": ""
             }
            },
            "type": "scattergeo"
           }
          ],
          "scattergl": [
           {
            "marker": {
             "colorbar": {
              "outlinewidth": 0,
              "ticks": ""
             }
            },
            "type": "scattergl"
           }
          ],
          "scattermapbox": [
           {
            "marker": {
             "colorbar": {
              "outlinewidth": 0,
              "ticks": ""
             }
            },
            "type": "scattermapbox"
           }
          ],
          "scatterpolar": [
           {
            "marker": {
             "colorbar": {
              "outlinewidth": 0,
              "ticks": ""
             }
            },
            "type": "scatterpolar"
           }
          ],
          "scatterpolargl": [
           {
            "marker": {
             "colorbar": {
              "outlinewidth": 0,
              "ticks": ""
             }
            },
            "type": "scatterpolargl"
           }
          ],
          "scatterternary": [
           {
            "marker": {
             "colorbar": {
              "outlinewidth": 0,
              "ticks": ""
             }
            },
            "type": "scatterternary"
           }
          ],
          "surface": [
           {
            "colorbar": {
             "outlinewidth": 0,
             "ticks": ""
            },
            "colorscale": [
             [
              0,
              "#0d0887"
             ],
             [
              0.1111111111111111,
              "#46039f"
             ],
             [
              0.2222222222222222,
              "#7201a8"
             ],
             [
              0.3333333333333333,
              "#9c179e"
             ],
             [
              0.4444444444444444,
              "#bd3786"
             ],
             [
              0.5555555555555556,
              "#d8576b"
             ],
             [
              0.6666666666666666,
              "#ed7953"
             ],
             [
              0.7777777777777778,
              "#fb9f3a"
             ],
             [
              0.8888888888888888,
              "#fdca26"
             ],
             [
              1,
              "#f0f921"
             ]
            ],
            "type": "surface"
           }
          ],
          "table": [
           {
            "cells": {
             "fill": {
              "color": "#EBF0F8"
             },
             "line": {
              "color": "white"
             }
            },
            "header": {
             "fill": {
              "color": "#C8D4E3"
             },
             "line": {
              "color": "white"
             }
            },
            "type": "table"
           }
          ]
         },
         "layout": {
          "annotationdefaults": {
           "arrowcolor": "#2a3f5f",
           "arrowhead": 0,
           "arrowwidth": 1
          },
          "autotypenumbers": "strict",
          "coloraxis": {
           "colorbar": {
            "outlinewidth": 0,
            "ticks": ""
           }
          },
          "colorscale": {
           "diverging": [
            [
             0,
             "#8e0152"
            ],
            [
             0.1,
             "#c51b7d"
            ],
            [
             0.2,
             "#de77ae"
            ],
            [
             0.3,
             "#f1b6da"
            ],
            [
             0.4,
             "#fde0ef"
            ],
            [
             0.5,
             "#f7f7f7"
            ],
            [
             0.6,
             "#e6f5d0"
            ],
            [
             0.7,
             "#b8e186"
            ],
            [
             0.8,
             "#7fbc41"
            ],
            [
             0.9,
             "#4d9221"
            ],
            [
             1,
             "#276419"
            ]
           ],
           "sequential": [
            [
             0,
             "#0d0887"
            ],
            [
             0.1111111111111111,
             "#46039f"
            ],
            [
             0.2222222222222222,
             "#7201a8"
            ],
            [
             0.3333333333333333,
             "#9c179e"
            ],
            [
             0.4444444444444444,
             "#bd3786"
            ],
            [
             0.5555555555555556,
             "#d8576b"
            ],
            [
             0.6666666666666666,
             "#ed7953"
            ],
            [
             0.7777777777777778,
             "#fb9f3a"
            ],
            [
             0.8888888888888888,
             "#fdca26"
            ],
            [
             1,
             "#f0f921"
            ]
           ],
           "sequentialminus": [
            [
             0,
             "#0d0887"
            ],
            [
             0.1111111111111111,
             "#46039f"
            ],
            [
             0.2222222222222222,
             "#7201a8"
            ],
            [
             0.3333333333333333,
             "#9c179e"
            ],
            [
             0.4444444444444444,
             "#bd3786"
            ],
            [
             0.5555555555555556,
             "#d8576b"
            ],
            [
             0.6666666666666666,
             "#ed7953"
            ],
            [
             0.7777777777777778,
             "#fb9f3a"
            ],
            [
             0.8888888888888888,
             "#fdca26"
            ],
            [
             1,
             "#f0f921"
            ]
           ]
          },
          "colorway": [
           "#636efa",
           "#EF553B",
           "#00cc96",
           "#ab63fa",
           "#FFA15A",
           "#19d3f3",
           "#FF6692",
           "#B6E880",
           "#FF97FF",
           "#FECB52"
          ],
          "font": {
           "color": "#2a3f5f"
          },
          "geo": {
           "bgcolor": "white",
           "lakecolor": "white",
           "landcolor": "#E5ECF6",
           "showlakes": true,
           "showland": true,
           "subunitcolor": "white"
          },
          "hoverlabel": {
           "align": "left"
          },
          "hovermode": "closest",
          "mapbox": {
           "style": "light"
          },
          "paper_bgcolor": "white",
          "plot_bgcolor": "#E5ECF6",
          "polar": {
           "angularaxis": {
            "gridcolor": "white",
            "linecolor": "white",
            "ticks": ""
           },
           "bgcolor": "#E5ECF6",
           "radialaxis": {
            "gridcolor": "white",
            "linecolor": "white",
            "ticks": ""
           }
          },
          "scene": {
           "xaxis": {
            "backgroundcolor": "#E5ECF6",
            "gridcolor": "white",
            "gridwidth": 2,
            "linecolor": "white",
            "showbackground": true,
            "ticks": "",
            "zerolinecolor": "white"
           },
           "yaxis": {
            "backgroundcolor": "#E5ECF6",
            "gridcolor": "white",
            "gridwidth": 2,
            "linecolor": "white",
            "showbackground": true,
            "ticks": "",
            "zerolinecolor": "white"
           },
           "zaxis": {
            "backgroundcolor": "#E5ECF6",
            "gridcolor": "white",
            "gridwidth": 2,
            "linecolor": "white",
            "showbackground": true,
            "ticks": "",
            "zerolinecolor": "white"
           }
          },
          "shapedefaults": {
           "line": {
            "color": "#2a3f5f"
           }
          },
          "ternary": {
           "aaxis": {
            "gridcolor": "white",
            "linecolor": "white",
            "ticks": ""
           },
           "baxis": {
            "gridcolor": "white",
            "linecolor": "white",
            "ticks": ""
           },
           "bgcolor": "#E5ECF6",
           "caxis": {
            "gridcolor": "white",
            "linecolor": "white",
            "ticks": ""
           }
          },
          "title": {
           "x": 0.05
          },
          "xaxis": {
           "automargin": true,
           "gridcolor": "white",
           "linecolor": "white",
           "ticks": "",
           "title": {
            "standoff": 15
           },
           "zerolinecolor": "white",
           "zerolinewidth": 2
          },
          "yaxis": {
           "automargin": true,
           "gridcolor": "white",
           "linecolor": "white",
           "ticks": "",
           "title": {
            "standoff": 15
           },
           "zerolinecolor": "white",
           "zerolinewidth": 2
          }
         }
        },
        "title": {
         "text": "Tamanho Amostral X Erro"
        },
        "xaxis": {
         "title": {
          "text": "Tamanho Amostral"
         }
        },
        "yaxis": {
         "title": {
          "text": "Erro"
         }
        }
       }
      },
      "text/html": [
       "<div>                            <div id=\"c1124aaf-68f2-431a-847b-56d0255d1321\" class=\"plotly-graph-div\" style=\"height:525px; width:100%;\"></div>            <script type=\"text/javascript\">                require([\"plotly\"], function(Plotly) {                    window.PLOTLYENV=window.PLOTLYENV || {};                                    if (document.getElementById(\"c1124aaf-68f2-431a-847b-56d0255d1321\")) {                    Plotly.newPlot(                        \"c1124aaf-68f2-431a-847b-56d0255d1321\",                        [{\"mode\":\"lines\",\"name\":\"lines\",\"type\":\"scatter\",\"x\":[2,3,4,5,6,7,8,9,10,11,12,13,14,15,16,17,18,19,20,21,22,23,24,25,26,27,28,29,30,31,32,33,34,35,36,37,38,39,40,41,42,43,44,45,46,47,48,49,50,51,52,53,54,55,56,57,58,59,60,61,62,63,64,65,66,67,68,69,70,71,72,73,74,75,76,77,78,79,80,81,82,83,84,85,86,87,88,89,90,91,92,93,94,95,96,97,98,99,100,101,102,103,104,105,106,107,108,109,110,111,112,113,114,115,116,117,118,119,120,121,122,123,124,125,126,127,128,129,130,131,132,133,134,135,136,137,138,139,140,141,142,143,144,145,146,147,148,149,150],\"y\":[0.7066666666666661,0.6566666666666663,0.43166666666666664,0.1566666666666663,0.1566666666666663,0.199523809523809,0.005833333333333357,0.16555555555555568,0.18333333333333357,0.07060606060606123,0.09333333333333371,0.13564102564102587,0.07904761904761948,0.04999999999999982,0.08791666666666664,0.06254901960784309,0.026666666666667282,0.011754385964913183,0.06333333333333435,0.09095238095238134,0.06606060606060637,0.10855072463768156,0.09333333333333371,0.11933333333333351,0.13179487179487204,0.14333333333333353,0.14690476190476254,0.07781609195402339,0.10333333333333439,0.049784946236560046,0.04333333333333389,0.07666666666666799,0.09627450980392283,0.08904761904762015,0.11000000000000121,0.05144144144144214,0.061754385964913006,0.071538461538462,0.07083333333333464,0.08967479674796852,0.10761904761904884,0.08286821705426384,0.06151515151515241,0.06111111111111178,0.060724637681159876,0.04971631205673788,0.055833333333334956,0.06986394557823239,0.09733333333333505,0.08254901960784444,0.09525641025641107,0.11125786163522111,0.0933333333333346,0.08696969696969781,0.09154761904761877,0.09245614035087701,0.09160919540229884,0.07553672316384219,0.06500000000000039,0.08595628415300638,0.0707526881720435,0.07190476190476325,0.08239583333333389,0.09717948717948754,0.08878787878787886,0.07915422885572188,0.050686274509804896,0.023043478260870387,0.0333333333333341,0.025023474178405003,0.029444444444444606,0.028264840182648854,0.041981981981981775,0.023333333333333428,0.01701754385964893,0.0017748917748923176,0.01256410256410323,0.00535864978902989,0.0004166666666662877,0.010000000000000675,0.021382113821139193,0.018032128514057,0.010000000000000675,0.004509803921568967,0.004961240310077386,0.019195402298850084,0.022878787878789275,0.03209737827715475,0.03111111111111242,0.019157509157510688,0.030289855072465954,0.020752688172044564,0.02205673758865334,0.023333333333334316,0.014166666666667993,0.026838487972510094,0.031088435374151402,0.023131313131314002,0.008333333333334636,0.0007590759075917219,0.0031372549019614837,0.005469255663431483,0.017371794871795743,0.025238095238095504,0.01597484276729677,0.013426791277259653,0.02203703703703841,0.027737003058105003,0.02969696969697022,0.02801801801801851,0.024583333333334068,0.013244837758112915,0.0038596491228082286,0.004202898550725642,0.0054022988505755265,0.009658119658118913,0.0024293785310725013,0.002156862745098742,0.0016666666666678154,0.007079889807161344,0.011584699453550229,0.02252032520325109,0.027634408602149385,0.02146666666666519,0.017777777777776116,0.008635170603673359,0.008229166666666288,0.007054263565891006,0.0005128205128199781,0.003231552162848317,0.009696969696968871,0.010802005012529925,0.017114427860695614,0.021111111111109082,0.016225490196077885,0.017980535279805032,0.008840579710144958,0.011342925659471703,0.010238095238094935,0.009148936170213062,0.0024413145539892156,0.005617715617715291,0.0009722222222219301,0.00011494252873589517,0.0049771689497717375,0.009999999999999787,0.011576576576575626,0.009105145413869309,0.0]}],                        {\"template\":{\"data\":{\"bar\":[{\"error_x\":{\"color\":\"#2a3f5f\"},\"error_y\":{\"color\":\"#2a3f5f\"},\"marker\":{\"line\":{\"color\":\"#E5ECF6\",\"width\":0.5},\"pattern\":{\"fillmode\":\"overlay\",\"size\":10,\"solidity\":0.2}},\"type\":\"bar\"}],\"barpolar\":[{\"marker\":{\"line\":{\"color\":\"#E5ECF6\",\"width\":0.5},\"pattern\":{\"fillmode\":\"overlay\",\"size\":10,\"solidity\":0.2}},\"type\":\"barpolar\"}],\"carpet\":[{\"aaxis\":{\"endlinecolor\":\"#2a3f5f\",\"gridcolor\":\"white\",\"linecolor\":\"white\",\"minorgridcolor\":\"white\",\"startlinecolor\":\"#2a3f5f\"},\"baxis\":{\"endlinecolor\":\"#2a3f5f\",\"gridcolor\":\"white\",\"linecolor\":\"white\",\"minorgridcolor\":\"white\",\"startlinecolor\":\"#2a3f5f\"},\"type\":\"carpet\"}],\"choropleth\":[{\"colorbar\":{\"outlinewidth\":0,\"ticks\":\"\"},\"type\":\"choropleth\"}],\"contour\":[{\"colorbar\":{\"outlinewidth\":0,\"ticks\":\"\"},\"colorscale\":[[0.0,\"#0d0887\"],[0.1111111111111111,\"#46039f\"],[0.2222222222222222,\"#7201a8\"],[0.3333333333333333,\"#9c179e\"],[0.4444444444444444,\"#bd3786\"],[0.5555555555555556,\"#d8576b\"],[0.6666666666666666,\"#ed7953\"],[0.7777777777777778,\"#fb9f3a\"],[0.8888888888888888,\"#fdca26\"],[1.0,\"#f0f921\"]],\"type\":\"contour\"}],\"contourcarpet\":[{\"colorbar\":{\"outlinewidth\":0,\"ticks\":\"\"},\"type\":\"contourcarpet\"}],\"heatmap\":[{\"colorbar\":{\"outlinewidth\":0,\"ticks\":\"\"},\"colorscale\":[[0.0,\"#0d0887\"],[0.1111111111111111,\"#46039f\"],[0.2222222222222222,\"#7201a8\"],[0.3333333333333333,\"#9c179e\"],[0.4444444444444444,\"#bd3786\"],[0.5555555555555556,\"#d8576b\"],[0.6666666666666666,\"#ed7953\"],[0.7777777777777778,\"#fb9f3a\"],[0.8888888888888888,\"#fdca26\"],[1.0,\"#f0f921\"]],\"type\":\"heatmap\"}],\"heatmapgl\":[{\"colorbar\":{\"outlinewidth\":0,\"ticks\":\"\"},\"colorscale\":[[0.0,\"#0d0887\"],[0.1111111111111111,\"#46039f\"],[0.2222222222222222,\"#7201a8\"],[0.3333333333333333,\"#9c179e\"],[0.4444444444444444,\"#bd3786\"],[0.5555555555555556,\"#d8576b\"],[0.6666666666666666,\"#ed7953\"],[0.7777777777777778,\"#fb9f3a\"],[0.8888888888888888,\"#fdca26\"],[1.0,\"#f0f921\"]],\"type\":\"heatmapgl\"}],\"histogram\":[{\"marker\":{\"pattern\":{\"fillmode\":\"overlay\",\"size\":10,\"solidity\":0.2}},\"type\":\"histogram\"}],\"histogram2d\":[{\"colorbar\":{\"outlinewidth\":0,\"ticks\":\"\"},\"colorscale\":[[0.0,\"#0d0887\"],[0.1111111111111111,\"#46039f\"],[0.2222222222222222,\"#7201a8\"],[0.3333333333333333,\"#9c179e\"],[0.4444444444444444,\"#bd3786\"],[0.5555555555555556,\"#d8576b\"],[0.6666666666666666,\"#ed7953\"],[0.7777777777777778,\"#fb9f3a\"],[0.8888888888888888,\"#fdca26\"],[1.0,\"#f0f921\"]],\"type\":\"histogram2d\"}],\"histogram2dcontour\":[{\"colorbar\":{\"outlinewidth\":0,\"ticks\":\"\"},\"colorscale\":[[0.0,\"#0d0887\"],[0.1111111111111111,\"#46039f\"],[0.2222222222222222,\"#7201a8\"],[0.3333333333333333,\"#9c179e\"],[0.4444444444444444,\"#bd3786\"],[0.5555555555555556,\"#d8576b\"],[0.6666666666666666,\"#ed7953\"],[0.7777777777777778,\"#fb9f3a\"],[0.8888888888888888,\"#fdca26\"],[1.0,\"#f0f921\"]],\"type\":\"histogram2dcontour\"}],\"mesh3d\":[{\"colorbar\":{\"outlinewidth\":0,\"ticks\":\"\"},\"type\":\"mesh3d\"}],\"parcoords\":[{\"line\":{\"colorbar\":{\"outlinewidth\":0,\"ticks\":\"\"}},\"type\":\"parcoords\"}],\"pie\":[{\"automargin\":true,\"type\":\"pie\"}],\"scatter\":[{\"marker\":{\"colorbar\":{\"outlinewidth\":0,\"ticks\":\"\"}},\"type\":\"scatter\"}],\"scatter3d\":[{\"line\":{\"colorbar\":{\"outlinewidth\":0,\"ticks\":\"\"}},\"marker\":{\"colorbar\":{\"outlinewidth\":0,\"ticks\":\"\"}},\"type\":\"scatter3d\"}],\"scattercarpet\":[{\"marker\":{\"colorbar\":{\"outlinewidth\":0,\"ticks\":\"\"}},\"type\":\"scattercarpet\"}],\"scattergeo\":[{\"marker\":{\"colorbar\":{\"outlinewidth\":0,\"ticks\":\"\"}},\"type\":\"scattergeo\"}],\"scattergl\":[{\"marker\":{\"colorbar\":{\"outlinewidth\":0,\"ticks\":\"\"}},\"type\":\"scattergl\"}],\"scattermapbox\":[{\"marker\":{\"colorbar\":{\"outlinewidth\":0,\"ticks\":\"\"}},\"type\":\"scattermapbox\"}],\"scatterpolar\":[{\"marker\":{\"colorbar\":{\"outlinewidth\":0,\"ticks\":\"\"}},\"type\":\"scatterpolar\"}],\"scatterpolargl\":[{\"marker\":{\"colorbar\":{\"outlinewidth\":0,\"ticks\":\"\"}},\"type\":\"scatterpolargl\"}],\"scatterternary\":[{\"marker\":{\"colorbar\":{\"outlinewidth\":0,\"ticks\":\"\"}},\"type\":\"scatterternary\"}],\"surface\":[{\"colorbar\":{\"outlinewidth\":0,\"ticks\":\"\"},\"colorscale\":[[0.0,\"#0d0887\"],[0.1111111111111111,\"#46039f\"],[0.2222222222222222,\"#7201a8\"],[0.3333333333333333,\"#9c179e\"],[0.4444444444444444,\"#bd3786\"],[0.5555555555555556,\"#d8576b\"],[0.6666666666666666,\"#ed7953\"],[0.7777777777777778,\"#fb9f3a\"],[0.8888888888888888,\"#fdca26\"],[1.0,\"#f0f921\"]],\"type\":\"surface\"}],\"table\":[{\"cells\":{\"fill\":{\"color\":\"#EBF0F8\"},\"line\":{\"color\":\"white\"}},\"header\":{\"fill\":{\"color\":\"#C8D4E3\"},\"line\":{\"color\":\"white\"}},\"type\":\"table\"}]},\"layout\":{\"annotationdefaults\":{\"arrowcolor\":\"#2a3f5f\",\"arrowhead\":0,\"arrowwidth\":1},\"autotypenumbers\":\"strict\",\"coloraxis\":{\"colorbar\":{\"outlinewidth\":0,\"ticks\":\"\"}},\"colorscale\":{\"diverging\":[[0,\"#8e0152\"],[0.1,\"#c51b7d\"],[0.2,\"#de77ae\"],[0.3,\"#f1b6da\"],[0.4,\"#fde0ef\"],[0.5,\"#f7f7f7\"],[0.6,\"#e6f5d0\"],[0.7,\"#b8e186\"],[0.8,\"#7fbc41\"],[0.9,\"#4d9221\"],[1,\"#276419\"]],\"sequential\":[[0.0,\"#0d0887\"],[0.1111111111111111,\"#46039f\"],[0.2222222222222222,\"#7201a8\"],[0.3333333333333333,\"#9c179e\"],[0.4444444444444444,\"#bd3786\"],[0.5555555555555556,\"#d8576b\"],[0.6666666666666666,\"#ed7953\"],[0.7777777777777778,\"#fb9f3a\"],[0.8888888888888888,\"#fdca26\"],[1.0,\"#f0f921\"]],\"sequentialminus\":[[0.0,\"#0d0887\"],[0.1111111111111111,\"#46039f\"],[0.2222222222222222,\"#7201a8\"],[0.3333333333333333,\"#9c179e\"],[0.4444444444444444,\"#bd3786\"],[0.5555555555555556,\"#d8576b\"],[0.6666666666666666,\"#ed7953\"],[0.7777777777777778,\"#fb9f3a\"],[0.8888888888888888,\"#fdca26\"],[1.0,\"#f0f921\"]]},\"colorway\":[\"#636efa\",\"#EF553B\",\"#00cc96\",\"#ab63fa\",\"#FFA15A\",\"#19d3f3\",\"#FF6692\",\"#B6E880\",\"#FF97FF\",\"#FECB52\"],\"font\":{\"color\":\"#2a3f5f\"},\"geo\":{\"bgcolor\":\"white\",\"lakecolor\":\"white\",\"landcolor\":\"#E5ECF6\",\"showlakes\":true,\"showland\":true,\"subunitcolor\":\"white\"},\"hoverlabel\":{\"align\":\"left\"},\"hovermode\":\"closest\",\"mapbox\":{\"style\":\"light\"},\"paper_bgcolor\":\"white\",\"plot_bgcolor\":\"#E5ECF6\",\"polar\":{\"angularaxis\":{\"gridcolor\":\"white\",\"linecolor\":\"white\",\"ticks\":\"\"},\"bgcolor\":\"#E5ECF6\",\"radialaxis\":{\"gridcolor\":\"white\",\"linecolor\":\"white\",\"ticks\":\"\"}},\"scene\":{\"xaxis\":{\"backgroundcolor\":\"#E5ECF6\",\"gridcolor\":\"white\",\"gridwidth\":2,\"linecolor\":\"white\",\"showbackground\":true,\"ticks\":\"\",\"zerolinecolor\":\"white\"},\"yaxis\":{\"backgroundcolor\":\"#E5ECF6\",\"gridcolor\":\"white\",\"gridwidth\":2,\"linecolor\":\"white\",\"showbackground\":true,\"ticks\":\"\",\"zerolinecolor\":\"white\"},\"zaxis\":{\"backgroundcolor\":\"#E5ECF6\",\"gridcolor\":\"white\",\"gridwidth\":2,\"linecolor\":\"white\",\"showbackground\":true,\"ticks\":\"\",\"zerolinecolor\":\"white\"}},\"shapedefaults\":{\"line\":{\"color\":\"#2a3f5f\"}},\"ternary\":{\"aaxis\":{\"gridcolor\":\"white\",\"linecolor\":\"white\",\"ticks\":\"\"},\"baxis\":{\"gridcolor\":\"white\",\"linecolor\":\"white\",\"ticks\":\"\"},\"bgcolor\":\"#E5ECF6\",\"caxis\":{\"gridcolor\":\"white\",\"linecolor\":\"white\",\"ticks\":\"\"}},\"title\":{\"x\":0.05},\"xaxis\":{\"automargin\":true,\"gridcolor\":\"white\",\"linecolor\":\"white\",\"ticks\":\"\",\"title\":{\"standoff\":15},\"zerolinecolor\":\"white\",\"zerolinewidth\":2},\"yaxis\":{\"automargin\":true,\"gridcolor\":\"white\",\"linecolor\":\"white\",\"ticks\":\"\",\"title\":{\"standoff\":15},\"zerolinecolor\":\"white\",\"zerolinewidth\":2}}},\"title\":{\"text\":\"Tamanho Amostral X Erro\"},\"xaxis\":{\"title\":{\"text\":\"Tamanho Amostral\"}},\"yaxis\":{\"title\":{\"text\":\"Erro\"}}},                        {\"responsive\": true}                    ).then(function(){\n",
       "                            \n",
       "var gd = document.getElementById('c1124aaf-68f2-431a-847b-56d0255d1321');\n",
       "var x = new MutationObserver(function (mutations, observer) {{\n",
       "        var display = window.getComputedStyle(gd).display;\n",
       "        if (!display || display === 'none') {{\n",
       "            console.log([gd, 'removed!']);\n",
       "            Plotly.purge(gd);\n",
       "            observer.disconnect();\n",
       "        }}\n",
       "}});\n",
       "\n",
       "// Listen for the removal of the full notebook cells\n",
       "var notebookContainer = gd.closest('#notebook-container');\n",
       "if (notebookContainer) {{\n",
       "    x.observe(notebookContainer, {childList: true});\n",
       "}}\n",
       "\n",
       "// Listen for the clearing of the current output cell\n",
       "var outputEl = gd.closest('.output');\n",
       "if (outputEl) {{\n",
       "    x.observe(outputEl, {childList: true});\n",
       "}}\n",
       "\n",
       "                        })                };                });            </script>        </div>"
      ]
     },
     "metadata": {},
     "output_type": "display_data"
    }
   ],
   "source": [
    "import plotly.graph_objects as go\n",
    "\n",
    "\n",
    "fig = go.Figure()\n",
    "fig.add_trace(go.Scatter(x=amostra_tab[\"n\"], y=amostra_tab[\"erro\"],\n",
    "                    mode='lines',\n",
    "                    name='lines'))\n",
    "\n",
    "fig.update_layout(title='Tamanho Amostral X Erro',\n",
    "                   xaxis_title='Tamanho Amostral',\n",
    "                   yaxis_title='Erro')\n",
    "\n",
    "fig.show()"
   ]
  },
  {
   "cell_type": "markdown",
   "metadata": {},
   "source": [
    "### 3.1 Teorema Central do Limite (TLC)\n",
    "\n",
    "Seja uma amostra aleatória ($x_1, x_2, \\cdots, x_n$) de uma variável aleatória $X$ com qualquer distribuição, média $\\mu$ e desvio padrão $\\sigma$. A medida que $n$ cresce, a distribuição de probabilidade da média amostral, $\\overline{X}$, se aproxima de uma Normal com média $\\mu$ e desvio padrão $\\frac{\\sigma}{\\sqrt{n}}$. Isto é $\\overline{X} \\sim N (\\mu, \\sigma^2/n)$. Se a transformação a baixo for realizada, então $Z \\sim N (0,1)$.\n",
    "\n",
    "$$Z = \\frac{\\overline{X} -\\mu}{\\sigma/\\sqrt{n}} $$\n",
    "\n"
   ]
  },
  {
   "cell_type": "markdown",
   "metadata": {},
   "source": [
    "### 3.2 Cálculo do tamanho amostral baseado na estimativa da média populacional\n",
    "\n",
    "#### 3.2.1 Populaçao Infinita\n",
    "\n",
    "Uma população é considerada infinita quando seu tamanho é muito grande.\n",
    "\n",
    "Ao realizar o calculo do tamanho da amostra $n$, deve-se levar em consideração o erro $\\epsilon$ máximo que deseja-se assumir (ao estimar a função parâmetrica) e o nível de confiança do resultado (probabilidade). Sendo assim, o problema consiste em determinar $n$ de forma que:\n",
    "\n",
    "$$P(\\mid \\overline{X} - \\mu \\mid \\leq \\epsilon) \\simeq 1 - \\alpha $$\n",
    "\n",
    "Mas pelo Teorema Central do Limite, a equação acima pode ser reescrita como:\n",
    "\n",
    "$$P \\left(\\mid \\overline{X} - \\mu \\mid \\leq z_{\\alpha/2}\\frac{\\sigma}{\\sqrt{n}} \\right) \\simeq 1 - \\alpha $$\n",
    "\n",
    "Sendo assim, dados um erro máximo e nível de confiança, calcular o tamanho amostral consiste em:\n",
    "\n",
    "$$ z_{\\alpha/2}\\frac{\\sigma}{\\sqrt{n}} = \\epsilon  \\Longrightarrow n = \\left(\\frac{z_{\\alpha/2}\\sigma}{\\epsilon }\\right) ^2 $$\n",
    "\n",
    "#### 3.2.2 Populaçao Finita\n",
    "\n",
    "No caso em que o tamanho populacional não é tão grande, a consideramos finita. Caso a amostra tenha um tamanho $n$ maior ou igual a 5% do tamanho da população $N$, considera-se que a população é **finita**. Neste caso, aplica-se um fator de correção à fórmula vista anteriormente:\n",
    "\n",
    "$$n = \\frac{N (z_{\\alpha/2}\\sigma)^2}{(N-1)\\epsilon^2 + (z_{\\alpha/2}\\sigma)^2 }$$\n",
    "\n",
    "#### 3.2.3 Principais níveis de confiança usados\n",
    "\n",
    "<table>\n",
    "    <th style=\"text-align: center; border: 1px solid black\">Grau de Confiança</th>\n",
    "    <th style=\"text-align: center; border: 1px solid black\">$\\alpha$</th>\n",
    "    <th style=\"text-align: center; border: 1px solid black\">$z_{\\alpha/2}$</th>\n",
    "    <tr style=\" border: 1px solid black\">\n",
    "        <td style=\"text-align: center; border: 1px solid black\">90%</td>\n",
    "        <td style=\"text-align: center; border: 1px solid black\">0,10</td>\n",
    "        <td style=\"text-align: center; border: 1px solid black\">1,645</td>\n",
    "    </tr>\n",
    "    <tr style=\"text-align: center; border: 1px solid black\">\n",
    "        <td style=\"text-align: center; border: 1px solid black\">95%</td>\n",
    "        <td style=\"text-align: center; border: 1px solid black\">0,05</td>\n",
    "        <td style=\"text-align: center; border: 1px solid black\">1,96</td>\n",
    "    </tr>\n",
    "    <tr style=\"text-align: center; border: 1px solid black\">\n",
    "        <td style=\"text-align: center; border: 1px solid black\">99%</td>\n",
    "        <td style=\"text-align: center; border: 1px solid black\">0,01</td>\n",
    "        <td style=\"text-align: center; border: 1px solid black\">2,575</td>\n",
    "    </tr>\n",
    "</table>\n",
    "\n",
    "\n",
    "#### 3.2.4 Variância populacional desconhecida\n",
    "\n",
    "No caso em que a variância populacional é desconhecida, pode-se realizar uma amostragem aleatória preliminar (ao menos 30 elementos) para estimar a variancia amostral e usa-la na equaçao acima.\n",
    "\n",
    "$$\\widehat{\\sigma^2} = s^2 = \\frac{\\sum_{i=1}^{n}(x_i -\\overline{X})^2}{N-1} $$"
   ]
  },
  {
   "cell_type": "markdown",
   "metadata": {},
   "source": [
    "### 3.3 Cálculo do tamanho amostral baseado na estimativa da proporção populacional\n",
    "\n",
    "#### 3.3.1 População infinita\n",
    "\n",
    "De maneira geral, em muitas situações, existe interesse em estudar a proporção de elementos em certa população que possuem determinada característica, como ser ou não um item defeituoso, ser ou não eleitor de determinado partido político e assim por diante. Neste caso a média populacional equivale à proporção (percentual) $P$ de elementos com a característica e a variância populacional é dada por:\n",
    "\n",
    "$$\\sigma^2 = \\frac{1}{N}\\sum_{i=1}^{N}(x_i - P)^2 = P(1-P) $$\n",
    "\n",
    "Sendo assim, o cálculo do tamanho amostral é dado por:\n",
    "\n",
    "\n",
    "$$n = \\frac{z_{\\alpha/2}^2 P(1-P)}{\\epsilon^2}$$\n",
    "\n",
    "#### 3.3.2 População finita\n",
    "\n",
    "$$n = \\frac{N z_{\\alpha/2}^2 P(1-P)}{(N-1)\\epsilon^2 + z_{\\alpha/2}^2 P(1-P) }$$\n",
    "\n",
    "#### 3.3.3 Variância populacional desconhecida\n",
    "\n",
    "Caso a variância popupacional seja desconhecida, o tamanho da amostra pode ser calculada considerando o pior caso. Observe no gráfico abaixo que o pior caso acontece quando $P=0,5$, pois se tem a maior variância.\n"
   ]
  },
  {
   "cell_type": "code",
   "execution_count": 20,
   "metadata": {
    "ExecuteTime": {
     "end_time": "2021-04-27T23:37:29.957872Z",
     "start_time": "2021-04-27T23:37:29.655800Z"
    }
   },
   "outputs": [
    {
     "data": {
      "text/plain": [
       "Text(0, 0.5, 'Variância')"
      ]
     },
     "execution_count": 20,
     "metadata": {},
     "output_type": "execute_result"
    },
    {
     "data": {
      "image/png": "[encoded data removed]",
      "text/plain": [
       "<Figure size 432x288 with 1 Axes>"
      ]
     },
     "metadata": {
      "needs_background": "light"
     },
     "output_type": "display_data"
    }
   ],
   "source": [
    "import matplotlib.pyplot as plt\n",
    "\n",
    "variancia_p  = pd.DataFrame(columns = [\"p\", \"var\"])\n",
    "\n",
    "i=0\n",
    "\n",
    "while i <= 1:\n",
    "    variancia_p = variancia_p.append(\n",
    "                pd.DataFrame({\"p\":[i], \n",
    "                              \"var\":[i*(1-i)]}))\n",
    "    i += 0.01\n",
    "    \n",
    "fig = plt.figure()\n",
    "ax = plt.axes()\n",
    "\n",
    "ax.plot(variancia_p[\"p\"], variancia_p[\"var\"]);\n",
    "plt.xlabel('P', fontsize=18)\n",
    "plt.ylabel('Variância', fontsize=16)"
   ]
  },
  {
   "cell_type": "markdown",
   "metadata": {},
   "source": [
    "# 4. Testes de Hipóteses (resumida)\n",
    "\n",
    "\n",
    "O processo de inferência estatística é o processo de inferir alguma propriedade acerca de uma população de dados a partir de uma amostra desses dados. Nesse processo, existe a ocorrência de um **erro estatístico** que irá depender do tamanho da amostra em relação ao tamanho da população. \n",
    "\n",
    " - **Exemplo 1:** com base nas respostas de 5000 pessoas, tentar inferir qual será o resultado de uma eleição.\n",
    "\n",
    " - **Exemplo 2:** com base no uso de 300 consumidores de uma loja, tentar inferir qual será o comportamento dos consumidores de uma loja ao longo de um ano.\n",
    "\n",
    "### Hipótese estatística\n",
    "\n",
    "É uma suposição acerca do comportamento de uma população. Exemplos:\n",
    "\n",
    " - **Exemplo 1:** a altura média da população brasileira é de 1,70m.\n",
    " - **Exemplo 2:** a proporção da população paulista com asma é de 0.4%\n",
    " \n",
    "### Testes de hipóteses\n",
    "\n",
    "É uma regra para aceitar ou rejeitar uma hipótese estatística com base em uma amostra da população. Para realizar um teste de hipóteses, deve-se escolher um par de hipóteses **complementares**, isso é, se uma for falsa a outra necessariamente deve ser verdadeira e vice-versa. Essas hipóteses são chamadas de **hipótese nula**, simbolizado por $H_0$ e **hipótese alternativa**, simbolizada por $H_1$.\n",
    "\n",
    "Dessa forma, existem duas decisões possíveis:\n",
    "1. Aceita-se $H_0$ e rejeita-se $H_1$; ou\n",
    "2. Rejeita-se $H_0$ e aceita-se $H_1$.\n",
    "\n",
    "Com isso, pode-se acertar de duas formas ou errar de duas formas. \n",
    "\n",
    "<table>\n",
    "    <th> </th>\n",
    "    <th style=\" border: 1px solid black\">$H_0$ é verdadeira</th>\n",
    "    <th style=\" border: 1px solid black\">$H_1$ é verdadeira</th>\n",
    "    <tr style=\" border: 1px solid black\">\n",
    "        <td style=\" border: 1px solid black\">$H_0$ decidido</td>\n",
    "        <td style=\" border: 1px solid black\">Decisão correta</td>\n",
    "        <td style=\" border: 1px solid black\">Erro do tipo II</td>\n",
    "    </tr>\n",
    "    <tr style=\" border: 1px solid black\">\n",
    "        <td style=\" border: 1px solid black\">$H_1$ decidido</td>\n",
    "        <td style=\" border: 1px solid black\">Erro do tipo I</td>\n",
    "        <td style=\" border: 1px solid black\">Decisão correta</td>\n",
    "    </tr>\n",
    "</table>\n",
    "\n",
    "<img src=\"../images/error_types.png\">\n",
    "\n",
    "\n",
    "- **Exemplo**: Considerando os gastos de cada parlamentar e verificar se houve aumento no uso da verba por partido de 2014 para 2016. Assim, temos:\n",
    "  1. $H_0$: não houve aumento; ou\n",
    "  2. $H_1$: houve aumento.\n",
    " \n",
    " Podemos, assim, decidir que houve aumento no gasto parlamentar, mas na verdade o que ocorreu foi uma flutuação ao acaso nos dados.\n",
    "\n",
    "\n",
    "Cada um desses erros, o erro do tipo I ou o do tipo II, poderá ser quantizado através de uma probabilidade de ocorrência; isso é, o erro do tipo I terá uma probabilidade $\\alpha$ de ocorrer, e o erro do tipo II terá uma probabilidade $\\beta$ de ocorrer.\n",
    "\n",
    "\n",
    "<table>\n",
    "    <th> </th>\n",
    "    <th style=\" border: 1px solid black\">$H_0$ é verdadeira</th>\n",
    "    <th style=\" border: 1px solid black\">$H_1$ é verdadeira</th>\n",
    "    <tr style=\" border: 1px solid black\">\n",
    "        <td style=\" border: 1px solid black\">$H_0$ decidido</td>\n",
    "        <td style=\" border: 1px solid black\">probabilidade 1-$\\alpha$</td>\n",
    "        <td style=\" border: 1px solid black\">probabilidade $\\beta$</td>\n",
    "    </tr>\n",
    "    <tr style=\" border: 1px solid black\">\n",
    "        <td style=\" border: 1px solid black\">$H_1$ decidido</td>\n",
    "        <td style=\" border: 1px solid black\">probabilidade $\\alpha$</td>\n",
    "        <td style=\" border: 1px solid black\">probabilidade $1-\\beta$</td>\n",
    "    </tr>\n",
    "</table>\n",
    "\n",
    "Dessa forma, com um nível de significância de 5%, rejeitamos $H_0$, ou seja, as variáveis são positivamente monotônicamente dependentes."
   ]
  },
  {
   "cell_type": "markdown",
   "metadata": {},
   "source": [
    "[video explicativo](https://www.youtube.com/watch?v=8idr1WZ1A7Q)"
   ]
  },
  {
   "cell_type": "markdown",
   "metadata": {},
   "source": [
    "# 4. Testes de Hipóteses (extendida)\n",
    "\n",
    "## 4.1. Introdução e notação\n",
    "\n",
    "Em geral, intervalos de confiança são a forma mais informativa de apresentar os achados pricipais de um estudo. Contudo, algumas vezes existe um particular interesse em decidir sobre a verdade ou não de uma hipótese específica \n",
    "\n",
    "Por exemplo, podemos estar interessados em determinar se uma moeda é honesta, se certas quantidades são independentes, ou se populações distintas são similares do ponto de vista probabilístico. Cada uma destas afirmações constitui uma hipótese que pode ser associada a um modelo.\n",
    "\n",
    "Testes de hipóteses fornecem a estrutura para que façamos isto. Veremos que intervalos de confiança e testes de hipóteses estão intimamente relacionados.\n",
    "\n",
    "Chamamos de hipótese estatística qualquer afirmação que se faça sobre um parâmetro populacional desconhecido. A idéia básica é que a partir de uma amostra da população iremos estabelecer uma regra de decisão segundo a qual rejeitaremos ou aceitaremos a hipótese proposta. Esta regra de decisão é chamada de teste. \n",
    "\n",
    "Normalmente existe uma hipótese que é mais importante para o pesquisador que será denotada por $ H_0$ e chamada hipótese nula. Qualquer outra hipótese diferente de $ H_0$ será chamada de hipótese alternativa e denotada por $ H_1$. \n",
    "\n",
    "Veremos mais adiante que intervalos de confiança e testes de hipóteses estão intimamente relacionados."
   ]
  },
  {
   "cell_type": "markdown",
   "metadata": {},
   "source": [
    "### Exemplo 2\n",
    "\n",
    "Um professor aplica um teste do tipo certo-errado com 10 questões. Queremos testar a hipótese de que o aluno está advinhando.  \n",
    "Denotando por $ p$ a probabilidade do aluno acertar cada questão a hipótese estatística de interesse pode ser formulada como $ H_0 : p = 1/2.$  \n",
    "Neste caso, a hipótese alternativa mais adequada é $ H_1: p>1/2$ indicando que o aluno tem algum conhecimento sobre o assunto.  \n",
    "Temos então 10 repetições do experimento com $ p$ constante, portanto $ X$=''número de acertos'' tem distribuição binomial com parâmetros $ n=10$ e $ p$ desconhecido.  \n",
    "Suponha que adotamos a seguinte regra de decisão: o aluno não está advinhando se acertar 8 ou mais questões. Isto equivale a rejeitar $ H_0$ se $ X\\ge 8$ (região de rejeição ou região crítica) e aceitar $ H_0$ se $ X<8$ ( região de aceitação).  \n",
    "No entanto, é possível que um aluno acerte 8 ou mais questões e esteja advinhando, isto é podemos rejeitar $ H_0$ quando ela é verdadeira. A probabilidade de que isto ocorra é\n",
    "\n",
    "$$\\displaystyle P(X\\ge 8~\\vert~ p=1/2) = {{10}\\choose{8}} 0,5^{10} + {{10}\\choose{9}}\n",
    "0,5^{10} + {{10}\\choose{10}} 0,5^{10} = \\frac{7}{128} \\approx 0,054.\n",
    "$$\n",
    "\n",
    "Esta probabilidade é chamada nível de significância e será denotada por $ \\alpha$."
   ]
  },
  {
   "cell_type": "markdown",
   "metadata": {},
   "source": [
    "### Exemplo 3\n",
    "\n",
    "Um fornecedor garante que 90% de sua produção não apresenta defeito. Para testar esta afirmação selecionamos ao acaso 10 itens de um lote e contamos o número de defeituosos. Decidimos não comprar o lote se o número observado de não defeituosos for muito pequeno (mas quão pequeno?).\n",
    "\n",
    "Definindo $ X$=''número de não defeituosos na amostra de 10 itens'' temos então uma distribuição binomial com parâmetros $ n=10$ e $ p$ desconhecido, e queremos testar $ H_0: p=0,90$.  \n",
    "\n",
    "Aqui $ p$ é a proporção de itens não defeituosos no lote e portanto a hipótese alternativa deve ser $ H_1: p<0,90$. Suponha que decidimos manter $ \\alpha < 0,025$ e a partir deste valor vamos estabelecer a nossa regra de decisão.  \n",
    "Para isto vamos calcular $ \\alpha$ para diferentes regiões críticas, assim:\n",
    "\n",
    "$\\displaystyle P(X\\le 5~\\vert~p=0,90)$\t$\\displaystyle =$\t$\\displaystyle 0,001$\t \n",
    "$\\displaystyle P(X\\le 6~\\vert~p=0,90)$\t$\\displaystyle =$\t$\\displaystyle 0,012$\t \n",
    "$\\displaystyle P(X\\le 7~\\vert~p=0,90)$\t$\\displaystyle =$\t$\\displaystyle 0,069.$\t \n",
    "\n",
    "Portanto, para que o nível de significância máximo seja 0,025 devemos usar a região crítica $ X\\le 6$. Isto é, vamos rejeitar o lote se o número de itens defeituosos na amostra for maior do que 6."
   ]
  },
  {
   "cell_type": "code",
   "execution_count": null,
   "metadata": {
    "ExecuteTime": {
     "end_time": "2021-04-27T23:52:50.181236Z",
     "start_time": "2021-04-27T23:52:50.165724Z"
    }
   },
   "outputs": [],
   "source": [
    "def fat(x):\n",
    "    return x*fat(x-1) if x > 1 else 1\n",
    "\n",
    "def comb(x, y):\n",
    "    return fat(x)/(fat(y) * fat(x-y))\n",
    "\n",
    "def calc_prob(x, n, p):\n",
    "    sum = 0\n",
    "    for i in range(0, x+1):\n",
    "        sum += comb(n, i)*((p**i)*((1-p)**(n-i)))\n",
    "    return sum"
   ]
  },
  {
   "cell_type": "code",
   "execution_count": null,
   "metadata": {
    "ExecuteTime": {
     "end_time": "2021-04-27T23:52:51.524736Z",
     "start_time": "2021-04-27T23:52:51.514740Z"
    }
   },
   "outputs": [],
   "source": [
    "calc_prob(6, 10, 0.9)"
   ]
  },
  {
   "cell_type": "code",
   "execution_count": null,
   "metadata": {
    "ExecuteTime": {
     "end_time": "2021-04-27T21:21:21.839167Z",
     "start_time": "2021-04-27T21:21:21.833167Z"
    }
   },
   "outputs": [],
   "source": []
  },
  {
   "cell_type": "markdown",
   "metadata": {},
   "source": [
    "Nestes dois exemplos os testes são chamados de unilaterais porque somente valores de um lado do espaço amostral foram utilizados para construir a região crítica. Podemos ter também testes bilaterais aonde os dois extremos do espaço amostral são usados como região crítica.\n",
    "\n",
    "No caso geral então temos uma amostra aleatória $  X=(X_1,\\dots,X_n)$ tomada de uma distribuição que envolve um parâmetro $ \\theta$ desconhecido, definido em um espaço paramétrico $ \\Theta$. Assim, as hipóteses podem ser definidas como \n",
    "\n",
    "$ H_0:\\theta\\in\\Theta_0$ e $ H_1:\\theta\\in\\Theta_1$ onde $ \\Theta_0$ e $ \\Theta_1$ são subconjuntos disjuntos de $ \\Theta$.  \n",
    "Um teste é especificado particiondo-se o espaço amostral em dois subconjuntos.  \n",
    "Um sobconjunto contem os valores de $  X$ para os quais $ H_0$ será rejeitada e é chamado região crítica do teste, e o outro contem os valores de $  X$ para os quais $ H_0$ será aceita e é chamado região de aceitação do teste.  \n",
    "Em resumo, um teste fica determinado quando especificamos sua região crítica.\n",
    "\n",
    "Além disso, uma hipótese pode ser classificada da seguinte maneira. Se o subconjunto $ \\Theta_i$, $ i=0$ ou $ i=1$ contém um único valor então $ H_i$ é uma hipótese simples. Caso contrário, se $ \\Theta_i$ contém mais de um valor então $ H_i$ é uma hipótese composta. "
   ]
  },
  {
   "cell_type": "markdown",
   "metadata": {},
   "source": [
    "## 4.2. Tipos de Decisão\n",
    "\n",
    "Ao tomar uma decisão a favor ou contra uma hipótese existem dois tipos de erros que podemos cometer. Podemos rejeitar a hipótese nula quando de fato ela é verdadeira (erro tipo I) ou podemos falhar em rejeitar $ H_0$ quando de fato ela é falsa (erro tipo II). Frequentemente denotamos as probabilidades destes dois tipos de erro como $ \\alpha$ e $ \\beta$ respectivamente.\n",
    "\n",
    "Existe um balanço entre esses dois tipos de erros, no sentido de que ao tentar-se minimizar $ \\alpha$, aumenta-se $ \\beta$. Isto é, não é possível minimizar estas duas probabilidades simultaneamente e na prática é costume fixar um valor (pequeno) para $ \\alpha$. Na Tabela a seguir estão descritos as decisões que podemos tomar e os tipos de erro associados.\n",
    "\n",
    "\n",
    "\n",
    "Tabela: \n",
    "\n",
    "Tipos de decisão e tipos de erro associados a testes de hipóteses.\n",
    "\n",
    "\n",
    "|                             | Decisão                    |                          |\n",
    "|-----------------------------|----------------------------|--------------------------|\n",
    "| |Verdade|                   | Aceitar $ H_0$             | |Rejeitar $ H_0$|        |\n",
    "| $ H_0$ verdadeira           | Decisão correta            | Erro Tipo I              |\n",
    "|                             |(probabilidade $ 1-\\alpha$) |(probabilidade $ \\alpha$) |\n",
    "| $ H_0$ falsa                | Erro Tipo II               | Decisão correta          |\n",
    "|                             |(probabilidade $ \\beta$)    |(probabilidade $ 1-\\beta$)|"
   ]
  },
  {
   "cell_type": "markdown",
   "metadata": {},
   "source": [
    "## Exercício\n",
    "Um tipo de tinta bastante peculiar é o termocrômico. Essas tintas são sensíveis a temperaturas\n",
    "quentes e outras, a temperaturas frias (dois tipos diferentes). São feitas com cristais líquidos que\n",
    "mudam de cor de acordo com a temperatura de contato. No nível da estrutura interna desses cristais\n",
    "há mudanças temporárias em sua composição química, que “ativam” os pigmentos, tornando-as\n",
    "visíveis. Exemplos comuns de aplicação dessa tinta podem ser encontrados em produtos como\n",
    "canecas que mostram mensagens quando recebem bebida quente, rótulos de cervejas que indicam\n",
    "quando as embalagens estão geladas, entre muitos outros, bastante explorados como marketing de\n",
    "alguns produtos. Vale ressaltar que uma característica importante dessa tinta é que o processo é\n",
    "reversível. Quando a caneca volta a esfriar, ou a cerveja a esquentar, a tinta retorna a seu estado\n",
    "inicial.\n",
    "\n",
    "Considere que determinado tipo de tinta termocrômica se fixa corretamente ao produto, na primeira\n",
    "hora de secagem, em 25% das vezes. Um fabricante desse produto pretende acrescentar à tinta um\n",
    "aditivo para melhorar o tempo de secagem, aumentando a porcentagem do resultado esperado. Um\n",
    "teste para averiguar o efeito desse aditivo será feito com 20 produtos. Suponha que a região de\n",
    "rejeição comece em 8, qual a probabilidade de se cometer um erro tipo I? Qual a probabilidade de\n",
    "se cometer erro tipo II?\n",
    "\n",
    "Considere p a proporção de peças que secam na primeira hora de secagem.\n",
    "\n",
    "Para o cálculo do erro do tipo II, utilize p = 0,3."
   ]
  },
  {
   "cell_type": "markdown",
   "metadata": {},
   "source": [
    "### Probabilidade de significância ($ P$-valor)\n",
    "\n",
    "Vimos que a escolha do nível de significância do teste é completamente arbitrária. Além disso, quando a distribuição da estatística de teste é discreta, como no exemplo da binomial, o nível escolhido pode nem mesmo ser atingido. Por outro lado, a decisão de aceitar ou rejeitar $ H_0$ claramente depende desta escolha. Na maioria das aplicações práticas o valor escolhido é 0,05 ou 0,01 mas não há nada que justifique formalmente o uso destes valores em particular.\n",
    "\n",
    "Um enfoque alternativo consiste em calcular o menor nível de significância para o qual $ H_0$ é rejeitada, para o valor observado da estatística de teste. Esta quantidade é chamada nível critico, probabilidade de significância ou p-valor. A idéia é que, após calcular o $ p$-valor o pesquisador pode escolher o seu próprio nível de significância como sendo a probabilidade máxima tolerável para um erro tipo I. Em geral, se $ T$ é uma estatística de teste e $ H_0$ é rejeitada por exemplo para $ T>c$ então o $ p$-valor é a probabilidade $ P(T>t~\\vert~H_0)$ onde $ t$ é o valor observado de $ T$.\n",
    "\n",
    "No exemplo 2 suponha que o número observado de questões certas foi $ X=9$. Então o $ p$-valor será\n",
    "$\\displaystyle P(X \\ge 9~\\vert~ p=1/2) = {{10}\\choose 9} 0,5^{10} + {{10}\\choose{10}} 0,5^{10} = 0,0107\n",
    "$\n",
    "e rejeitaremos $ H_0$ para todo nível de significância maior do que este valor. Por exemplo, rejeitaremos $ H_0$ para $ \\alpha=0,025$ ou $ \\alpha=0,05$.\n",
    "\n",
    "No exemplo 3 suponha que o número observado de não defeituosos foi $ X=4$. Neste caso o $ p$-valor é dado por\n",
    "$\\displaystyle P(X\\le 4~\\vert~ p=0,90) = 0,000146\n",
    "$\n",
    "ou seja, rejeitaremos $ H_0$ para praticamente todos os níveis de significância usuais.\n",
    "\n",
    "Portanto, o $ p$-valor é a probabilidade de observar resultados tão extremos quanto os obtidos se a hipótese nula for verdadeira. A idéia é que se o $ p$-valor for grande ele fornece evidência de que $ H_0$ é verdadeira, enquanto que um\n",
    "$ p$-valor pequeno indica que existe evidência nos dados contra $ H_0$. As seguintes interpretações de $ p$-valores ($ P$) podem ser úteis,\n",
    "\n",
    "|p-valor                                                                  |\n",
    "|:-------------------------------------------------------------------------|\n",
    "| $P \\ge 0,10 $:  Não existe evidência contra $H_0$              |\n",
    "| $P \\lt 0,1$: Fraca evidência contra $H_0$       |\n",
    "| $P \\lt 0,05$: Evidência significativa           |\n",
    "| $P \\lt 0,01$: Evidência altamente significativa |\n",
    "| $P \\lt 0,001$: Evidência extremamente significativa     |\n"
   ]
  },
  {
   "cell_type": "code",
   "execution_count": null,
   "metadata": {
    "ExecuteTime": {
     "end_time": "2021-04-28T00:06:51.893286Z",
     "start_time": "2021-04-28T00:06:51.883287Z"
    }
   },
   "outputs": [],
   "source": [
    "1 - calc_prob(9, 10, 0.5)"
   ]
  }
 ],
 "metadata": {
  "hide_input": false,
  "kernelspec": {
   "display_name": "Python 3",
   "language": "python",
   "name": "python3"
  },
  "language_info": {
   "codemirror_mode": {
    "name": "ipython",
    "version": 3
   },
   "file_extension": ".py",
   "mimetype": "text/x-python",
   "name": "python",
   "nbconvert_exporter": "python",
   "pygments_lexer": "ipython3",
   "version": "3.8.10"
  },
  "toc": {
   "base_numbering": 1,
   "nav_menu": {},
   "number_sections": true,
   "sideBar": true,
   "skip_h1_title": false,
   "title_cell": "Table of Contents",
   "title_sidebar": "Contents",
   "toc_cell": false,
   "toc_position": {},
   "toc_section_display": true,
   "toc_window_display": false
  }
 },
 "nbformat": 4,
 "nbformat_minor": 2
}
