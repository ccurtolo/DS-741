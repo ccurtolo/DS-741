{
 "cells": [
  {
   "cell_type": "markdown",
   "metadata": {},
   "source": [
    "### Aula 8: Estatística Descritiva e Probabalidade\n"
   ]
  },
  {
   "cell_type": "markdown",
   "metadata": {},
   "source": [
    "# Definições\n",
    "\n",
    "**Estatística Descritiva**: Primeira etapa inicial da análise, quando ainda não conhecemos a forma do dado, com o objetivo de tirar informações prévias de modo informal e direto, quando obtemos grande volume de dados, precisamos de informações que `resumam`nosso conjuto de dados a fim de que possamos tirar conclusões sobre nossos dados \n",
    "\n",
    "**Probabilidade**: pode ser pensada como a teoria matemática utilizada para se estudar a incerteza oriundas de `fenômenos`de caráter aleátorio.\n",
    "\n",
    "\n",
    "**Inferência estatística**: É o estudo de técnicas que possibilitam a extrapolação, a um grande conjunto de dados, denominado `população`, obtidos a partir de um conjunto extraido sobre esta denominada `amostra`.\n",
    "\n",
    "<center><img src=\"../images/inferencia.png\" width=\"700\" height=\"700\" /></center>\n"
   ]
  },
  {
   "cell_type": "markdown",
   "metadata": {},
   "source": [
    "## Tipos de variáveis \n",
    "\n",
    "- **Variavél qualitativa** \n",
    "-- *Nominal* \n",
    "\n",
    "Valores que expressam atributos sem nenhum tipo de ordem. Ex : sexo, estado civil, país de origem\n",
    "\n",
    "\n",
    "- **Variavél qualitativa** \n",
    "-- *ordinal* \n",
    "\n",
    "Valores que expressam atributos, porém com algum tipo de ordem ou grau. Ex: escolaridade, resposta de um paciente(piora, igual, melhora), classe social(alta, média,baixa)\n",
    "\n",
    "- **Variavél quantitativa** \n",
    "-- *Discreta*  \n",
    "Valores que expressam atributos nos valores inteiros. Ex: idade, numero de banheiros, numero de filhos.\n",
    "\n",
    "- **Variavél quantitativa** \n",
    "-- *Contínua*  \n",
    "Valores que expressam atributos nos valores reais. Ex: Salário, temperatura"
   ]
  },
  {
   "cell_type": "markdown",
   "metadata": {},
   "source": [
    "Sexo\n",
    "0\n",
    "1\n",
    "\n",
    "feminino   masculino\n",
    "\n",
    "0            0\n",
    "\n",
    "1            1\n",
    "\n",
    "1 0 \n",
    "\n",
    "\n",
    "0 1"
   ]
  },
  {
   "cell_type": "markdown",
   "metadata": {},
   "source": [
    "## Exercícios\n",
    "*1-Descreva as seguintes variáveis abaixo como  qualitativa nominal/ ordinal ou quantitativa: discreta/ contínua*\n",
    "\n",
    "*a-ocorrência de hipertensão pré-natal em grávidas com mais de 35 anos (sim ou não)* \n",
    "\n",
    "*b-intenção de voto para presidente(as possíveis escolhas são os `nomes` dos presidentes e não sei)* \n",
    "\n",
    "*c-Perda de peso de maratonistas na corrida de São Silvestre (em quilos)*\n",
    "\n",
    "*d- intensidade da perda de peso de maratonistas na corrida de São Silvestre (leve, moderada, forte)*\n",
    "\n",
    "*e - Grau de satisfação da população brasileira com relação ao trabalho de seu presidente( valores de 0-5 , com zero indicando totalmente insatisfeito e 5 totalmente)*"
   ]
  },
  {
   "cell_type": "markdown",
   "metadata": {},
   "source": [
    "# Tipos de medida resumo\n",
    "\n",
    "## Medidas de posição\n",
    "\n",
    "### Média \n",
    "\n",
    "Seja $X$ uma variável quantitativa e $x_1,x_2,x_3, ...$ os valores assumidos por X. Define-se média de $\\overline{X}$ como sendo :\n",
    "\n",
    "\n",
    "$$\\overline{X} = \\frac{\\sum_{i=1}^{n}x_i}{n}= \\frac{x_1+ x_2 + x_3 +... +x_n}{n}$$"
   ]
  },
  {
   "cell_type": "code",
   "execution_count": 150,
   "metadata": {
    "ExecuteTime": {
     "end_time": "2021-04-22T22:15:58.209679Z",
     "start_time": "2021-04-22T22:15:58.206362Z"
    }
   },
   "outputs": [],
   "source": [
    "import numpy as np\n",
    "import pandas as pd\n",
    "import seaborn as sns"
   ]
  },
  {
   "cell_type": "code",
   "execution_count": 172,
   "metadata": {
    "ExecuteTime": {
     "end_time": "2021-04-22T22:16:39.855948Z",
     "start_time": "2021-04-22T22:16:39.847947Z"
    },
    "code_folding": []
   },
   "outputs": [
    {
     "name": "stdout",
     "output_type": "stream",
     "text": [
      "[19  1 16  3  7 17 15  2]\n"
     ]
    }
   ],
   "source": [
    "np.random.seed(115)\n",
    "amostra = np.random.randint(1,20,8)\n",
    "print(amostra)\n",
    "\n",
    "## defina média usando a soma dos valores divididos pelo numero de elementos\n",
    "def media(amostra):\n",
    "    media = 0\n",
    "    for i in amostra:\n",
    "        media += i\n",
    "    \n",
    "#     return media/len(amostra)\n",
    "    return np.sum([item/amostra.shape[0] for item in amostra])"
   ]
  },
  {
   "cell_type": "code",
   "execution_count": 173,
   "metadata": {
    "ExecuteTime": {
     "end_time": "2021-04-20T22:56:19.211464Z",
     "start_time": "2021-04-20T22:56:19.192465Z"
    }
   },
   "outputs": [],
   "source": [
    "assert media(amostra) == np.mean(amostra)"
   ]
  },
  {
   "cell_type": "code",
   "execution_count": 176,
   "metadata": {},
   "outputs": [
    {
     "name": "stdout",
     "output_type": "stream",
     "text": [
      "   estudos_anos\n",
      "0            19\n",
      "1             1\n",
      "2            16\n",
      "3             3\n",
      "4             7\n",
      "5            17\n",
      "6            15\n",
      "7             2\n",
      "10.0\n",
      "10.0\n",
      "10.0\n"
     ]
    }
   ],
   "source": [
    "# Fazendo a mesma coisa com Pandas\n",
    "\n",
    "amostra_pandas = pd.DataFrame(amostra,columns=['estudos_anos'])\n",
    "\n",
    "assert media(amostra) == amostra_pandas['estudos_anos'].mean()\n",
    "\n",
    "print(amostra_pandas)\n",
    "\n",
    "print(amostra_pandas['estudos_anos'].mean())\n",
    "print(media(amostra))\n",
    "print(np.mean(amostra))"
   ]
  },
  {
   "cell_type": "markdown",
   "metadata": {},
   "source": [
    "### Mediana \n",
    "A **mediana** de uma variável é um número tal que há o mesmo número de observações maiores e menores do que ele, ocupando assim a posição central da série de observações.\n",
    "\n",
    "- *Exemplo*\n",
    "\n",
    "i) 3,4,7,8,8 **mediana=7**       (CASO ÍMPAR)\n",
    "\n",
    "ii) 3,4,7,8,8,9 **mediana=(7+8)/2=7,5**   (CASO PAR)\n",
    "\n",
    "Logo, podemos definir \n",
    "\n",
    "- - Mediana de $X = X_{\\frac{n+1}{2}}$ `Se tamanho da amostra ímpar`\n",
    "\n",
    "\n",
    "- - Mediana de $X = \\frac{X_{\\frac{n}{2}}+ X_{\\frac{n+1}{2}}}{2}$ `Se tamanho da amostra par`\n",
    "\n",
    "Como os valores de **indice no python** começam em `0`, devemos nos atentar que a equação acima deve ficar como:\n",
    "\n",
    "- - Mediana de $X = X_{\\frac{n}{2}}$ `Se tamanho da amostra par`\n",
    "\n",
    "\n",
    "- - Mediana de $X = \\frac{X_{\\frac{n-1}{2}}+ X_{\\frac{n}{2}}}{2}$ `Se tamanho da amostra ímpar`"
   ]
  },
  {
   "cell_type": "code",
   "execution_count": 195,
   "metadata": {
    "ExecuteTime": {
     "end_time": "2021-04-22T22:20:55.308549Z",
     "start_time": "2021-04-22T22:20:55.285037Z"
    }
   },
   "outputs": [
    {
     "name": "stdout",
     "output_type": "stream",
     "text": [
      "[1, 2, 2, 3, 4, 5, 7, 8, 10, 12, 13, 15, 15, 15, 16, 17, 18, 19]\n",
      "par\n",
      "lo 8\n",
      "hi 9\n",
      "mediana alunos - 11.0\n",
      "mediana correta -  11.0\n"
     ]
    }
   ],
   "source": [
    "np.random.seed(115)\n",
    "amostra = np.random.randint(1,20,18)\n",
    "## defina mediana \n",
    "print(sorted(amostra))\n",
    "\n",
    "def mediana(vetor):\n",
    "    vetor = sorted(vetor)\n",
    "    n = len(vetor)\n",
    "    \n",
    "    if n % 2 == 0:\n",
    "        lo = n//2 - 1\n",
    "        hi = n//2\n",
    "        print('lo', lo)\n",
    "        print('hi', hi)\n",
    "        \n",
    "        return (vetor[lo]+vetor[hi])/2\n",
    "    \n",
    "    else:\n",
    "        lo = n//2\n",
    "        return vetor[lo]\n",
    "        \n",
    "\n",
    "print('mediana alunos -', mediana(amostra))\n",
    "print('mediana correta - ', np.median(amostra))\n"
   ]
  },
  {
   "cell_type": "code",
   "execution_count": 197,
   "metadata": {},
   "outputs": [
    {
     "name": "stdout",
     "output_type": "stream",
     "text": [
      "[1, 3, 7, 15, 16, 17, 19]\n",
      "mediana alunos - 15\n",
      "mediana correta -  15.0\n"
     ]
    }
   ],
   "source": [
    "np.random.seed(115)\n",
    "amostra = np.random.randint(1,20,7)\n",
    "## defina mediana \n",
    "print(sorted(amostra))\n",
    "\n",
    "def mediana(vetor):\n",
    "    n = len(vetor)\n",
    "    sorted_v = sorted(vetor)\n",
    "    midpoint = n // 2\n",
    "    if n % 2 == 1:\n",
    "        return sorted_v[midpoint]\n",
    "    else:\n",
    "        lo = midpoint - 1\n",
    "        hi = midpoint\n",
    "        return (sorted_v[lo] + sorted_v[hi]) / 2\n",
    "\n",
    "\n",
    "print('mediana alunos -', mediana(amostra))\n",
    "print('mediana correta - ', np.median(amostra))\n"
   ]
  },
  {
   "cell_type": "code",
   "execution_count": 13,
   "metadata": {
    "ExecuteTime": {
     "end_time": "2021-04-22T22:21:03.827097Z",
     "start_time": "2021-04-22T22:21:03.811504Z"
    }
   },
   "outputs": [
    {
     "data": {
      "text/plain": [
       "11.0"
      ]
     },
     "execution_count": 13,
     "metadata": {},
     "output_type": "execute_result"
    }
   ],
   "source": [
    "amostra_pandas['estudos_anos'].median()"
   ]
  },
  {
   "cell_type": "markdown",
   "metadata": {},
   "source": [
    "### Quartis\n",
    "\n",
    "Os quartis não são medidas de variabilidade, mas a partir deles, é possível construir o intervalo interquartilíco que é uma medida de variabilidade.\n",
    "Quartis (Q1, Q2 e Q3): São valores dados a partir do conjunto de observações ordenado em ordem crescente, que dividem os seus dados em quatro partes iguais. O primeiro quartil, Q1, é o número que deixa 25% das observações abaixo e 75% acima, enquanto que o terceiro quartil, Q3, deixa 75% das observações abaixo e 25% acima. Já Q2 é a mediana, deixa 50% das observações abaixo e 50% das observações acima.\n",
    "\n",
    "<img src=\"../images/quartis.png\" width=\"700\" height=\"700\" />"
   ]
  },
  {
   "cell_type": "code",
   "execution_count": 198,
   "metadata": {
    "ExecuteTime": {
     "end_time": "2021-04-20T23:16:51.337474Z",
     "start_time": "2021-04-20T23:16:51.306440Z"
    }
   },
   "outputs": [
    {
     "name": "stdout",
     "output_type": "stream",
     "text": [
      "   idade\n",
      "0     -1\n",
      "8    107\n",
      "5    112\n",
      "9    114\n",
      "1    131\n",
      "2    141\n",
      "4    146\n",
      "3    162\n",
      "6    165\n",
      "7    199\n",
      "Q1 - 112.5\n",
      "Q2 - 136.0\n",
      "Q3 - 158.0\n",
      "IQR - 45.5\n",
      "Q3 + 1.5IQR - 226.25\n",
      "Q1 - 1.5IQR - 44.25\n"
     ]
    }
   ],
   "source": [
    "amostra = np.random.randint(100,200,10)\n",
    "\n",
    "amostra[0] = -1\n",
    "amostra = pd.DataFrame(amostra ,columns=[\"idade\"])\n",
    "print(amostra.sort_values(by='idade'))\n",
    "print('Q1 -', amostra['idade'].quantile(q=0.25))\n",
    "print('Q2 -', amostra['idade'].quantile(q=0.5))\n",
    "print('Q3 -', amostra['idade'].quantile(q=0.75))\n",
    "\n",
    "\n",
    "iqr = amostra['idade'].quantile(q=0.75) - amostra['idade'].quantile(q=0.25)\n",
    "\n",
    "print('IQR -', iqr)\n",
    "print('Q3 + 1.5IQR -', amostra['idade'].quantile(q=0.75) + 1.5*iqr)\n",
    "print('Q1 - 1.5IQR -', amostra['idade'].quantile(q=0.25) - 1.5*iqr)\n",
    "\n"
   ]
  },
  {
   "cell_type": "code",
   "execution_count": 15,
   "metadata": {
    "ExecuteTime": {
     "end_time": "2021-04-20T23:18:48.392122Z",
     "start_time": "2021-04-20T23:18:48.383121Z"
    }
   },
   "outputs": [
    {
     "name": "stdout",
     "output_type": "stream",
     "text": [
      "P99 - 195.94\n"
     ]
    }
   ],
   "source": [
    "print('P99 -', amostra['idade'].quantile(q=0.99))"
   ]
  },
  {
   "cell_type": "code",
   "execution_count": 16,
   "metadata": {
    "ExecuteTime": {
     "end_time": "2021-04-20T23:16:54.605903Z",
     "start_time": "2021-04-20T23:16:54.444910Z"
    }
   },
   "outputs": [
    {
     "data": {
      "text/plain": [
       "<AxesSubplot:>"
      ]
     },
     "execution_count": 16,
     "metadata": {},
     "output_type": "execute_result"
    },
    {
     "data": {
      "image/png": "[encoded data removed]",
      "text/plain": [
       "<Figure size 432x288 with 1 Axes>"
      ]
     },
     "metadata": {
      "needs_background": "light"
     },
     "output_type": "display_data"
    }
   ],
   "source": [
    "amostra['idade'].plot.box()"
   ]
  },
  {
   "cell_type": "markdown",
   "metadata": {},
   "source": [
    "### Intervalo Interquartílico\n",
    "\n",
    "Por construção, aproximadamente metade dos dados estão entre o 1º e o 3º quartil, isto é, este também pode ser interpretado como um intervalo de valores tipicamente assumidos pelas observações. \n"
   ]
  },
  {
   "cell_type": "code",
   "execution_count": 17,
   "metadata": {
    "ExecuteTime": {
     "end_time": "2021-04-20T23:19:09.872408Z",
     "start_time": "2021-04-20T23:19:09.856410Z"
    }
   },
   "outputs": [
    {
     "data": {
      "text/plain": [
       "45.5"
      ]
     },
     "execution_count": 17,
     "metadata": {},
     "output_type": "execute_result"
    }
   ],
   "source": [
    "amostra['idade'].quantile(q=0.75) - amostra['idade'].quantile(q=0.25)"
   ]
  },
  {
   "cell_type": "markdown",
   "metadata": {},
   "source": [
    "### Moda\n",
    "\n",
    "A **moda** é o valor que ocorre com **mais frequencia** em um conjunto de dados \n",
    "\n",
    "Dependendo do conjunto de dados, ele pode ser:\n",
    "\n",
    "- Sem moda: quando nenhum valor se repete \n",
    "\n",
    "- unimodal: Quando existe apenas um valor repetido com maior frequência \n",
    "\n",
    "- bimodal- quando existem dois valores com a mesma frequência\n",
    "\n",
    "\n"
   ]
  },
  {
   "cell_type": "code",
   "execution_count": 203,
   "metadata": {},
   "outputs": [],
   "source": [
    "amostra.loc[0] = 10"
   ]
  },
  {
   "cell_type": "code",
   "execution_count": 204,
   "metadata": {
    "ExecuteTime": {
     "end_time": "2021-04-20T23:20:38.461067Z",
     "start_time": "2021-04-20T23:20:38.447072Z"
    }
   },
   "outputs": [
    {
     "data": {
      "text/plain": [
       "0     10\n",
       "1    107\n",
       "2    112\n",
       "3    114\n",
       "4    131\n",
       "5    141\n",
       "6    146\n",
       "7    162\n",
       "8    165\n",
       "9    199\n",
       "dtype: int64"
      ]
     },
     "execution_count": 204,
     "metadata": {},
     "output_type": "execute_result"
    }
   ],
   "source": [
    "amostra['idade'].mode()"
   ]
  },
  {
   "cell_type": "markdown",
   "metadata": {},
   "source": [
    "## Medidas de Dispersão\n",
    "\n",
    "Medidas de variabilidade indicam o quanto as observações variam ao redor da medida de centralidade. Em outras palavras, indicam o quão longe podemos esperar que uma observação esteja do valor típico para aquela variável. Existem diversas medidas de variabilidade, algumas das quais apresentamos a seguir.\n",
    "\n",
    "### Amplitude\n",
    "\n",
    "A amplitude é a diferença entre o maior e o menor valor observado. Esta medida de variabilidade é fortemente influenciada por valores extremos nas observações, como outliers. "
   ]
  },
  {
   "cell_type": "code",
   "execution_count": 207,
   "metadata": {
    "ExecuteTime": {
     "end_time": "2021-04-20T23:23:17.904584Z",
     "start_time": "2021-04-20T23:23:17.885051Z"
    }
   },
   "outputs": [
    {
     "data": {
      "text/plain": [
       "189"
      ]
     },
     "execution_count": 207,
     "metadata": {},
     "output_type": "execute_result"
    }
   ],
   "source": [
    "max(amostra['idade'])-min(amostra['idade'])\n"
   ]
  },
  {
   "cell_type": "code",
   "execution_count": 208,
   "metadata": {
    "ExecuteTime": {
     "end_time": "2021-04-20T23:24:38.047991Z",
     "start_time": "2021-04-20T23:24:38.031465Z"
    }
   },
   "outputs": [
    {
     "data": {
      "text/plain": [
       "189"
      ]
     },
     "execution_count": 208,
     "metadata": {},
     "output_type": "execute_result"
    }
   ],
   "source": [
    "amostra.idade.max() - amostra.idade.min()"
   ]
  },
  {
   "cell_type": "code",
   "execution_count": 209,
   "metadata": {},
   "outputs": [
    {
     "data": {
      "text/plain": [
       "189"
      ]
     },
     "execution_count": 209,
     "metadata": {},
     "output_type": "execute_result"
    }
   ],
   "source": [
    "amostra['idade'].max() - amostra['idade'].min()"
   ]
  },
  {
   "cell_type": "markdown",
   "metadata": {},
   "source": [
    "### Variância \n",
    "\n",
    "- *Exemplo*: suponha que você precisa de uma maquina que fabrique parafusos com 5cm de comprimento, e receba proposta de duas empresas interessadas em te vender uma maquina de fazer parafusos\n",
    "\n",
    "- - aqui são os resultados das duas maquinas :\n",
    "\n",
    "$$ MAQUINA_1 = [3,3,5,7,7] $$\n",
    "\n",
    "$$ MAQUINA_2 = [4,4,5,6,6] $$\n",
    "\n",
    "qual das duas maquinas você compraria ? \n",
    "\n",
    "\n",
    "###  *Cálculo da variância* \n",
    "- - Quanto os valores se afastam da média ?\n",
    "\n",
    "**Formula** :\n",
    "\n",
    "$$ \\sum_{i=1}^{n}\\frac{(x-\\overline{x})^{2}}{n-1}$$"
   ]
  },
  {
   "cell_type": "code",
   "execution_count": 24,
   "metadata": {
    "ExecuteTime": {
     "end_time": "2021-04-20T23:25:31.777113Z",
     "start_time": "2021-04-20T23:25:31.761120Z"
    }
   },
   "outputs": [],
   "source": [
    "maquina1 = np.array([3, 3, 5, 7, 7])\n",
    "maquina2 = np.array([4, 4, 5, 6, 6])"
   ]
  },
  {
   "cell_type": "code",
   "execution_count": 214,
   "metadata": {},
   "outputs": [
    {
     "data": {
      "text/plain": [
       "5.0"
      ]
     },
     "execution_count": 214,
     "metadata": {},
     "output_type": "execute_result"
    }
   ],
   "source": [
    "maquina1.mean()"
   ]
  },
  {
   "cell_type": "code",
   "execution_count": 215,
   "metadata": {},
   "outputs": [
    {
     "data": {
      "text/plain": [
       "5.0"
      ]
     },
     "execution_count": 215,
     "metadata": {},
     "output_type": "execute_result"
    }
   ],
   "source": [
    "maquina2.mean()"
   ]
  },
  {
   "cell_type": "code",
   "execution_count": 229,
   "metadata": {},
   "outputs": [],
   "source": [
    "def variancia(arr):\n",
    "    media = arr.mean()\n",
    "    return sum([((arr - media)**2)/(len(arr)-1) for item in arr])\n",
    "\n",
    "def variancia(arr):\n",
    "    return sum((arr - np.mean(arr))**2)/(len(arr)-1)"
   ]
  },
  {
   "cell_type": "code",
   "execution_count": 221,
   "metadata": {
    "ExecuteTime": {
     "end_time": "2021-04-20T23:31:28.421642Z",
     "start_time": "2021-04-20T23:31:28.401124Z"
    }
   },
   "outputs": [
    {
     "name": "stdout",
     "output_type": "stream",
     "text": [
      "---------------maquina 1---------------\n",
      "[3 3 5 7 7]\n",
      "var - 4.0\n",
      "mean - 5.0\n",
      "---------------maquina 2---------------\n",
      "[4 4 5 6 6]\n",
      "var - 1.0\n",
      "mean - 5.0\n"
     ]
    }
   ],
   "source": [
    "print('---------------maquina 1---------------')\n",
    "print(maquina1)\n",
    "print('var -',variancia(maquina1))\n",
    "print('mean -',maquina1.mean())\n",
    "print('---------------maquina 2---------------')\n",
    "print(maquina2)\n",
    "print('var -',variancia(maquina2))\n",
    "print('mean -',maquina2.mean())"
   ]
  },
  {
   "cell_type": "code",
   "execution_count": 230,
   "metadata": {},
   "outputs": [
    {
     "data": {
      "text/plain": [
       "4.0"
      ]
     },
     "execution_count": 230,
     "metadata": {},
     "output_type": "execute_result"
    }
   ],
   "source": [
    "#pandas\n",
    "pd.DataFrame(maquina1, columns=['maquina1'])['maquina1'].var()"
   ]
  },
  {
   "cell_type": "code",
   "execution_count": 231,
   "metadata": {},
   "outputs": [
    {
     "data": {
      "text/plain": [
       "1.0"
      ]
     },
     "execution_count": 231,
     "metadata": {},
     "output_type": "execute_result"
    }
   ],
   "source": [
    "pd.DataFrame(maquina2, columns=['maquina2'])['maquina2'].var()"
   ]
  },
  {
   "cell_type": "markdown",
   "metadata": {},
   "source": [
    "### Assimetria\n",
    "\n",
    "[skew](https://pyshark.com/skewness-in-python/)\n",
    "\n",
    "É o **grau de desvio ou afastamento** da simetria de uma distribuição.Quando a curva é simétrica, a `média`,e a `mediana` e a moda coincidem,num mesmo ponto, de ordenada máxima, havendo um perfeito equilíbrio na distribuição. Quando o equilíbrio não acontece, isto é, a média, a mediana e a moda recaem em pontos diferentes da distribuição esta será assimétrica; enviesada a direita ou esquerda.\n",
    "\n",
    "<img src=\"../images/assimetria.png\" width=\"700\" height=\"700\"/>\n",
    "\n",
    "- - Distribuição assimétrica **Negativa ou enviesada a esquerda** - quando os valores se concentram na extremidade superior da escala e se distribuem gradativamente em direção à extremidade inferior.\n",
    "\n",
    "- - Distribuição assimétrica **Positiva ou enviesada a direita** quando os valores se concentram na extremidade inferior da escala e se distribuem gradativamente em direção à extremidade superior.\n",
    "\n",
    "Ex :\n",
    "\n",
    "$$[14,14,15,16,42] $$ \n",
    "- `42` valor descrepante que faz com que a média > mediana (**assimetria positiva**)\n",
    "\n",
    "$$[0,14,15,16,16] $$ \n",
    "- `0` valor descrepante que faz com que a média < mediana (**assimetria negativa**)\n"
   ]
  },
  {
   "cell_type": "code",
   "execution_count": 235,
   "metadata": {},
   "outputs": [
    {
     "data": {
      "text/html": [
       "<div>\n",
       "<style scoped>\n",
       "    .dataframe tbody tr th:only-of-type {\n",
       "        vertical-align: middle;\n",
       "    }\n",
       "\n",
       "    .dataframe tbody tr th {\n",
       "        vertical-align: top;\n",
       "    }\n",
       "\n",
       "    .dataframe thead th {\n",
       "        text-align: right;\n",
       "    }\n",
       "</style>\n",
       "<table border=\"1\" class=\"dataframe\">\n",
       "  <thead>\n",
       "    <tr style=\"text-align: right;\">\n",
       "      <th></th>\n",
       "      <th>x</th>\n",
       "      <th>y</th>\n",
       "    </tr>\n",
       "  </thead>\n",
       "  <tbody>\n",
       "    <tr>\n",
       "      <th>0</th>\n",
       "      <td>14</td>\n",
       "      <td>0</td>\n",
       "    </tr>\n",
       "    <tr>\n",
       "      <th>1</th>\n",
       "      <td>14</td>\n",
       "      <td>14</td>\n",
       "    </tr>\n",
       "    <tr>\n",
       "      <th>2</th>\n",
       "      <td>15</td>\n",
       "      <td>15</td>\n",
       "    </tr>\n",
       "    <tr>\n",
       "      <th>3</th>\n",
       "      <td>16</td>\n",
       "      <td>16</td>\n",
       "    </tr>\n",
       "    <tr>\n",
       "      <th>4</th>\n",
       "      <td>42</td>\n",
       "      <td>16</td>\n",
       "    </tr>\n",
       "  </tbody>\n",
       "</table>\n",
       "</div>"
      ],
      "text/plain": [
       "    x   y\n",
       "0  14   0\n",
       "1  14  14\n",
       "2  15  15\n",
       "3  16  16\n",
       "4  42  16"
      ]
     },
     "execution_count": 235,
     "metadata": {},
     "output_type": "execute_result"
    }
   ],
   "source": [
    "df = pd.DataFrame({'x':[14,14,15,16,42], 'y':[0,14,15,16,16]})\n",
    "df"
   ]
  },
  {
   "cell_type": "code",
   "execution_count": 236,
   "metadata": {},
   "outputs": [
    {
     "name": "stdout",
     "output_type": "stream",
     "text": [
      "0    14\n",
      "dtype: int64\n",
      "15.0\n",
      "20.2\n"
     ]
    }
   ],
   "source": [
    "print(df['x'].mode())\n",
    "print(df['x'].median())\n",
    "print(df['x'].mean())"
   ]
  },
  {
   "cell_type": "code",
   "execution_count": 241,
   "metadata": {},
   "outputs": [
    {
     "data": {
      "text/plain": [
       "x    2.210608\n",
       "y   -2.156505\n",
       "dtype: float64"
      ]
     },
     "execution_count": 241,
     "metadata": {},
     "output_type": "execute_result"
    }
   ],
   "source": [
    "df.skew()"
   ]
  },
  {
   "cell_type": "code",
   "execution_count": 239,
   "metadata": {},
   "outputs": [
    {
     "name": "stdout",
     "output_type": "stream",
     "text": [
      "0    16\n",
      "dtype: int64\n",
      "15.0\n",
      "12.2\n"
     ]
    }
   ],
   "source": [
    "print(df['y'].mode())\n",
    "print(df['y'].median())\n",
    "print(df['y'].mean())"
   ]
  },
  {
   "cell_type": "code",
   "execution_count": 242,
   "metadata": {},
   "outputs": [
    {
     "data": {
      "text/plain": [
       "2.210607778465237"
      ]
     },
     "execution_count": 242,
     "metadata": {},
     "output_type": "execute_result"
    }
   ],
   "source": [
    "from scipy.stats import skew\n",
    "\n",
    "skew([14,14,15,16,42], bias=False)\n"
   ]
  },
  {
   "cell_type": "code",
   "execution_count": 96,
   "metadata": {},
   "outputs": [
    {
     "data": {
      "text/plain": [
       "-1.446627734887025"
      ]
     },
     "execution_count": 96,
     "metadata": {},
     "output_type": "execute_result"
    }
   ],
   "source": [
    "skew([0,14,15,16,16])"
   ]
  },
  {
   "cell_type": "code",
   "execution_count": 95,
   "metadata": {},
   "outputs": [
    {
     "data": {
      "text/plain": [
       "-0.0054388452957245545"
      ]
     },
     "execution_count": 95,
     "metadata": {},
     "output_type": "execute_result"
    }
   ],
   "source": [
    "skew(np.random.normal(0, 2, 100000))"
   ]
  },
  {
   "cell_type": "markdown",
   "metadata": {},
   "source": [
    "### Exercícios\n",
    "*1-Descreva as seguintes variáveis abaixo como  qualitativa nominal/ ordinal ou quantitativa: discreta/ contínua*\n",
    "\n",
    "*a-Considere uma amostra K de 3 elementos: k+1,2k, e 101. Para quais valores de K a mediana dessa amostra é igual a média* \n",
    "\n",
    "- - [1]\n",
    "\n",
    "- - [50]\n",
    "\n",
    "- - [15]\n",
    "\n",
    "- - [23]\n",
    "\n",
    "- - [100]\n",
    "\n",
    "- - [67]\n",
    "\n",
    "- - [34]\n",
    "\n",
    "*b-Para quais valores de k(k+1,2k,101) tem exatamente uma moda. Selecione todos corretos*\n",
    "\n",
    "- - [1]\n",
    "- - [2]\n",
    "- - [3]\n",
    "- - [100]\n",
    "\n",
    "*c-Para K=50 e a amostra k(k+1,2k,101), qual afirmação seguinte é verdadeira*\n",
    "\n",
    "- - [media > mediana]\n",
    "\n",
    "- - [mediana > media]\n"
   ]
  },
  {
   "cell_type": "code",
   "execution_count": 251,
   "metadata": {},
   "outputs": [
    {
     "name": "stdout",
     "output_type": "stream",
     "text": [
      "False\n"
     ]
    }
   ],
   "source": [
    "import pandas as pd\n",
    "import numpy as np\n",
    "def media(lista):\n",
    "    soma = 0\n",
    "    for item in lista:\n",
    "        soma += item\n",
    "    return soma/len(lista)\n",
    "\n",
    "def monta_lista(k):\n",
    "    arr = [k+1, 2*k, 101]\n",
    "    return arr\n",
    "\n",
    "df = pd.DataFrame({'x':monta_lista(23)})\n",
    "print(df['x'].median() == df['x'].mean())"
   ]
  },
  {
   "cell_type": "code",
   "execution_count": null,
   "metadata": {},
   "outputs": [],
   "source": []
  },
  {
   "cell_type": "code",
   "execution_count": null,
   "metadata": {},
   "outputs": [],
   "source": []
  },
  {
   "cell_type": "code",
   "execution_count": null,
   "metadata": {},
   "outputs": [],
   "source": []
  },
  {
   "cell_type": "code",
   "execution_count": 252,
   "metadata": {
    "ExecuteTime": {
     "end_time": "2021-04-21T00:05:25.880967Z",
     "start_time": "2021-04-21T00:05:25.858439Z"
    }
   },
   "outputs": [
    {
     "name": "stdout",
     "output_type": "stream",
     "text": [
      "67\n",
      "34\n"
     ]
    }
   ],
   "source": [
    "def problemaA(k):\n",
    "    return k+1, 2*k, 101\n",
    "\n",
    "alternativas = [1, 50, 15, 23, 100, 67, 34]\n",
    "\n",
    "for i in alternativas:\n",
    "    lista = problemaA(i)\n",
    "    if np.mean(lista)==np.median(lista):\n",
    "        print(i)"
   ]
  },
  {
   "cell_type": "code",
   "execution_count": 253,
   "metadata": {
    "ExecuteTime": {
     "end_time": "2021-04-21T00:11:05.286600Z",
     "start_time": "2021-04-21T00:11:05.273079Z"
    }
   },
   "outputs": [
    {
     "data": {
      "text/plain": [
       "True"
      ]
     },
     "execution_count": 253,
     "metadata": {},
     "output_type": "execute_result"
    }
   ],
   "source": [
    "len(pd.Series([1, 1, 1, 2, 4, 2]).mode()) == 1"
   ]
  },
  {
   "cell_type": "code",
   "execution_count": 259,
   "metadata": {
    "ExecuteTime": {
     "end_time": "2021-04-21T00:11:18.709461Z",
     "start_time": "2021-04-21T00:11:18.689466Z"
    }
   },
   "outputs": [
    {
     "name": "stdout",
     "output_type": "stream",
     "text": [
      "1\n",
      "100\n"
     ]
    }
   ],
   "source": [
    "def apenas_uma_moda(k):\n",
    "    lista1 = k*np.array([k+1, 2*k, 101])\n",
    "    if pd.Series(lista1).mode().shape[0] == 1:\n",
    "        print(k)\n",
    "\n",
    "for i in [1, 2, 3, 100, 50]:\n",
    "    apenas_uma_moda(i)"
   ]
  },
  {
   "cell_type": "code",
   "execution_count": 262,
   "metadata": {},
   "outputs": [
    {
     "name": "stdout",
     "output_type": "stream",
     "text": [
      "5000.0\n",
      "4200.0\n"
     ]
    }
   ],
   "source": [
    "k=50\n",
    "lista1 = k*np.array([k+1, 2*k, 101])\n",
    "print(np.median(lista1))\n",
    "print(np.mean(lista1))"
   ]
  },
  {
   "cell_type": "markdown",
   "metadata": {},
   "source": [
    "# Tabela de dados\n",
    "\n",
    "Os dados brutos que trabalharemos nas duas primeiras aulas se chama Titanic. É uma base pública disponibilizada no kaggle.com em csv"
   ]
  },
  {
   "cell_type": "code",
   "execution_count": 263,
   "metadata": {
    "ExecuteTime": {
     "end_time": "2021-04-22T22:45:20.500395Z",
     "start_time": "2021-04-22T22:45:20.448399Z"
    }
   },
   "outputs": [
    {
     "data": {
      "text/html": [
       "<div>\n",
       "<style scoped>\n",
       "    .dataframe tbody tr th:only-of-type {\n",
       "        vertical-align: middle;\n",
       "    }\n",
       "\n",
       "    .dataframe tbody tr th {\n",
       "        vertical-align: top;\n",
       "    }\n",
       "\n",
       "    .dataframe thead th {\n",
       "        text-align: right;\n",
       "    }\n",
       "</style>\n",
       "<table border=\"1\" class=\"dataframe\">\n",
       "  <thead>\n",
       "    <tr style=\"text-align: right;\">\n",
       "      <th></th>\n",
       "      <th>PassengerId</th>\n",
       "      <th>Survived</th>\n",
       "      <th>Pclass</th>\n",
       "      <th>Name</th>\n",
       "      <th>Sex</th>\n",
       "      <th>Age</th>\n",
       "      <th>SibSp</th>\n",
       "      <th>Parch</th>\n",
       "      <th>Ticket</th>\n",
       "      <th>Fare</th>\n",
       "      <th>Cabin</th>\n",
       "      <th>Embarked</th>\n",
       "    </tr>\n",
       "  </thead>\n",
       "  <tbody>\n",
       "    <tr>\n",
       "      <th>0</th>\n",
       "      <td>1</td>\n",
       "      <td>0</td>\n",
       "      <td>3</td>\n",
       "      <td>Braund, Mr. Owen Harris</td>\n",
       "      <td>male</td>\n",
       "      <td>22.0</td>\n",
       "      <td>1</td>\n",
       "      <td>0</td>\n",
       "      <td>A/5 21171</td>\n",
       "      <td>7.2500</td>\n",
       "      <td>NaN</td>\n",
       "      <td>S</td>\n",
       "    </tr>\n",
       "    <tr>\n",
       "      <th>1</th>\n",
       "      <td>2</td>\n",
       "      <td>1</td>\n",
       "      <td>1</td>\n",
       "      <td>Cumings, Mrs. John Bradley (Florence Briggs Th...</td>\n",
       "      <td>female</td>\n",
       "      <td>38.0</td>\n",
       "      <td>1</td>\n",
       "      <td>0</td>\n",
       "      <td>PC 17599</td>\n",
       "      <td>71.2833</td>\n",
       "      <td>C85</td>\n",
       "      <td>C</td>\n",
       "    </tr>\n",
       "    <tr>\n",
       "      <th>2</th>\n",
       "      <td>3</td>\n",
       "      <td>1</td>\n",
       "      <td>3</td>\n",
       "      <td>Heikkinen, Miss. Laina</td>\n",
       "      <td>female</td>\n",
       "      <td>26.0</td>\n",
       "      <td>0</td>\n",
       "      <td>0</td>\n",
       "      <td>STON/O2. 3101282</td>\n",
       "      <td>7.9250</td>\n",
       "      <td>NaN</td>\n",
       "      <td>S</td>\n",
       "    </tr>\n",
       "    <tr>\n",
       "      <th>3</th>\n",
       "      <td>4</td>\n",
       "      <td>1</td>\n",
       "      <td>1</td>\n",
       "      <td>Futrelle, Mrs. Jacques Heath (Lily May Peel)</td>\n",
       "      <td>female</td>\n",
       "      <td>35.0</td>\n",
       "      <td>1</td>\n",
       "      <td>0</td>\n",
       "      <td>113803</td>\n",
       "      <td>53.1000</td>\n",
       "      <td>C123</td>\n",
       "      <td>S</td>\n",
       "    </tr>\n",
       "    <tr>\n",
       "      <th>4</th>\n",
       "      <td>5</td>\n",
       "      <td>0</td>\n",
       "      <td>3</td>\n",
       "      <td>Allen, Mr. William Henry</td>\n",
       "      <td>male</td>\n",
       "      <td>35.0</td>\n",
       "      <td>0</td>\n",
       "      <td>0</td>\n",
       "      <td>373450</td>\n",
       "      <td>8.0500</td>\n",
       "      <td>NaN</td>\n",
       "      <td>S</td>\n",
       "    </tr>\n",
       "  </tbody>\n",
       "</table>\n",
       "</div>"
      ],
      "text/plain": [
       "   PassengerId  Survived  Pclass  \\\n",
       "0            1         0       3   \n",
       "1            2         1       1   \n",
       "2            3         1       3   \n",
       "3            4         1       1   \n",
       "4            5         0       3   \n",
       "\n",
       "                                                Name     Sex   Age  SibSp  \\\n",
       "0                            Braund, Mr. Owen Harris    male  22.0      1   \n",
       "1  Cumings, Mrs. John Bradley (Florence Briggs Th...  female  38.0      1   \n",
       "2                             Heikkinen, Miss. Laina  female  26.0      0   \n",
       "3       Futrelle, Mrs. Jacques Heath (Lily May Peel)  female  35.0      1   \n",
       "4                           Allen, Mr. William Henry    male  35.0      0   \n",
       "\n",
       "   Parch            Ticket     Fare Cabin Embarked  \n",
       "0      0         A/5 21171   7.2500   NaN        S  \n",
       "1      0          PC 17599  71.2833   C85        C  \n",
       "2      0  STON/O2. 3101282   7.9250   NaN        S  \n",
       "3      0            113803  53.1000  C123        S  \n",
       "4      0            373450   8.0500   NaN        S  "
      ]
     },
     "execution_count": 263,
     "metadata": {},
     "output_type": "execute_result"
    }
   ],
   "source": [
    "import pandas as pd\n",
    "import statistics as st\n",
    "import matplotlib.pyplot as plt\n",
    "import seaborn as sns\n",
    "\n",
    "df = pd.read_csv ('../datasets/titanic.csv')\n",
    "\n",
    "df.head()"
   ]
  },
  {
   "cell_type": "markdown",
   "metadata": {},
   "source": [
    "## O que temos nessa tabela?\n",
    "\n",
    "**PassengerId:**  Identificação do passageiro. Numerados sequencialmente de 1 a 891  \n",
    "**Survived:** Informa se o passageiro sobreviveu ao desastre. 0 = Não; 1 = Sim  \n",
    "**Pclass:** Classe na qual o passageiro viajou. 1 = Primeira Classe; 2 = Segunda Classe; 3 = Terceira Classe  \n",
    "**Name:** Nome do passageiro  \n",
    "**Sex:** Sexo do passageiro  \n",
    "**Age:** Idade do passageiro  \n",
    "**SlbSp:** Informa a quantidade de irmãos e cônjuges que o paciente possuía na embarcação  \n",
    "**Parch:** Quantidade de crianças e idosos (pais) relativos ao passageiro  \n",
    "**Ticket:** Código de identificação da passagem  \n",
    "**Tarifa:** Valor da passagem  \n",
    "**Cabin:** Identificação da Cabine  \n",
    "**Embarque:** Local onde o passageiro embarcoum"
   ]
  },
  {
   "cell_type": "code",
   "execution_count": 264,
   "metadata": {
    "ExecuteTime": {
     "end_time": "2021-04-21T00:13:22.370049Z",
     "start_time": "2021-04-21T00:13:22.323527Z"
    }
   },
   "outputs": [
    {
     "data": {
      "text/html": [
       "<div>\n",
       "<style scoped>\n",
       "    .dataframe tbody tr th:only-of-type {\n",
       "        vertical-align: middle;\n",
       "    }\n",
       "\n",
       "    .dataframe tbody tr th {\n",
       "        vertical-align: top;\n",
       "    }\n",
       "\n",
       "    .dataframe thead th {\n",
       "        text-align: right;\n",
       "    }\n",
       "</style>\n",
       "<table border=\"1\" class=\"dataframe\">\n",
       "  <thead>\n",
       "    <tr style=\"text-align: right;\">\n",
       "      <th></th>\n",
       "      <th>PassengerId</th>\n",
       "      <th>Survived</th>\n",
       "      <th>Pclass</th>\n",
       "      <th>Age</th>\n",
       "      <th>SibSp</th>\n",
       "      <th>Parch</th>\n",
       "      <th>Fare</th>\n",
       "    </tr>\n",
       "  </thead>\n",
       "  <tbody>\n",
       "    <tr>\n",
       "      <th>count</th>\n",
       "      <td>891.000000</td>\n",
       "      <td>891.000000</td>\n",
       "      <td>891.000000</td>\n",
       "      <td>714.000000</td>\n",
       "      <td>891.000000</td>\n",
       "      <td>891.000000</td>\n",
       "      <td>891.000000</td>\n",
       "    </tr>\n",
       "    <tr>\n",
       "      <th>mean</th>\n",
       "      <td>446.000000</td>\n",
       "      <td>0.383838</td>\n",
       "      <td>2.308642</td>\n",
       "      <td>29.699118</td>\n",
       "      <td>0.523008</td>\n",
       "      <td>0.381594</td>\n",
       "      <td>32.204208</td>\n",
       "    </tr>\n",
       "    <tr>\n",
       "      <th>std</th>\n",
       "      <td>257.353842</td>\n",
       "      <td>0.486592</td>\n",
       "      <td>0.836071</td>\n",
       "      <td>14.526497</td>\n",
       "      <td>1.102743</td>\n",
       "      <td>0.806057</td>\n",
       "      <td>49.693429</td>\n",
       "    </tr>\n",
       "    <tr>\n",
       "      <th>min</th>\n",
       "      <td>1.000000</td>\n",
       "      <td>0.000000</td>\n",
       "      <td>1.000000</td>\n",
       "      <td>0.420000</td>\n",
       "      <td>0.000000</td>\n",
       "      <td>0.000000</td>\n",
       "      <td>0.000000</td>\n",
       "    </tr>\n",
       "    <tr>\n",
       "      <th>25%</th>\n",
       "      <td>223.500000</td>\n",
       "      <td>0.000000</td>\n",
       "      <td>2.000000</td>\n",
       "      <td>20.125000</td>\n",
       "      <td>0.000000</td>\n",
       "      <td>0.000000</td>\n",
       "      <td>7.910400</td>\n",
       "    </tr>\n",
       "    <tr>\n",
       "      <th>50%</th>\n",
       "      <td>446.000000</td>\n",
       "      <td>0.000000</td>\n",
       "      <td>3.000000</td>\n",
       "      <td>28.000000</td>\n",
       "      <td>0.000000</td>\n",
       "      <td>0.000000</td>\n",
       "      <td>14.454200</td>\n",
       "    </tr>\n",
       "    <tr>\n",
       "      <th>75%</th>\n",
       "      <td>668.500000</td>\n",
       "      <td>1.000000</td>\n",
       "      <td>3.000000</td>\n",
       "      <td>38.000000</td>\n",
       "      <td>1.000000</td>\n",
       "      <td>0.000000</td>\n",
       "      <td>31.000000</td>\n",
       "    </tr>\n",
       "    <tr>\n",
       "      <th>max</th>\n",
       "      <td>891.000000</td>\n",
       "      <td>1.000000</td>\n",
       "      <td>3.000000</td>\n",
       "      <td>80.000000</td>\n",
       "      <td>8.000000</td>\n",
       "      <td>6.000000</td>\n",
       "      <td>512.329200</td>\n",
       "    </tr>\n",
       "  </tbody>\n",
       "</table>\n",
       "</div>"
      ],
      "text/plain": [
       "       PassengerId    Survived      Pclass         Age       SibSp  \\\n",
       "count   891.000000  891.000000  891.000000  714.000000  891.000000   \n",
       "mean    446.000000    0.383838    2.308642   29.699118    0.523008   \n",
       "std     257.353842    0.486592    0.836071   14.526497    1.102743   \n",
       "min       1.000000    0.000000    1.000000    0.420000    0.000000   \n",
       "25%     223.500000    0.000000    2.000000   20.125000    0.000000   \n",
       "50%     446.000000    0.000000    3.000000   28.000000    0.000000   \n",
       "75%     668.500000    1.000000    3.000000   38.000000    1.000000   \n",
       "max     891.000000    1.000000    3.000000   80.000000    8.000000   \n",
       "\n",
       "            Parch        Fare  \n",
       "count  891.000000  891.000000  \n",
       "mean     0.381594   32.204208  \n",
       "std      0.806057   49.693429  \n",
       "min      0.000000    0.000000  \n",
       "25%      0.000000    7.910400  \n",
       "50%      0.000000   14.454200  \n",
       "75%      0.000000   31.000000  \n",
       "max      6.000000  512.329200  "
      ]
     },
     "execution_count": 264,
     "metadata": {},
     "output_type": "execute_result"
    }
   ],
   "source": [
    "#### Quais variáveis você tiraria a média \n",
    "df.describe()\n"
   ]
  },
  {
   "cell_type": "code",
   "execution_count": null,
   "metadata": {},
   "outputs": [],
   "source": []
  },
  {
   "cell_type": "markdown",
   "metadata": {},
   "source": [
    "## Tabelas de Frequência"
   ]
  },
  {
   "cell_type": "markdown",
   "metadata": {},
   "source": [
    "A distribuição de frequências é um agrupamento de dados em classes, de tal forma que contabilizamos o número de ocorrências em cada classe. O número de ocorrências de uma determinada classe recebe o nome de frequência absoluta. O objetivo é apresentar os dados de uma maneira mais concisa e que nos permita extrair informação sobre seu comportamento. A seguir, apresentamos algumas definições necessárias à construção da distribuição de frequências.\n",
    "\n",
    "**Frequência absoluta (ƒi):** É o número de observações correspondente a cada classe. A frequência absoluta é, geralmente, chamada apenas de frequência.\n",
    "\n",
    "**Frequência relativa (ƒri):** É o quociente entre a frequência absoluta da classe correspondente e a soma das frequências (total observado), isto é, $ \\displaystyle f_{ri}=\\frac{f_i}{\\sum_{j}f_j} $ onde n representa o número total de observações.\n",
    "\n",
    "**Frequência percentual (pi):** É obtida multiplicando a frequência relativa por 100%.\n",
    "\n",
    "**Frequência acumulada:** É o total acumulado (soma) de todas as classes anteriores até a classe atual. Pode ser: frequência acumulada absoluta (Fi), frequência acumulada relativa (Fri), ou frequência acumulada percentual (Pi).\n",
    "\n",
    "\n"
   ]
  },
  {
   "cell_type": "code",
   "execution_count": 268,
   "metadata": {},
   "outputs": [
    {
     "data": {
      "text/html": [
       "<div>\n",
       "<style scoped>\n",
       "    .dataframe tbody tr th:only-of-type {\n",
       "        vertical-align: middle;\n",
       "    }\n",
       "\n",
       "    .dataframe tbody tr th {\n",
       "        vertical-align: top;\n",
       "    }\n",
       "\n",
       "    .dataframe thead th {\n",
       "        text-align: right;\n",
       "    }\n",
       "</style>\n",
       "<table border=\"1\" class=\"dataframe\">\n",
       "  <thead>\n",
       "    <tr style=\"text-align: right;\">\n",
       "      <th>Sex</th>\n",
       "      <th>female</th>\n",
       "      <th>male</th>\n",
       "      <th>All</th>\n",
       "    </tr>\n",
       "    <tr>\n",
       "      <th>Survived</th>\n",
       "      <th></th>\n",
       "      <th></th>\n",
       "      <th></th>\n",
       "    </tr>\n",
       "  </thead>\n",
       "  <tbody>\n",
       "    <tr>\n",
       "      <th>0</th>\n",
       "      <td>81</td>\n",
       "      <td>468</td>\n",
       "      <td>549</td>\n",
       "    </tr>\n",
       "    <tr>\n",
       "      <th>1</th>\n",
       "      <td>233</td>\n",
       "      <td>109</td>\n",
       "      <td>342</td>\n",
       "    </tr>\n",
       "    <tr>\n",
       "      <th>All</th>\n",
       "      <td>314</td>\n",
       "      <td>577</td>\n",
       "      <td>891</td>\n",
       "    </tr>\n",
       "  </tbody>\n",
       "</table>\n",
       "</div>"
      ],
      "text/plain": [
       "Sex       female  male  All\n",
       "Survived                   \n",
       "0             81   468  549\n",
       "1            233   109  342\n",
       "All          314   577  891"
      ]
     },
     "execution_count": 268,
     "metadata": {},
     "output_type": "execute_result"
    }
   ],
   "source": [
    "pd.crosstab(index=df[\"Survived\"], \n",
    "                           columns=df[\"Sex\"],margins=True)"
   ]
  },
  {
   "cell_type": "code",
   "execution_count": 271,
   "metadata": {
    "ExecuteTime": {
     "end_time": "2021-04-21T00:16:12.023380Z",
     "start_time": "2021-04-21T00:16:11.988381Z"
    },
    "scrolled": true
   },
   "outputs": [
    {
     "data": {
      "text/html": [
       "<div>\n",
       "<style scoped>\n",
       "    .dataframe tbody tr th:only-of-type {\n",
       "        vertical-align: middle;\n",
       "    }\n",
       "\n",
       "    .dataframe tbody tr th {\n",
       "        vertical-align: top;\n",
       "    }\n",
       "\n",
       "    .dataframe thead th {\n",
       "        text-align: right;\n",
       "    }\n",
       "</style>\n",
       "<table border=\"1\" class=\"dataframe\">\n",
       "  <thead>\n",
       "    <tr style=\"text-align: right;\">\n",
       "      <th>col_0</th>\n",
       "      <th>count</th>\n",
       "    </tr>\n",
       "    <tr>\n",
       "      <th>Survived</th>\n",
       "      <th></th>\n",
       "    </tr>\n",
       "  </thead>\n",
       "  <tbody>\n",
       "    <tr>\n",
       "      <th>0</th>\n",
       "      <td>549</td>\n",
       "    </tr>\n",
       "    <tr>\n",
       "      <th>1</th>\n",
       "      <td>342</td>\n",
       "    </tr>\n",
       "  </tbody>\n",
       "</table>\n",
       "</div>"
      ],
      "text/plain": [
       "col_0     count\n",
       "Survived       \n",
       "0           549\n",
       "1           342"
      ]
     },
     "execution_count": 271,
     "metadata": {},
     "output_type": "execute_result"
    }
   ],
   "source": [
    "my_tab = pd.crosstab(index=df[\"Survived\"],  # Make a crosstab\n",
    "                              columns=\"count\")      # Name the count column\n",
    "\n",
    "my_tab\n",
    "\n"
   ]
  },
  {
   "cell_type": "markdown",
   "metadata": {},
   "source": [
    "## Exercicio\n",
    "\n",
    "1. Complete as tabelas de frequencia com frequencia relativa e frequência acumulada:\n",
    " - - 1.a)\n",
    " \n",
    "| Sobreviveu ?         | contagem | Fri | Fr acumulada | \n",
    "|----------------------|----------|-----|--------------|\n",
    "|                      |          |     |              |\n",
    "|                      |          |     |              | \n",
    "\n",
    "\n",
    "\n",
    "\n",
    "\n",
    "\n",
    " - - 1.b)\n",
    " \n",
    " \n",
    "| Classe do passageiro | contagem | Fri | Fr acumulada | \n",
    "|----------------------|----------|-----|--------------|\n",
    "|                      |          |     |              | \n",
    "|                      |          |     |              |  \n",
    "|                      |          |     |              |   "
   ]
  },
  {
   "cell_type": "code",
   "execution_count": 310,
   "metadata": {},
   "outputs": [
    {
     "name": "stdout",
     "output_type": "stream",
     "text": [
      "0.6161616161616161\n",
      "1.0\n"
     ]
    }
   ],
   "source": [
    "for i in range(len(my_tab['Fri'])):\n",
    "    print(sum(my_tab['Fri'][0:i+1]))"
   ]
  },
  {
   "cell_type": "code",
   "execution_count": 316,
   "metadata": {},
   "outputs": [
    {
     "data": {
      "text/plain": [
       "Contagem        891.000000\n",
       "Fri               1.000000\n",
       "Fr A              1.616162\n",
       "Fr Acumulada      1.616162\n",
       "dtype: float64"
      ]
     },
     "execution_count": 316,
     "metadata": {},
     "output_type": "execute_result"
    }
   ],
   "source": [
    "my_tab.sum()"
   ]
  },
  {
   "cell_type": "code",
   "execution_count": 319,
   "metadata": {},
   "outputs": [
    {
     "data": {
      "text/html": [
       "<div>\n",
       "<style scoped>\n",
       "    .dataframe tbody tr th:only-of-type {\n",
       "        vertical-align: middle;\n",
       "    }\n",
       "\n",
       "    .dataframe tbody tr th {\n",
       "        vertical-align: top;\n",
       "    }\n",
       "\n",
       "    .dataframe thead th {\n",
       "        text-align: right;\n",
       "    }\n",
       "</style>\n",
       "<table border=\"1\" class=\"dataframe\">\n",
       "  <thead>\n",
       "    <tr style=\"text-align: right;\">\n",
       "      <th></th>\n",
       "      <th>Morreu</th>\n",
       "      <th>Sobreviveu</th>\n",
       "      <th>Total</th>\n",
       "      <th>Total 2</th>\n",
       "    </tr>\n",
       "  </thead>\n",
       "  <tbody>\n",
       "    <tr>\n",
       "      <th>Contagem</th>\n",
       "      <td>549.000000</td>\n",
       "      <td>342.000000</td>\n",
       "      <td>891.000000</td>\n",
       "      <td>891.000000</td>\n",
       "    </tr>\n",
       "    <tr>\n",
       "      <th>Fri</th>\n",
       "      <td>0.616162</td>\n",
       "      <td>0.383838</td>\n",
       "      <td>1.000000</td>\n",
       "      <td>1.000000</td>\n",
       "    </tr>\n",
       "    <tr>\n",
       "      <th>Fr A</th>\n",
       "      <td>0.616162</td>\n",
       "      <td>1.000000</td>\n",
       "      <td>1.616162</td>\n",
       "      <td>1.616162</td>\n",
       "    </tr>\n",
       "    <tr>\n",
       "      <th>Fr Acumulada</th>\n",
       "      <td>0.616162</td>\n",
       "      <td>1.000000</td>\n",
       "      <td>1.616162</td>\n",
       "      <td>1.616162</td>\n",
       "    </tr>\n",
       "  </tbody>\n",
       "</table>\n",
       "</div>"
      ],
      "text/plain": [
       "                  Morreu  Sobreviveu       Total     Total 2\n",
       "Contagem      549.000000  342.000000  891.000000  891.000000\n",
       "Fri             0.616162    0.383838    1.000000    1.000000\n",
       "Fr A            0.616162    1.000000    1.616162    1.616162\n",
       "Fr Acumulada    0.616162    1.000000    1.616162    1.616162"
      ]
     },
     "execution_count": 319,
     "metadata": {},
     "output_type": "execute_result"
    }
   ],
   "source": [
    "my_tab.T"
   ]
  },
  {
   "cell_type": "code",
   "execution_count": 318,
   "metadata": {},
   "outputs": [
    {
     "data": {
      "text/html": [
       "<div>\n",
       "<style scoped>\n",
       "    .dataframe tbody tr th:only-of-type {\n",
       "        vertical-align: middle;\n",
       "    }\n",
       "\n",
       "    .dataframe tbody tr th {\n",
       "        vertical-align: top;\n",
       "    }\n",
       "\n",
       "    .dataframe thead th {\n",
       "        text-align: right;\n",
       "    }\n",
       "</style>\n",
       "<table border=\"1\" class=\"dataframe\">\n",
       "  <thead>\n",
       "    <tr style=\"text-align: right;\">\n",
       "      <th></th>\n",
       "      <th>Contagem</th>\n",
       "      <th>Fri</th>\n",
       "      <th>Fr A</th>\n",
       "      <th>Fr Acumulada</th>\n",
       "    </tr>\n",
       "  </thead>\n",
       "  <tbody>\n",
       "    <tr>\n",
       "      <th>Morreu</th>\n",
       "      <td>549.0</td>\n",
       "      <td>0.616162</td>\n",
       "      <td>0.616162</td>\n",
       "      <td>0.616162</td>\n",
       "    </tr>\n",
       "    <tr>\n",
       "      <th>Sobreviveu</th>\n",
       "      <td>342.0</td>\n",
       "      <td>0.383838</td>\n",
       "      <td>1.000000</td>\n",
       "      <td>1.000000</td>\n",
       "    </tr>\n",
       "    <tr>\n",
       "      <th>Total</th>\n",
       "      <td>891.0</td>\n",
       "      <td>1.000000</td>\n",
       "      <td>1.616162</td>\n",
       "      <td>1.616162</td>\n",
       "    </tr>\n",
       "    <tr>\n",
       "      <th>Total 2</th>\n",
       "      <td>891.0</td>\n",
       "      <td>1.000000</td>\n",
       "      <td>1.616162</td>\n",
       "      <td>1.616162</td>\n",
       "    </tr>\n",
       "  </tbody>\n",
       "</table>\n",
       "</div>"
      ],
      "text/plain": [
       "            Contagem       Fri      Fr A  Fr Acumulada\n",
       "Morreu         549.0  0.616162  0.616162      0.616162\n",
       "Sobreviveu     342.0  0.383838  1.000000      1.000000\n",
       "Total          891.0  1.000000  1.616162      1.616162\n",
       "Total 2        891.0  1.000000  1.616162      1.616162"
      ]
     },
     "execution_count": 318,
     "metadata": {},
     "output_type": "execute_result"
    }
   ],
   "source": [
    "my_tab = pd.crosstab(index=df[\"Survived\"],  # Make a crosstab\n",
    "                              columns=\"count\")      # Name the count column\n",
    "\n",
    "\n",
    "nova_lista = ['Morreu', 'Sobreviveu']\n",
    "my_tab.index = nova_lista\n",
    "\n",
    "# my_tab.rename(columns={'count':'contagem'}, inplace=True)\n",
    "my_tab.columns = ['Contagem']\n",
    "\n",
    "\n",
    "my_tab['Fri'] =  my_tab['Contagem']/my_tab['Contagem'].sum()\n",
    "my_tab['Fr A'] = my_tab['Fri'].cumsum()\n",
    "my_tab['Fr Acumulada'] = [sum(my_tab['Fri'][0:i+1]) for i in range(len(my_tab['Fri']))]\n",
    "\n",
    "my_tab.loc['Total'] = my_tab.sum()\n",
    "my_tab.loc['Total 2'] = (my_tab.T['Morreu'] + my_tab.T['Sobreviveu'])\n",
    "\n",
    "\n",
    "my_tab"
   ]
  },
  {
   "cell_type": "code",
   "execution_count": 312,
   "metadata": {},
   "outputs": [
    {
     "data": {
      "text/html": [
       "<div>\n",
       "<style scoped>\n",
       "    .dataframe tbody tr th:only-of-type {\n",
       "        vertical-align: middle;\n",
       "    }\n",
       "\n",
       "    .dataframe tbody tr th {\n",
       "        vertical-align: top;\n",
       "    }\n",
       "\n",
       "    .dataframe thead th {\n",
       "        text-align: right;\n",
       "    }\n",
       "</style>\n",
       "<table border=\"1\" class=\"dataframe\">\n",
       "  <thead>\n",
       "    <tr style=\"text-align: right;\">\n",
       "      <th></th>\n",
       "      <th>Contagem</th>\n",
       "      <th>Fri</th>\n",
       "      <th>Fr A</th>\n",
       "      <th>Fr Acumulada</th>\n",
       "    </tr>\n",
       "  </thead>\n",
       "  <tbody>\n",
       "    <tr>\n",
       "      <th>class1</th>\n",
       "      <td>216</td>\n",
       "      <td>0.242424</td>\n",
       "      <td>0.242424</td>\n",
       "      <td>0.242424</td>\n",
       "    </tr>\n",
       "    <tr>\n",
       "      <th>class2</th>\n",
       "      <td>184</td>\n",
       "      <td>0.206510</td>\n",
       "      <td>0.448934</td>\n",
       "      <td>0.448934</td>\n",
       "    </tr>\n",
       "    <tr>\n",
       "      <th>class3</th>\n",
       "      <td>491</td>\n",
       "      <td>0.551066</td>\n",
       "      <td>1.000000</td>\n",
       "      <td>1.000000</td>\n",
       "    </tr>\n",
       "  </tbody>\n",
       "</table>\n",
       "</div>"
      ],
      "text/plain": [
       "        Contagem       Fri      Fr A  Fr Acumulada\n",
       "class1       216  0.242424  0.242424      0.242424\n",
       "class2       184  0.206510  0.448934      0.448934\n",
       "class3       491  0.551066  1.000000      1.000000"
      ]
     },
     "execution_count": 312,
     "metadata": {},
     "output_type": "execute_result"
    }
   ],
   "source": [
    "my_tab = pd.crosstab(index=df[\"Pclass\"],  # Make a crosstab\n",
    "                              columns=\"count\")      # Name the count column\n",
    "\n",
    "\n",
    "nova_lista =  [\"class1\",\"class2\",\"class3\"]\n",
    "my_tab.index = nova_lista\n",
    "\n",
    "# my_tab.rename(columns={'count':'contagem'}, inplace=True)\n",
    "my_tab.columns = ['Contagem']\n",
    "\n",
    "\n",
    "my_tab['Fri'] =  my_tab['Contagem']/my_tab['Contagem'].sum()\n",
    "my_tab['Fr A'] = my_tab['Fri'].cumsum()\n",
    "my_tab['Fr Acumulada'] = [sum(my_tab['Fri'][0:i+1]) for i in range(len(my_tab['Fri']))]\n",
    "\n",
    "my_tab"
   ]
  },
  {
   "cell_type": "markdown",
   "metadata": {},
   "source": [
    "## Tabela de dupla entrada ou contigência"
   ]
  },
  {
   "cell_type": "code",
   "execution_count": 333,
   "metadata": {},
   "outputs": [
    {
     "data": {
      "text/html": [
       "<div>\n",
       "<style scoped>\n",
       "    .dataframe tbody tr th:only-of-type {\n",
       "        vertical-align: middle;\n",
       "    }\n",
       "\n",
       "    .dataframe tbody tr th {\n",
       "        vertical-align: top;\n",
       "    }\n",
       "\n",
       "    .dataframe thead th {\n",
       "        text-align: right;\n",
       "    }\n",
       "</style>\n",
       "<table border=\"1\" class=\"dataframe\">\n",
       "  <thead>\n",
       "    <tr style=\"text-align: right;\">\n",
       "      <th>Sex</th>\n",
       "      <th>female</th>\n",
       "      <th>male</th>\n",
       "      <th>All</th>\n",
       "    </tr>\n",
       "  </thead>\n",
       "  <tbody>\n",
       "    <tr>\n",
       "      <th>morreu</th>\n",
       "      <td>0.257962</td>\n",
       "      <td>0.811092</td>\n",
       "      <td>0.616162</td>\n",
       "    </tr>\n",
       "    <tr>\n",
       "      <th>sobreviveu</th>\n",
       "      <td>0.742038</td>\n",
       "      <td>0.188908</td>\n",
       "      <td>0.383838</td>\n",
       "    </tr>\n",
       "    <tr>\n",
       "      <th>Total</th>\n",
       "      <td>1.000000</td>\n",
       "      <td>1.000000</td>\n",
       "      <td>1.000000</td>\n",
       "    </tr>\n",
       "  </tbody>\n",
       "</table>\n",
       "</div>"
      ],
      "text/plain": [
       "Sex           female      male       All\n",
       "morreu      0.257962  0.811092  0.616162\n",
       "sobreviveu  0.742038  0.188908  0.383838\n",
       "Total       1.000000  1.000000  1.000000"
      ]
     },
     "execution_count": 333,
     "metadata": {},
     "output_type": "execute_result"
    }
   ],
   "source": [
    "# tabela de sobreviventes por sexo \n",
    "\n",
    "survived_sexo = pd.crosstab(index=df[\"Survived\"], \n",
    "                           columns=df[\"Sex\"],margins=True)\n",
    "# survived_sexo\n",
    "survived_sexo.index= [\"morreu\",\"sobreviveu\",\"Total\"]\n",
    "# survived_sexo\n",
    "#### lembrar \n",
    "# survived_sexo.reset_index(drop=True)\n",
    "\n",
    "# survived_sexo['Sex']\n",
    "survived_sexo/survived_sexo.loc[\"Total\"]\n",
    "# survived_sexo"
   ]
  },
  {
   "cell_type": "markdown",
   "metadata": {},
   "source": [
    "# Visualização de dados\n",
    "\n",
    "##  Histograma"
   ]
  },
  {
   "cell_type": "code",
   "execution_count": 104,
   "metadata": {
    "ExecuteTime": {
     "end_time": "2021-04-21T00:35:55.518460Z",
     "start_time": "2021-04-21T00:35:54.074461Z"
    }
   },
   "outputs": [
    {
     "data": {
      "text/plain": [
       "array([[<AxesSubplot:title={'center':'PassengerId'}>,\n",
       "        <AxesSubplot:title={'center':'Survived'}>,\n",
       "        <AxesSubplot:title={'center':'Pclass'}>],\n",
       "       [<AxesSubplot:title={'center':'Age'}>,\n",
       "        <AxesSubplot:title={'center':'SibSp'}>,\n",
       "        <AxesSubplot:title={'center':'Parch'}>],\n",
       "       [<AxesSubplot:title={'center':'Fare'}>, <AxesSubplot:>,\n",
       "        <AxesSubplot:>]], dtype=object)"
      ]
     },
     "execution_count": 104,
     "metadata": {},
     "output_type": "execute_result"
    },
    {
     "data": {
      "image/png": "[encoded data removed]",
      "text/plain": [
       "<Figure size 864x864 with 9 Axes>"
      ]
     },
     "metadata": {
      "needs_background": "light"
     },
     "output_type": "display_data"
    }
   ],
   "source": [
    "import seaborn as sns\n",
    "\n",
    "df.hist(bins=15,figsize=(12,12),grid=False)"
   ]
  },
  {
   "cell_type": "code",
   "execution_count": 105,
   "metadata": {
    "ExecuteTime": {
     "end_time": "2021-04-21T00:36:20.719318Z",
     "start_time": "2021-04-21T00:36:20.699282Z"
    }
   },
   "outputs": [
    {
     "name": "stdout",
     "output_type": "stream",
     "text": [
      "media -  29.69911764705882\n",
      "mediana -  28.0\n",
      "moda -  0    24.0\n",
      "dtype: float64\n"
     ]
    }
   ],
   "source": [
    "print('media - ', df[\"Age\"].mean())\n",
    "print('mediana - ', df[\"Age\"].median())\n",
    "print('moda - ', df[\"Age\"].mode())"
   ]
  },
  {
   "cell_type": "code",
   "execution_count": 106,
   "metadata": {
    "ExecuteTime": {
     "end_time": "2021-04-21T00:37:11.887814Z",
     "start_time": "2021-04-21T00:37:11.862283Z"
    },
    "scrolled": true
   },
   "outputs": [
    {
     "name": "stdout",
     "output_type": "stream",
     "text": [
      "20.125 28.0 38.0 17.875\n"
     ]
    }
   ],
   "source": [
    "Q1 = df[\"Age\"].quantile(0.25)\n",
    "Q2 = df[\"Age\"].quantile(0.5)\n",
    "Q3 = df[\"Age\"].quantile(0.75)\n",
    "IQR = Q3 - Q1\n",
    "print(Q1, Q2, Q3, IQR)"
   ]
  },
  {
   "cell_type": "code",
   "execution_count": 116,
   "metadata": {
    "ExecuteTime": {
     "end_time": "2021-04-21T00:37:53.110021Z",
     "start_time": "2021-04-21T00:37:53.080508Z"
    }
   },
   "outputs": [],
   "source": [
    "#filtrar outliers"
   ]
  },
  {
   "cell_type": "code",
   "execution_count": null,
   "metadata": {},
   "outputs": [],
   "source": []
  },
  {
   "cell_type": "markdown",
   "metadata": {
    "ExecuteTime": {
     "end_time": "2021-04-20T20:58:09.061190Z",
     "start_time": "2021-04-20T20:58:09.051683Z"
    }
   },
   "source": [
    "### Exercicio\n",
    "Faça um grafico por sexo e por classe usando seaborn com a contagem de sobreviventes e não sobreviventes\n",
    "\n",
    "Eixo x do gráfico representa as tags \"Sobreviveu\"/\"Nao Sobreviveu\"\n",
    "\n",
    "Eixo y é a contagem"
   ]
  },
  {
   "cell_type": "code",
   "execution_count": null,
   "metadata": {
    "ExecuteTime": {
     "end_time": "2021-04-21T00:51:17.152488Z",
     "start_time": "2021-04-21T00:51:17.146484Z"
    }
   },
   "outputs": [],
   "source": []
  },
  {
   "cell_type": "code",
   "execution_count": null,
   "metadata": {},
   "outputs": [],
   "source": []
  },
  {
   "cell_type": "markdown",
   "metadata": {},
   "source": [
    "## Boxplots\n",
    "\n",
    "O boxplot (gráfico de caixa) é um gráfico utilizado para avaliar a distribuição empírica do dados. O boxplot é formado pelo primeiro e terceiro quartil e pela mediana. As hastes inferiores e superiores se estendem, respectivamente, do quartil inferior até o menor valor não inferior ao limite inferior e do quartil superior até o maior valor não superior ao limite superior. Os limites são calculados da forma abaixo\n",
    "\n",
    "Limite inferior: $ \\max\\{\\min(\\text{dados});Q_1-1,5(Q_3-Q_1)\\} $.\n",
    "\n",
    "Limite superior: $ \\min\\{\\max(\\text{dados});Q_3+1,5(Q_3-Q_1)\\} $.\n",
    "\n",
    "Para este caso, os pontos fora destes limites são considerados valores discrepantes (outliers) e são denotados por asterisco (*). A Figura  a seguir apresenta um exemplo do formato de um boxplot.\n",
    "\n",
    "![boxplot](../images/Elements_of_a_boxplot_pt.svg)\n",
    "\n",
    "O boxplot pode ainda ser utilizado para uma comparação visual entre dois ou mais grupos. Por exemplo, duas ou mais caixas são colocadas lado a lado e se compara a variabilidade entre elas, a mediana e assim por diante. Outro ponto importante é a diferença entre os quartis $ (Q_3 - Q_1) $ que é uma medida da variabilidade dos dados."
   ]
  },
  {
   "cell_type": "code",
   "execution_count": 121,
   "metadata": {
    "ExecuteTime": {
     "end_time": "2021-04-21T01:00:29.088941Z",
     "start_time": "2021-04-21T01:00:29.050415Z"
    }
   },
   "outputs": [
    {
     "data": {
      "text/html": [
       "<div>\n",
       "<style scoped>\n",
       "    .dataframe tbody tr th:only-of-type {\n",
       "        vertical-align: middle;\n",
       "    }\n",
       "\n",
       "    .dataframe tbody tr th {\n",
       "        vertical-align: top;\n",
       "    }\n",
       "\n",
       "    .dataframe thead th {\n",
       "        text-align: right;\n",
       "    }\n",
       "</style>\n",
       "<table border=\"1\" class=\"dataframe\">\n",
       "  <thead>\n",
       "    <tr style=\"text-align: right;\">\n",
       "      <th></th>\n",
       "      <th>PassengerId</th>\n",
       "      <th>Survived</th>\n",
       "      <th>Pclass</th>\n",
       "      <th>Name</th>\n",
       "      <th>Sex</th>\n",
       "      <th>Age</th>\n",
       "      <th>SibSp</th>\n",
       "      <th>Parch</th>\n",
       "      <th>Ticket</th>\n",
       "      <th>Fare</th>\n",
       "      <th>Cabin</th>\n",
       "      <th>Embarked</th>\n",
       "    </tr>\n",
       "  </thead>\n",
       "  <tbody>\n",
       "    <tr>\n",
       "      <th>0</th>\n",
       "      <td>1</td>\n",
       "      <td>0</td>\n",
       "      <td>3</td>\n",
       "      <td>Braund, Mr. Owen Harris</td>\n",
       "      <td>male</td>\n",
       "      <td>22.0</td>\n",
       "      <td>1</td>\n",
       "      <td>0</td>\n",
       "      <td>A/5 21171</td>\n",
       "      <td>7.2500</td>\n",
       "      <td>NaN</td>\n",
       "      <td>S</td>\n",
       "    </tr>\n",
       "    <tr>\n",
       "      <th>1</th>\n",
       "      <td>2</td>\n",
       "      <td>1</td>\n",
       "      <td>1</td>\n",
       "      <td>Cumings, Mrs. John Bradley (Florence Briggs Th...</td>\n",
       "      <td>female</td>\n",
       "      <td>38.0</td>\n",
       "      <td>1</td>\n",
       "      <td>0</td>\n",
       "      <td>PC 17599</td>\n",
       "      <td>71.2833</td>\n",
       "      <td>C85</td>\n",
       "      <td>C</td>\n",
       "    </tr>\n",
       "    <tr>\n",
       "      <th>2</th>\n",
       "      <td>3</td>\n",
       "      <td>1</td>\n",
       "      <td>3</td>\n",
       "      <td>Heikkinen, Miss. Laina</td>\n",
       "      <td>female</td>\n",
       "      <td>26.0</td>\n",
       "      <td>0</td>\n",
       "      <td>0</td>\n",
       "      <td>STON/O2. 3101282</td>\n",
       "      <td>7.9250</td>\n",
       "      <td>NaN</td>\n",
       "      <td>S</td>\n",
       "    </tr>\n",
       "    <tr>\n",
       "      <th>3</th>\n",
       "      <td>4</td>\n",
       "      <td>1</td>\n",
       "      <td>1</td>\n",
       "      <td>Futrelle, Mrs. Jacques Heath (Lily May Peel)</td>\n",
       "      <td>female</td>\n",
       "      <td>35.0</td>\n",
       "      <td>1</td>\n",
       "      <td>0</td>\n",
       "      <td>113803</td>\n",
       "      <td>53.1000</td>\n",
       "      <td>C123</td>\n",
       "      <td>S</td>\n",
       "    </tr>\n",
       "    <tr>\n",
       "      <th>4</th>\n",
       "      <td>5</td>\n",
       "      <td>0</td>\n",
       "      <td>3</td>\n",
       "      <td>Allen, Mr. William Henry</td>\n",
       "      <td>male</td>\n",
       "      <td>35.0</td>\n",
       "      <td>0</td>\n",
       "      <td>0</td>\n",
       "      <td>373450</td>\n",
       "      <td>8.0500</td>\n",
       "      <td>NaN</td>\n",
       "      <td>S</td>\n",
       "    </tr>\n",
       "    <tr>\n",
       "      <th>...</th>\n",
       "      <td>...</td>\n",
       "      <td>...</td>\n",
       "      <td>...</td>\n",
       "      <td>...</td>\n",
       "      <td>...</td>\n",
       "      <td>...</td>\n",
       "      <td>...</td>\n",
       "      <td>...</td>\n",
       "      <td>...</td>\n",
       "      <td>...</td>\n",
       "      <td>...</td>\n",
       "      <td>...</td>\n",
       "    </tr>\n",
       "    <tr>\n",
       "      <th>886</th>\n",
       "      <td>887</td>\n",
       "      <td>0</td>\n",
       "      <td>2</td>\n",
       "      <td>Montvila, Rev. Juozas</td>\n",
       "      <td>male</td>\n",
       "      <td>27.0</td>\n",
       "      <td>0</td>\n",
       "      <td>0</td>\n",
       "      <td>211536</td>\n",
       "      <td>13.0000</td>\n",
       "      <td>NaN</td>\n",
       "      <td>S</td>\n",
       "    </tr>\n",
       "    <tr>\n",
       "      <th>887</th>\n",
       "      <td>888</td>\n",
       "      <td>1</td>\n",
       "      <td>1</td>\n",
       "      <td>Graham, Miss. Margaret Edith</td>\n",
       "      <td>female</td>\n",
       "      <td>19.0</td>\n",
       "      <td>0</td>\n",
       "      <td>0</td>\n",
       "      <td>112053</td>\n",
       "      <td>30.0000</td>\n",
       "      <td>B42</td>\n",
       "      <td>S</td>\n",
       "    </tr>\n",
       "    <tr>\n",
       "      <th>888</th>\n",
       "      <td>889</td>\n",
       "      <td>0</td>\n",
       "      <td>3</td>\n",
       "      <td>Johnston, Miss. Catherine Helen \"Carrie\"</td>\n",
       "      <td>female</td>\n",
       "      <td>NaN</td>\n",
       "      <td>1</td>\n",
       "      <td>2</td>\n",
       "      <td>W./C. 6607</td>\n",
       "      <td>23.4500</td>\n",
       "      <td>NaN</td>\n",
       "      <td>S</td>\n",
       "    </tr>\n",
       "    <tr>\n",
       "      <th>889</th>\n",
       "      <td>890</td>\n",
       "      <td>1</td>\n",
       "      <td>1</td>\n",
       "      <td>Behr, Mr. Karl Howell</td>\n",
       "      <td>male</td>\n",
       "      <td>26.0</td>\n",
       "      <td>0</td>\n",
       "      <td>0</td>\n",
       "      <td>111369</td>\n",
       "      <td>30.0000</td>\n",
       "      <td>C148</td>\n",
       "      <td>C</td>\n",
       "    </tr>\n",
       "    <tr>\n",
       "      <th>890</th>\n",
       "      <td>891</td>\n",
       "      <td>0</td>\n",
       "      <td>3</td>\n",
       "      <td>Dooley, Mr. Patrick</td>\n",
       "      <td>male</td>\n",
       "      <td>32.0</td>\n",
       "      <td>0</td>\n",
       "      <td>0</td>\n",
       "      <td>370376</td>\n",
       "      <td>7.7500</td>\n",
       "      <td>NaN</td>\n",
       "      <td>Q</td>\n",
       "    </tr>\n",
       "  </tbody>\n",
       "</table>\n",
       "<p>891 rows × 12 columns</p>\n",
       "</div>"
      ],
      "text/plain": [
       "     PassengerId  Survived  Pclass  \\\n",
       "0              1         0       3   \n",
       "1              2         1       1   \n",
       "2              3         1       3   \n",
       "3              4         1       1   \n",
       "4              5         0       3   \n",
       "..           ...       ...     ...   \n",
       "886          887         0       2   \n",
       "887          888         1       1   \n",
       "888          889         0       3   \n",
       "889          890         1       1   \n",
       "890          891         0       3   \n",
       "\n",
       "                                                  Name     Sex   Age  SibSp  \\\n",
       "0                              Braund, Mr. Owen Harris    male  22.0      1   \n",
       "1    Cumings, Mrs. John Bradley (Florence Briggs Th...  female  38.0      1   \n",
       "2                               Heikkinen, Miss. Laina  female  26.0      0   \n",
       "3         Futrelle, Mrs. Jacques Heath (Lily May Peel)  female  35.0      1   \n",
       "4                             Allen, Mr. William Henry    male  35.0      0   \n",
       "..                                                 ...     ...   ...    ...   \n",
       "886                              Montvila, Rev. Juozas    male  27.0      0   \n",
       "887                       Graham, Miss. Margaret Edith  female  19.0      0   \n",
       "888           Johnston, Miss. Catherine Helen \"Carrie\"  female   NaN      1   \n",
       "889                              Behr, Mr. Karl Howell    male  26.0      0   \n",
       "890                                Dooley, Mr. Patrick    male  32.0      0   \n",
       "\n",
       "     Parch            Ticket     Fare Cabin Embarked  \n",
       "0        0         A/5 21171   7.2500   NaN        S  \n",
       "1        0          PC 17599  71.2833   C85        C  \n",
       "2        0  STON/O2. 3101282   7.9250   NaN        S  \n",
       "3        0            113803  53.1000  C123        S  \n",
       "4        0            373450   8.0500   NaN        S  \n",
       "..     ...               ...      ...   ...      ...  \n",
       "886      0            211536  13.0000   NaN        S  \n",
       "887      0            112053  30.0000   B42        S  \n",
       "888      2        W./C. 6607  23.4500   NaN        S  \n",
       "889      0            111369  30.0000  C148        C  \n",
       "890      0            370376   7.7500   NaN        Q  \n",
       "\n",
       "[891 rows x 12 columns]"
      ]
     },
     "execution_count": 121,
     "metadata": {},
     "output_type": "execute_result"
    }
   ],
   "source": [
    "df"
   ]
  },
  {
   "cell_type": "code",
   "execution_count": 122,
   "metadata": {
    "ExecuteTime": {
     "end_time": "2021-04-21T01:00:16.895873Z",
     "start_time": "2021-04-21T01:00:16.662873Z"
    }
   },
   "outputs": [
    {
     "data": {
      "text/plain": [
       "<AxesSubplot:>"
      ]
     },
     "execution_count": 122,
     "metadata": {},
     "output_type": "execute_result"
    },
    {
     "data": {
      "image/png": "[encoded data removed]",
      "text/plain": [
       "<Figure size 432x288 with 1 Axes>"
      ]
     },
     "metadata": {
      "needs_background": "light"
     },
     "output_type": "display_data"
    }
   ],
   "source": [
    "df.boxplot(column=\"Age\")"
   ]
  },
  {
   "cell_type": "code",
   "execution_count": 123,
   "metadata": {
    "ExecuteTime": {
     "end_time": "2021-04-22T22:46:19.485218Z",
     "start_time": "2021-04-22T22:46:18.931668Z"
    }
   },
   "outputs": [
    {
     "data": {
      "text/plain": [
       "Text(0.5, 0.98, 'Sobrevivente por sexo , Idade e preço do ticket')"
      ]
     },
     "execution_count": 123,
     "metadata": {},
     "output_type": "execute_result"
    },
    {
     "data": {
      "image/png": "[encoded data removed]",
      "text/plain": [
       "<Figure size 483.875x216 with 2 Axes>"
      ]
     },
     "metadata": {
      "needs_background": "light"
     },
     "output_type": "display_data"
    }
   ],
   "source": [
    "g = sns.FacetGrid(df, hue=\"Survived\", col=\"Sex\", margin_titles=True,\n",
    "                palette=\"Set1\",hue_kws=dict(marker=[\"^\", \"v\"]))\n",
    "\n",
    "g.map(plt.scatter, \"Fare\", \"Age\",edgecolor=\"w\").add_legend()\n",
    "\n",
    "\n",
    "plt.subplots_adjust(top=1)\n",
    "g.fig.suptitle('Sobrevivente por sexo , Idade e preço do ticket')"
   ]
  },
  {
   "cell_type": "markdown",
   "metadata": {},
   "source": [
    "# Probabilidade\n",
    "\n",
    "## Espaço amostral\n",
    "\n",
    "**definição**: Chamamos de espaço amostral ao conjunto de todos os resultados possíveis de um certo fenômeno aleatório. Ele é muitas vezes representado pela letra grega $\\omega$. Os subconjuntos de $\\omega$ são denominados eventos e representados pelas letras latinas maiúsculas A,B ... . O conjunto vazio é denotado por $\\emptyset$.\n",
    "\n",
    "A união de dois eventos A e B, denotado por A U B representa a ocorrência de pelo menos um dos eventos A ou B. A intersecção do evento A com B, denotado por $A \\cap B$ é a ocorrência simultanea de A e B \n",
    "\n",
    "Dois eventos A e B são disjuntos ou mutualmente exclusivos quando não têm elemento em comum. Isto é, $A \\cap B$ =  $\\emptyset$.\n",
    "\n",
    "\n",
    "Dizemos que A e B são complementares se sua união é o espaço amostral e sua intersecção é vazia. O complementar de A será representado por $A^{c}$\n",
    "\n",
    "<center><img src=\"../images/conjuntos.png\" width=\"300\" height=\"350\" /></center>\n",
    "\n",
    "**Definição 2.1: Probabilidade**\n",
    "\n",
    "    Podemos definir então uma função P(.) denominada probabilidade se satisfaz as seguintes condições :\n",
    "    \n",
    "* * $0 \\leq P(A) \\leq 1$ \n",
    "\n",
    "\n",
    "* * $ P(\\omega)=1$\n",
    "\n",
    "* * $ P(\\cup A_{j})= \\sum_{j=1}^{n}P(a_{j})$\n",
    "\n",
    "\n",
    "\n",
    " **Como definir probabilidade aos elementos do espaço amostral ?**\n",
    "\n",
    "A primeira consiste na atribuição de probabilidades. Por exemplo, baseando-se em características teóricas da realização do fenômeno. Por exemplo, ao lançarmos um dado, temos o espaço amostral $\\omega={1,2,3,4,5,6}$. Admitindo que o dado foi construído de forma homogênea e com medidas rigorosamente simétricas , não temos nenhuma razão para privilegiar essa ou aquela face. Assim consideramos p(1)=p(2)=p(3)... \n",
    "\n",
    "**Exemplo:** \n",
    "\n",
    "    1.1 -lançamos uma moeda duas vezes, se C indicar cara e R indicar coroa então temos um espaço amostral:\n",
    "    \n",
    "$$\\omega=[CC,CR,RC,RR]$$\n",
    "\n",
    "\n",
    "    Se designarmos por A o evento que consiste na obtenção de face iguais nos dois lançamentos, então : \n",
    "\n",
    "$$ P(A) = P(CC,RR) = 2/4 $$ \n",
    "\n",
    "    1.2 - Uma Fábrica que produz determinado artigo. Da linha de produção são retirados 3 artigos, e cada um é classificado como bom (B), ou defeituoso (D). Um espaço amostral do experimento é:\n",
    "    \n",
    "$$ \\omega = [BBB,BBD,BDB,DBB,DDB,DBD,BDD,DDD] $$\n",
    "\n",
    "\n",
    "    Se A seja Designar o evento que consiste em obter dois artigos defeituosos:\n",
    "    \n",
    "$$ P(A) = P(2\\ artigos\\ defeituosos) = P(BDD, DBD, DDB, DDD) = 4/8 = 1/2 $$\n",
    "    \n",
    "    1.3 Considere o experimento que consiste em retirar uma lâmpada de um lote e medir seu tempo de vida antes de queimar. Um espaço amostral conveniente será :\n",
    "    \n",
    "$$ \\omega = [ t \\quad : 0 \\leq t] $$\n"
   ]
  },
  {
   "cell_type": "markdown",
   "metadata": {},
   "source": [
    "[Sets](https://snakify.org/en/lessons/sets/)"
   ]
  },
  {
   "cell_type": "code",
   "execution_count": 124,
   "metadata": {
    "ExecuteTime": {
     "end_time": "2021-04-22T19:20:05.834830Z",
     "start_time": "2021-04-22T19:20:05.826792Z"
    }
   },
   "outputs": [],
   "source": [
    "A = {1, 2, 3, 4}\n",
    "B = {4, 5, 6, 7, 8}"
   ]
  },
  {
   "cell_type": "code",
   "execution_count": 125,
   "metadata": {
    "ExecuteTime": {
     "end_time": "2021-04-22T22:59:45.516373Z",
     "start_time": "2021-04-22T22:59:45.513378Z"
    }
   },
   "outputs": [],
   "source": [
    "l = [1, 2, 3, 4]\n",
    "l2 = [4, 5, 6, 7, 8]"
   ]
  },
  {
   "cell_type": "code",
   "execution_count": 126,
   "metadata": {
    "ExecuteTime": {
     "end_time": "2021-04-22T23:00:38.578206Z",
     "start_time": "2021-04-22T23:00:38.572209Z"
    }
   },
   "outputs": [
    {
     "data": {
      "text/plain": [
       "[4]"
      ]
     },
     "execution_count": 126,
     "metadata": {},
     "output_type": "execute_result"
    }
   ],
   "source": [
    "list(set(l).intersection(set(l2)))"
   ]
  },
  {
   "cell_type": "code",
   "execution_count": 127,
   "metadata": {
    "ExecuteTime": {
     "end_time": "2021-04-22T23:00:46.077232Z",
     "start_time": "2021-04-22T23:00:46.072230Z"
    }
   },
   "outputs": [
    {
     "data": {
      "text/plain": [
       "{1, 2, 3, 4, 5, 6, 7, 8}"
      ]
     },
     "execution_count": 127,
     "metadata": {},
     "output_type": "execute_result"
    }
   ],
   "source": [
    "A.union(B)"
   ]
  },
  {
   "cell_type": "markdown",
   "metadata": {},
   "source": [
    "## Problema: \n",
    "Crie um dicionario com o lançamento de dois dados onde a chave são os valores do dado e o valor é a soma dos dados\n",
    "\n",
    "Obs: o dicionario deve estar ordenado da menor soma para a maior\n",
    "\n",
    "Exemplo:\n",
    "```\n",
    "dado 1 -> 2\n",
    "dado 2 -> 5\n",
    "```\n",
    "dict = {(2, 5): 7}"
   ]
  },
  {
   "cell_type": "code",
   "execution_count": null,
   "metadata": {},
   "outputs": [],
   "source": []
  },
  {
   "cell_type": "code",
   "execution_count": 143,
   "metadata": {
    "ExecuteTime": {
     "end_time": "2021-04-22T23:31:44.678619Z",
     "start_time": "2021-04-22T23:31:44.670563Z"
    }
   },
   "outputs": [],
   "source": [
    "# ordene o dicionario do menor n para o maior"
   ]
  },
  {
   "cell_type": "code",
   "execution_count": null,
   "metadata": {
    "ExecuteTime": {
     "end_time": "2021-04-20T21:56:58.609654Z",
     "start_time": "2021-04-20T21:56:58.597438Z"
    }
   },
   "outputs": [],
   "source": [
    "# Faça um graficos de barra dessa distribuição"
   ]
  },
  {
   "cell_type": "code",
   "execution_count": 140,
   "metadata": {
    "ExecuteTime": {
     "end_time": "2021-04-22T23:24:44.323774Z",
     "start_time": "2021-04-22T23:24:44.132687Z"
    }
   },
   "outputs": [
    {
     "data": {
      "text/plain": [
       "<AxesSubplot:>"
      ]
     },
     "execution_count": 140,
     "metadata": {},
     "output_type": "execute_result"
    },
    {
     "data": {
      "image/png": "[encoded data removed]",
      "text/plain": [
       "<Figure size 432x288 with 1 Axes>"
      ]
     },
     "metadata": {
      "needs_background": "light"
     },
     "output_type": "display_data"
    }
   ],
   "source": []
  },
  {
   "cell_type": "markdown",
   "metadata": {},
   "source": [
    "## Exercícios\n",
    "* *1-Lance um dados até que a face 5 apareça pela primeira vez. Enumere os possíveis resultados:*\n",
    "\n",
    "* *2-Uma urna contém 10 bolas azuis, 10 bolas vermelhas,com dimensões rigorosamente iguais 3 bolas são selecionadas ao acaso com reposição e as cores são anotadas* \n",
    "\n",
    "* *3- Uma moeda é lancada consecutivamente até o aparecimento da primeira cara* \n",
    "\n",
    "* *4 - dois dados são lançados simultaqneamente e estamos interessados na soma das faces obtidas*\n",
    "\n",
    "* *5 - tres jogadores A<B<C disputam um torneio de tênis. Inicialmente, A joga com B e o vencedor joga com C, e assim por diante. O torneio termina quando um jogador ganha 2 vez em seguida ou quando são disputadas, ao todo, quatro partidas. Quais são os resultados possíveis do torneio?*\n",
    "\n",
    "* *6 - em uma entrevista telefônica com 250 assinantes, anota-se o número se o proprietário tem ou não maquina de lavar roupa*\n",
    "\n",
    "* *7 - de um grupo de 5 pessoas(A,B,C,D,E) são sorteadas 2 pessoas, uma apos a outra, com reposição e anota-se a configuração formada*\n",
    "\n",
    "* *8 - Uma moeda e um dado são lançados. Dê o espaço amostral do experimento*"
   ]
  },
  {
   "cell_type": "markdown",
   "metadata": {},
   "source": [
    "## Propriedades (união e intersecção)\n",
    "\n",
    "Vamos supor a tabela abaixo  para idades\n",
    "\n",
    "| idade | $n_{i}$ | $F_{i}$ | $f_{ac}$ |\n",
    "|-------|---------|---------|----------|\n",
    "| 17    | 9       |         |          |\n",
    "| 18    | 22      |         |          |\n",
    "| 19    | 7       |         |          |\n",
    "| 20    | 4       |         |          |\n",
    "| 21    | 3       |         |          |\n",
    "| 22    | 0       |         |          |\n",
    "| 23    | 2       |         |          |\n",
    "| 24    | 1       |         |          |\n",
    "| 25    | 2       |         |          |\n",
    "|-------|---------|---------|----------|\n",
    "| total |   n=50  |    1    |          |\n",
    "|-------|---------|---------|----------|\n",
    "\n",
    "Qual nosso espaço amostral ? \n",
    "\n",
    "quais são as probabilidades associadas ?\n",
    "\n",
    "P(17) ? \n",
    "\n",
    "### Probabilidade de união de eventos\n",
    "\n",
    "A probabilidade de união de eventos é calculada através da regra da adição de probabilidades apresentada abaixo :\n",
    "\n",
    "$$ P( A U B) = P(A) + P(B) - P ( A \\cap B) $$\n",
    "\n",
    "Temos também a definição de que um evento pode ser definido pela não ocorreência dele \n",
    "\n",
    "$$ A^{c}$$ \n",
    "\n",
    "- é a não ocorrência de A \n",
    "\n",
    "**logo :**\n",
    "\n",
    "$$ P(A) = 1 - P(A^{c}) $$\n",
    "\n",
    "\n",
    "Se isso é correto $P(A) + P(A^{c}) = 1$\n",
    "\n",
    "\n",
    "Podemos visualizar por :\n",
    "\n",
    "$$P (A  U A^{c}) = P(A) + P(A^{c}) - P(A\\cap A^{c}) $$\n",
    "\n",
    "### Probabilidade Condicional e Independência \n",
    "\n",
    "![venn](../images/venn.gif)\n",
    "\n",
    "Para eventos dependentes, o cálculo da Probabilidade muda. Vamos estabelecer que:\n",
    "\n",
    "$P(A|B)$ -> Probabilidade condicional de A dado B, ou seja, probabilidade do evento A ocorrer, dado que ocorreu o evento B\n",
    "\n",
    "$P(A \\cap B)$ -> Como já vimos, é a probabilidade dos dois eventos ocorrerem\n",
    "\n",
    "\n",
    "Para eventos dependentes, Temos a seguinte função:\n",
    "\n",
    "$$P(A|B)= \\frac{P(A \\cap B)}{P(B)}$$\n",
    "\n",
    "\n",
    "\n",
    "$$ P(A|B) = \\frac{\\frac{A \\cap B}{\\omega}}{\\frac{B}{\\omega}}$$\n",
    "\n",
    "\n",
    "\n",
    "E algumas vezes, passamos P(B) para o outro lado da igualdade, e a equação fica assim:\n",
    "\n",
    "$$P(A \\cap B) = P(A|B) × P(B)$$\n",
    "\n",
    "## 6.4. Eventos independentes \n",
    "\n",
    "### Exercício\n",
    "\n",
    "Abaixo está um código para criar dados falsos sobre a quantidade de coisas que as pessoas compram, de acordo com a faixa etária.\n",
    "\n",
    "Ele gera 100.000 \"pessoas\" aleatórias e as atribui aleatoriamente como tendo entre 20, 30, 40, 50, 60 ou 70 anos.\n",
    "\n",
    "Em seguida, atribui uma menor probabilidade de os jovens comprarem coisas.\n",
    "\n",
    "No final, temos dois dicionários Python:\n",
    "\n",
    "\"totais\" contém o número total de pessoas em cada faixa etária. \"compras\" contém o número total de itens comprados por pessoas em cada faixa etária. O total geral de compras é total de compras, e sabemos que o número total de pessoas é 100.000.\n",
    "\n",
    "Vamos executá-lo e dar uma olhada:\n",
    "\n",
    "\n"
   ]
  },
  {
   "cell_type": "code",
   "execution_count": null,
   "metadata": {
    "ExecuteTime": {
     "end_time": "2021-01-15T00:00:26.574581Z",
     "start_time": "2021-01-15T00:00:26.568582Z"
    }
   },
   "outputs": [],
   "source": [
    "random.random()"
   ]
  },
  {
   "cell_type": "code",
   "execution_count": 144,
   "metadata": {
    "ExecuteTime": {
     "end_time": "2021-04-23T00:06:42.991656Z",
     "start_time": "2021-04-23T00:06:42.007029Z"
    }
   },
   "outputs": [],
   "source": [
    "from numpy import random\n",
    "random.seed(0)\n",
    "\n",
    "totals = {20:0, 30:0, 40:0, 50:0, 60:0, 70:0}\n",
    "compras = {20:0, 30:0, 40:0, 50:0, 60:0, 70:0}\n",
    "total_compras = 0\n",
    "for _ in range(100000):\n",
    "    Decada_ano = random.choice([20, 30, 40, 50, 60, 70])\n",
    "    Probabilidade_compra = float(Decada_ano) / 100.0 ## por exemplo quem nasceu na decada 20/100\n",
    "    totals[Decada_ano] += 1\n",
    "    if (random.random() < Probabilidade_compra):\n",
    "        total_compras += 1\n",
    "        compras[Decada_ano] += 1"
   ]
  },
  {
   "cell_type": "code",
   "execution_count": 145,
   "metadata": {
    "ExecuteTime": {
     "end_time": "2021-04-23T00:06:44.375267Z",
     "start_time": "2021-04-23T00:06:44.371213Z"
    }
   },
   "outputs": [
    {
     "data": {
      "text/plain": [
       "{20: 16576, 30: 16619, 40: 16632, 50: 16805, 60: 16664, 70: 16704}"
      ]
     },
     "execution_count": 145,
     "metadata": {},
     "output_type": "execute_result"
    }
   ],
   "source": [
    "totals"
   ]
  },
  {
   "cell_type": "code",
   "execution_count": 146,
   "metadata": {
    "ExecuteTime": {
     "end_time": "2021-04-22T20:00:19.520328Z",
     "start_time": "2021-04-22T20:00:19.496341Z"
    }
   },
   "outputs": [
    {
     "data": {
      "text/plain": [
       "{20: 3392, 30: 4974, 40: 6670, 50: 8319, 60: 9944, 70: 11713}"
      ]
     },
     "execution_count": 146,
     "metadata": {},
     "output_type": "execute_result"
    }
   ],
   "source": [
    "compras"
   ]
  },
  {
   "cell_type": "code",
   "execution_count": 147,
   "metadata": {
    "ExecuteTime": {
     "end_time": "2021-04-22T20:00:24.763399Z",
     "start_time": "2021-04-22T20:00:24.745535Z"
    }
   },
   "outputs": [
    {
     "data": {
      "text/plain": [
       "45012"
      ]
     },
     "execution_count": 147,
     "metadata": {},
     "output_type": "execute_result"
    }
   ],
   "source": [
    "total_compras"
   ]
  },
  {
   "cell_type": "code",
   "execution_count": null,
   "metadata": {},
   "outputs": [],
   "source": []
  },
  {
   "cell_type": "code",
   "execution_count": 148,
   "metadata": {
    "ExecuteTime": {
     "end_time": "2021-04-22T20:00:42.652104Z",
     "start_time": "2021-04-22T20:00:42.628034Z"
    }
   },
   "outputs": [
    {
     "data": {
      "text/plain": [
       "4974"
      ]
     },
     "execution_count": 148,
     "metadata": {},
     "output_type": "execute_result"
    }
   ],
   "source": [
    "#Compras uniao 30 anos\n",
    "compras[30]\n"
   ]
  },
  {
   "cell_type": "markdown",
   "metadata": {},
   "source": [
    "    Primeiro vamos calcular P (E | F), onde E é \"compra\" e F é \"você está na casa dos 30 anos\". A probabilidade de alguém na casa dos 30 anos comprar alguma coisa é apenas a porcentagem de quantos filhos de 30 anos compraram alguma coisa:"
   ]
  },
  {
   "cell_type": "code",
   "execution_count": null,
   "metadata": {
    "ExecuteTime": {
     "end_time": "2021-04-22T20:08:19.534948Z",
     "start_time": "2021-04-22T20:08:19.518896Z"
    }
   },
   "outputs": [],
   "source": [
    "PEF = float(compras[30]) / float(totals[30])\n",
    "print('P(compras | 30s): ' + str(PEF))"
   ]
  },
  {
   "cell_type": "code",
   "execution_count": null,
   "metadata": {
    "ExecuteTime": {
     "end_time": "2021-04-22T20:08:25.032366Z",
     "start_time": "2021-04-22T20:08:25.015455Z"
    }
   },
   "outputs": [],
   "source": [
    "PF = float(totals[30]) / 100000.0\n",
    "print(\"P(30's): \" +  str(PF))"
   ]
  },
  {
   "cell_type": "markdown",
   "metadata": {},
   "source": [
    "    Podemos calcular tambem a probabilidade de comprar alguma coisa:"
   ]
  },
  {
   "cell_type": "code",
   "execution_count": null,
   "metadata": {},
   "outputs": [],
   "source": [
    "x"
   ]
  },
  {
   "cell_type": "code",
   "execution_count": null,
   "metadata": {
    "ExecuteTime": {
     "end_time": "2021-04-23T00:14:57.242362Z",
     "start_time": "2021-04-23T00:14:57.237359Z"
    }
   },
   "outputs": [],
   "source": [
    "PE = float(total_compras) / 100000.0\n",
    "print(\"P(total_compras):\" + str(PE))"
   ]
  },
  {
   "cell_type": "markdown",
   "metadata": {},
   "source": [
    "    Se E e F fossem independentes, esperaríamos que P (E | F) fosse aproximadamente o mesmo que P (E). Mas eles não são; PE é 0,45 e P (E | F) é 0,3. Então, isso nos diz que E e F são dependentes (o que sabemos que são neste exemplo).\n",
    "\n",
    "    O que é P (E) P (F)"
   ]
  },
  {
   "cell_type": "code",
   "execution_count": null,
   "metadata": {
    "ExecuteTime": {
     "end_time": "2021-04-22T20:09:03.164079Z",
     "start_time": "2021-04-22T20:09:03.156643Z"
    }
   },
   "outputs": [],
   "source": [
    "print(\"P(30's)P(total_compras): \" + str(PF * PE))"
   ]
  },
  {
   "cell_type": "code",
   "execution_count": null,
   "metadata": {
    "ExecuteTime": {
     "end_time": "2021-04-22T20:02:46.669724Z",
     "start_time": "2021-04-22T20:02:46.650394Z"
    }
   },
   "outputs": [],
   "source": [
    "print(\"P(30's, compras): \" + str(float(compras[30]) / 100000.0))"
   ]
  },
  {
   "cell_type": "markdown",
   "metadata": {},
   "source": [
    " $ P(E \\cap F) $ é diferente de P (E | F). $P(E | F)$ seria a probabilidade de você estar na casa dos 30 anos e comprar algo da população total - não apenas a população das pessoas na casa dos 30 anos:"
   ]
  },
  {
   "cell_type": "markdown",
   "metadata": {},
   "source": [
    "# Esperança\n",
    "\n",
    "O valor esperado, ou média, ou esperança matemática é uma quantidade utilizada como resumo do comportamento de uma Variavel Aleatoria (V.A.)\n",
    "\n",
    "A média de uma distribuição de probabilidade é a esperança de sua\n",
    "variável aleatória.\n",
    "\n",
    "A esperança de uma V.A. $X$ é obtida multiplicando-se cada valor de\n",
    "$X = x_i$, $i = 1,..,n$, por sua respectiva probabilidade $P[X = x_i]$, e somando os produtos resultantes:\n",
    "\n",
    "$E(X) = \\sum_{i=1}^n x_i P[X = x_i]$\n",
    "\n",
    "A esperança é o valor médio que esperaríamos se o experimento\n",
    "continuasse sendo repetido várias vezes.\n",
    "\n",
    "Note: o valor esperado pondera os valores assumidos pela V.A. pelas respectivas probabilidades, e o resultado não precisa ser um dos valores da variável.\n",
    "\n",
    "A esperança está sempre compreendida entre os valores extremos da\n",
    "V.A. A esperança serve como caracterização de diversas distribuições de probabilidade → parâmetro."
   ]
  },
  {
   "cell_type": "markdown",
   "metadata": {},
   "source": [
    "# Distribuições"
   ]
  },
  {
   "cell_type": "markdown",
   "metadata": {},
   "source": [
    "$\\binom{3}{2} = \\frac{3!}{2!(3-2)!} = \\frac{3*2!}{2!1!} = 3$"
   ]
  },
  {
   "cell_type": "markdown",
   "metadata": {
    "colab_type": "text",
    "id": "5cOy7DXW0TFN"
   },
   "source": [
    "**Distribuição Binomial**\n",
    "\n",
    "São n ensaios de Bernoulli com mesma probabilidade de sucesso e independentes, ou seja, o resultado de um ensaio não influencia no resultado de outro ensaio.\n",
    "\n",
    "Exemplo: uma moeda honesta é lançada 3 vezes. Cada lançamento é independente do outro e a probabilidade de cara (sucesso) será 0,5 em todos os lançamentos.\n",
    "\n",
    "Deste exemplo, podemos nos perguntar: dado que a moeda é lançada 3 vezes qual é a probabilidade de se obter duas caras? Indiquemos o sucesso (cara) por S e fracasso (coroa) por F. Então estamos interessados na probabilidade do evento:\n",
    "\n",
    "A = {SSF, SFS, FSS} \n",
    "\n",
    "Portanto, $ P(A) = P(SSF) + P(SFS) + P(FSS) $\n",
    "\n",
    "E, devido à independência dos eventos:\n",
    "\n",
    "$P(SSF) = P(SFS) = P(FSS) = 0,5*0,5*0,5 = 0,125 $\n",
    "\n",
    "Logo, $P(A) = 3*0,125 = 0,375$\n",
    "\n",
    "Uma característica interessante é que estamos interessados apenas no número total de sucessos e não na ordem em que eles ocorrem.\n",
    "\n",
    "Vamos designar $X$ o número total de sucessos em n ensaios de Bernoulli com probabilidade de sucesso p, $0<p<1$. Obtenhamos, agora, $P(X=k)$, ou seja, numa sequência de n ensaios de Bernoulli, a probabilidade de obter k sucessos (e, portanto n-k fracassos), $k=0,..,n$. A probabilidade de uma particular sequência de k sucessos e n-k fracassos é:\n",
    "\n",
    "$p^k(1-p)^{n-k}$\n",
    "\n",
    "Resta saber quantas sequências de k sucessos e n-k fracassos podemos formar. Existem $\\binom{n}{k} = \\frac{n!}{k!(n-k)!}$ sequências.\n",
    "\n",
    "Logo, $P(X=k) = \\binom{n}{k} p^k(1-p)^{n-k}, k=0,..,n$\n",
    "\n",
    "A média e a variância de uma V.A. binomial com parâmetros n e p são dadas por:\n",
    "\n",
    "$E(X) = np$\n",
    "\n",
    "$Var(X) = np(1-p)$\n",
    "\n",
    "**Definição** \n",
    "\n",
    "A variável aleatória X, correspondente ao número de sucessos num experimento binomial, tem distribuição binomial tal que:\n",
    "\n",
    "$b(k;n,p) = P(X=k) = \\binom{n}{k} p^k(1-p)^{n-k}, k=0,..,n$\n",
    "\n",
    "Usaremos a notação X ~ b(n,p) para indicar uma V.A. com distribuição binomial de parâmetros n e p.\n",
    "\n",
    "\n",
    "\n"
   ]
  },
  {
   "cell_type": "markdown",
   "metadata": {},
   "source": [
    "\n",
    "$\\binom{3}{0} = \\frac{3!}{0!  (3-0)!} = 1$\n",
    "\n",
    "$\\binom{3}{1} = \\frac{3!}{1!  (3-1)!} = 3$\n",
    "\n",
    "$\\binom{3}{2} = \\frac{3!}{2!  (3-2)!} = 3$\n",
    "\n",
    "$\\binom{3}{3} = \\frac{3!}{3!  (3-3)!} = 1$"
   ]
  },
  {
   "cell_type": "markdown",
   "metadata": {
    "ExecuteTime": {
     "end_time": "2021-04-22T20:23:12.887161Z",
     "start_time": "2021-04-22T20:23:12.868967Z"
    }
   },
   "source": [
    "$\\binom{4}{0} = \\frac{4!}{0!  (4-0)!} = 1$\n",
    "\n",
    "$\\binom{4}{1} = \\frac{4!}{1!  (4-1)!} = 4$\n",
    "\n",
    "$\\binom{4}{2} = \\frac{4!}{2!  (4-2)!} = 6$\n",
    "\n",
    "$\\binom{4}{3} = \\frac{4!}{3!  (4-3)!} = 4$\n",
    "\n",
    "$\\binom{4}{4} = \\frac{4!}{4!  (4-4)!} = 1$\n",
    "\n",
    "$(a+b)^4 = (a+b)^3 (a+b) = (a+b)^2 (a+b) (a+b) = (a^2 + 2ab + b^2)(a+b) (a+b) = (a^3 + 3a^2b + 3ab^2 + b^3)(a+b) = (a^4 + 4a^3b + 6a^2b^2 + 4ab^3 + b^4)$ "
   ]
  },
  {
   "cell_type": "markdown",
   "metadata": {
    "colab_type": "text",
    "id": "yW5_oh4N0TFP"
   },
   "source": [
    "**Distribuição de Poisson**\n",
    "\n",
    "É largamente empregada quando se deseja contar o número de eventos de certo tipo que ocorrem num intervalo de tempo.\n",
    "\n",
    "Exemplos:\n",
    "\n",
    "- Número de chamadas recebidas por um telefone durante 5 minutos;\n",
    "- Número de falhas de um computador num dia de operação.\n",
    "\n",
    "**Definição**\n",
    "\n",
    "Dizemos que a V.A. N tem distribuição Poisson com parâmetro $\\lambda > 0$ se:\n",
    "\n",
    "$P(N=k) = \\frac{e^{-\\lambda}\\lambda^k}{k!}, k=0,1,2,...$\n",
    "\n",
    "A média e a variância de uma V.A. Poisson com parâmetro $\\lambda$ são dadas por:\n",
    "\n",
    "$E(N) = \\lambda$\n",
    "\n",
    "$Var(N) = \\lambda$\n",
    "\n",
    "\n",
    "\n"
   ]
  },
  {
   "cell_type": "markdown",
   "metadata": {
    "colab_type": "text",
    "id": "dsD4SeUw0TFU"
   },
   "source": [
    "**Distribuição Normal**\n",
    "\n",
    "É representada uma curva simétrica em torno do seu ponto médio, apresentando assim seu famoso formato de sino.  \n",
    "\n",
    "A curva de distribuição normal representa o comportamento de diversos processos nas empresas e muitos fenômenos comuns, como por exemplo, altura ou peso de uma população, a pressão sanguínea de um grupo de pessoas, o tempo que um grupo de estudantes gasta para realizar uma prova.\n",
    "\n",
    "A distribuição normal pode ser usada para aproximar distribuições discretas de probabilidade, como por exemplo a distribuição binomial. Além disso, a distribuição normal serve também como base para a inferência estatística clássica.  Nela, a média, mediana e moda dos dados possuem o mesmo valor. \n",
    "\n",
    "![alt text](https://drive.google.com/uc?id=1tARyJcF351a8QhnQj6z4vkfkcv0FX2N-)\n",
    "\n",
    "Usaremos a notação X ~ N($\\mu$,$\\sigma^2$) para representar uma V.A. com distribuição Normal de média $\\mu$ e variância $\\sigma^2$.\n",
    "\n",
    "Segundo o Teorema Central do Limite, para grandes amostras, independentemente da distribuição da variável de interesse, a distribuição das médias amostrais serão aproximadamente normalmente distribuídas, e tenderão a uma distribuição normal à medida que o tamanho de amostra crescer. \n",
    "\n",
    "$\\bar X$ ~ N($\\mu$,$\\frac{\\sigma^2}{\\sqrt{n}}$)\n",
    "\n",
    "Sendo n = tamanho amostral.\n",
    "\n",
    "\n",
    "\n",
    "\n"
   ]
  },
  {
   "cell_type": "markdown",
   "metadata": {},
   "source": [
    "# Teorema de Bayes\n",
    "O **Teorema de Bayes** é um conceito importantíssimo da probabilidade e uma das ferramentas mais importantes de serem aprendidas para um Cientista de Dados. Este já foi usado em diversas aplicações reais, como por exemplo a classificação de um email como spam ou não. O Teorema de Bayes é uma forma calcular probabilidades condicionais de forma reversa.\n",
    "\n",
    "Vamos considerar o clássico exemplo para explicar o teorema. Temos uma determinada doença A, e um teste T utilizado para detectar esta doença. O teste não é 100% confiável, indicando pessoas que não tem a doença como doentes (falsos positivos) e não detectando a doença em pessoas que a possuem (falsos negativos), como ilustra a figura abaixo: \n",
    "\n",
    "\n",
    "<center><img src=\"../images/bayes_teste.jpg\" width=\"600\" height=\"650\" /></center>\n",
    "\n",
    "\n",
    "Consideremos que 1% das pessoas possui esta doença e, logo, 99% das pessoas não a possui. O teste detecta a doença em pessoas efetivamente doentes 90% das vezes e, consequentemente, não detecta a doença em pessoas doentes em 10% dos casos. Em pessoas não doentes, o teste detecta a doença (erradamente) `em 5% dos casos` e não detecta em 95% dos casos. Podemos resumir desta forma:\n",
    "\n",
    "|                | Pessoa Doente | Pessoa Não Doente |\n",
    "|----------------|---------------|-------------------|\n",
    "| Teste positivo | 90 %          | 5 %               |\n",
    "| Teste Negativo | 10 %          | 95 %              |\n",
    "\n",
    "Agora, vamos supor que você fez o teste e o resultado deu positivo. Como devemos interpretar este resultado? Obviamente, existe uma chance de você possuir a doença e uma chance de não possuir. A chance de você ter a doença e o teste detecta-la (verdadeiro positivo) é igual a chance de você ter a doença multiplicado pela chance do teste ter dado positivo corretamente. Analogamente, a chance de você não ter a doença e o teste detecta-la mesmo assim (falso positivo) é igual a chance de você não ter a doença multiplicado pela chance do teste ter dado positivo incorretamente, e assim por diante, para todos os resultados. Atualizamos então a tabela, que fica assim:\n",
    "\n",
    "|                | Pessoa Doente                            | Pessoa Não Doente                               |\n",
    "|----------------|------------------------------------------|-------------------------------------------------|\n",
    "| Teste positivo | Prob Doente e teste pos: 1% × 90% = 0,9% | Prob Não Doente e teste pos: 99% × 5% = 4,95%   |\n",
    "| Teste Negativo | Prob Doente e teste neg: 1% × 10% = 0,1% | Prob Não Doente e teste neg: 99% × 95% = 94,05% |\n",
    "\n",
    "Estas então são nossas probabilidades para cada evento. Note que, se somadas, o resultado é 1, ou 100%. Mas agora temos uma dúvida. Se nosso teste deu positivo, qual a chance de termos a doença? Considerando o cálculo básico de probabilidade, temos que a chance de ter a doença é igual à chance do evento desejado dividido por todas as possibilidades. O evento desejado é um positivo verdadeiro, ou seja, teste positivo e a pessoa com doença. Para este caso, a probabilidade é de 0,9%. O total de possibilidades com relação ao teste positivo seria a soma da probabilidade de “Doente e teste pos” (verdadeiro positivo) com “Não Doente e teste pos” (falso positivo), que resultará em 0,9% + 4,95%, igual a 5,85%. Fazendo toda a conta então, nossa chance de ter a doença se temos um teste positivo é de 0,9%/5,85% = 0.1538, ou 15,38%. É uma chance bem mais baixa do que imaginamos apenas ao olhar para o problema e para a suposta precisão do teste.\n",
    "\n",
    "**Considerando o seguinte:**\n",
    "\n",
    "* P(D|A) = Probabilidade de ter a doença dado um teste positivo (este é a probabilidade que desejamos saber)\n",
    "\n",
    "* P(D) = Probabilidade da pessoa ter a doença = 1%\n",
    "\n",
    "* P(A|D) = Probabilidade de um teste positivo se a pessoa tem a doença = 0,9% (\n",
    "\n",
    "* P(A|¬D) = Probabilidade de um teste positivo se a pessoa não tem a doença = 4,95%\n",
    "\n",
    "    **O Teorema de bayes diz que :**\n",
    "    \n",
    "    \n",
    "$$ P(D|A) = \\frac{P(A|D) * P(D)}{P(A|D) * P(D)  + P(A|nao D) * P(nao D)}    $$"
   ]
  },
  {
   "cell_type": "code",
   "execution_count": null,
   "metadata": {
    "ExecuteTime": {
     "end_time": "2021-04-23T00:46:48.266869Z",
     "start_time": "2021-04-23T00:46:48.258871Z"
    }
   },
   "outputs": [],
   "source": [
    "# A probabilidade de uma pessoa ter certa doença A é de 1%\n",
    "# consequentemente, a probabilidade de não ter a doença é de 99%\n",
    "\n",
    "probabilidade_doenca = 0.01\n",
    "probabilidade_nao_doenca = 1 - probabilidade_doenca\n",
    "\n",
    "# Um teste T para detectar a doença não é 100% confiável, detectando\n",
    "# a doença em pessoas não doentes e não detectando em pessoas doentes\n",
    "\n",
    "# O teste detecta a doença em pessoas doentes em 90% dos casos\n",
    "# e não detecta a doença em pessoas doentes em 10% dos casos\n",
    "\n",
    "prob_teste_pos_e_doenca = 0.9\n",
    "prob_teste_neg_e_doenca = 0.1\n",
    "\n",
    "# O teste detecta a doença em pessoas não doentes em 5% dos casos\n",
    "# e não detecta a doença em pessoas não doentes em 95% dos casos\n",
    "\n",
    "prob_teste_pos_e_nao_doenca = 0.05\n",
    "prob_teste_neg_e_nao_doenca = 0.95\n",
    "\n",
    "\n",
    "# Verdadeiro positivo: chance de ter a doença e o teste dar positivo\n",
    "prob_verdadeiro_positivo = probabilidade_doenca * prob_teste_pos_e_doenca\n",
    "\n",
    "\n",
    "# Verdadeiro negativo: chance de não ter a doença e o teste dar negativo\n",
    "prob_verdadeiro_negativo = probabilidade_nao_doenca * prob_teste_neg_e_nao_doenca\n",
    "\n",
    "# Falso positivo: chance de não ter a doença e o teste dar positivo\n",
    "prob_falso_positivo = probabilidade_nao_doenca * prob_teste_pos_e_nao_doenca\n",
    "\n",
    "# Falso negativo: chance de ter a doença e o teste dar negativo\n",
    "prob_falso_negativo = probabilidade_doenca * prob_teste_neg_e_doenca\n",
    "\n",
    "\n",
    "(prob_teste_pos_e_doenca * probabilidade_doenca)/(prob_teste_pos_e_doenca * probabilidade_doenca + prob_falso_positivo*probabilidade_nao_doenca)\n",
    "# Fizemos o teste e o resultado foi positivo. Qual a chance de eu ter a doença?\n",
    "# Teorema de Bayes: P(D|A) = (P(A|D) * P(D)) / (P(A|D) * P(D) + P(A|¬D) * P(¬D))"
   ]
  },
  {
   "cell_type": "markdown",
   "metadata": {},
   "source": [
    "# Testes de Correlação\n",
    "\n",
    "<img src='../images/correlacao.png' style=\"weight:30%;\">\n",
    "\n",
    "## Coeficiente de correlação de Pearson\n",
    "Esse coeficiente exibe uma taxa de relação linear entre duas variáveis numéricas. Quanto mais próximo de 1 ou -1, mais linearmente correlacionado estão as variáveis testadas. O teste também retorna o p-valor do teste de hipótese. Esse teste é paramétrico.\n",
    "\n",
    "**Suposições:**\n",
    " - as observações são idependentes uma das outras e identicamente distribuidas.\n",
    " - as observações têm distribuição normal;\n",
    " \n",
    "**Interpretações:**\n",
    " - $H_0$: as amostras são linearmente independentes, isso é, não estão correlacionadas linearmente;\n",
    " - $H_1$: as amostras estão linearmente correlacionadas."
   ]
  },
  {
   "cell_type": "code",
   "execution_count": null,
   "metadata": {
    "ExecuteTime": {
     "end_time": "2021-04-23T00:52:34.007060Z",
     "start_time": "2021-04-23T00:52:33.936013Z"
    }
   },
   "outputs": [],
   "source": [
    "from scipy.stats import pearsonr\n",
    "import pandas as pd\n",
    "\n",
    "dados = pd.read_csv('../datasets/weight-height.csv')\n",
    "h_male = dados.loc[dados['Gender']=='Male', 'Height']\n",
    "w_male = dados.loc[dados['Gender']=='Male', 'Weight']\n",
    "dados"
   ]
  },
  {
   "cell_type": "code",
   "execution_count": null,
   "metadata": {
    "ExecuteTime": {
     "end_time": "2021-04-23T00:56:47.904073Z",
     "start_time": "2021-04-23T00:56:47.889814Z"
    }
   },
   "outputs": [],
   "source": [
    "dados[dados['Gender'] == 'Male'].corr()"
   ]
  },
  {
   "cell_type": "code",
   "execution_count": null,
   "metadata": {
    "ExecuteTime": {
     "end_time": "2021-04-23T00:52:55.851599Z",
     "start_time": "2021-04-23T00:52:55.837600Z"
    }
   },
   "outputs": [],
   "source": [
    "pearsonr(h_male, w_male)"
   ]
  },
  {
   "cell_type": "markdown",
   "metadata": {},
   "source": [
    "O coeficiente foi 0.863, muito próximo de um e o p-valor foi 0, isso é: rejeitamos $H_0$, o que implica que as duas amostras estão correlacionadas linearmente."
   ]
  },
  {
   "cell_type": "markdown",
   "metadata": {},
   "source": [
    "## Coeficiente de correlação de Spearman\n",
    "\n",
    "Esse coeficiente diz se as amostras possuem correlação *monotônica*, isso é, se aumentarmos ou diminuimos uma, a outra irá aumentar ou diminuir. O teste varia entre -1 e 1, sendo que 0 indica ausência de correlação; quanto mais próximo de um for o coeficiente, mais positivamente correlacionada as amostras, isso é, se aumentarmos uma, a outra ira aumentar (ou se diminuimos uma, a outra irá diminuir); quanto mais próximo de -1 for o resultado, mais negativamente correlacionada estão as variáveis, isso é, aumentando uma, a outra irá dimunuir (ou se diminuímos uma, a outra irá aumentar). O coeficiente de Spearman **não** indica correlação linear. Esse teste é não-paramétrico.\n",
    "\n",
    "**Suposições:** \n",
    " - as observações são idependentes uma das outras e identicamente distribuidas.\n",
    " \n",
    "**Interpretação:**\n",
    " - $H_0$: as variáveis são independentes; ou\n",
    " - $H_1$ as variáveis são monotonicamente dependentes."
   ]
  },
  {
   "cell_type": "code",
   "execution_count": null,
   "metadata": {
    "ExecuteTime": {
     "end_time": "2021-04-23T01:05:21.746658Z",
     "start_time": "2021-04-23T01:05:21.741672Z"
    }
   },
   "outputs": [],
   "source": [
    "from scipy.stats import shapiro\n"
   ]
  },
  {
   "cell_type": "code",
   "execution_count": null,
   "metadata": {
    "ExecuteTime": {
     "end_time": "2021-04-23T01:05:22.815521Z",
     "start_time": "2021-04-23T01:05:22.769962Z"
    }
   },
   "outputs": [],
   "source": [
    "dados = pd.read_csv('../datasets/breast_cancer.csv')\n",
    "dados.head()"
   ]
  },
  {
   "cell_type": "code",
   "execution_count": null,
   "metadata": {
    "ExecuteTime": {
     "end_time": "2021-04-23T01:05:35.895662Z",
     "start_time": "2021-04-23T01:05:35.891184Z"
    }
   },
   "outputs": [],
   "source": [
    "radius_mean = dados.loc[:, 'radius_mean']\n",
    "area_mean = dados.loc[:, 'area_mean']"
   ]
  },
  {
   "cell_type": "code",
   "execution_count": null,
   "metadata": {
    "ExecuteTime": {
     "end_time": "2021-04-23T01:05:40.625534Z",
     "start_time": "2021-04-23T01:05:40.615524Z"
    }
   },
   "outputs": [],
   "source": [
    "shapiro(radius_mean)"
   ]
  },
  {
   "cell_type": "code",
   "execution_count": null,
   "metadata": {
    "ExecuteTime": {
     "end_time": "2021-04-22T20:56:40.971787Z",
     "start_time": "2021-04-22T20:56:40.958788Z"
    }
   },
   "outputs": [],
   "source": [
    "shapiro(area_mean)"
   ]
  },
  {
   "cell_type": "markdown",
   "metadata": {},
   "source": [
    "Nenhuma amostra é normal. Assim, para verificarmos alguma correlação entre ambas, usaremos o coeficiente de Spearman."
   ]
  },
  {
   "cell_type": "code",
   "execution_count": null,
   "metadata": {
    "ExecuteTime": {
     "end_time": "2021-04-22T20:57:07.686090Z",
     "start_time": "2021-04-22T20:57:07.675091Z"
    }
   },
   "outputs": [],
   "source": [
    "from scipy.stats import spearmanr"
   ]
  },
  {
   "cell_type": "code",
   "execution_count": null,
   "metadata": {
    "ExecuteTime": {
     "end_time": "2021-04-23T01:06:58.219993Z",
     "start_time": "2021-04-23T01:06:58.203485Z"
    }
   },
   "outputs": [],
   "source": [
    "spearmanr(radius_mean, area_mean)"
   ]
  },
  {
   "cell_type": "code",
   "execution_count": null,
   "metadata": {
    "ExecuteTime": {
     "end_time": "2021-04-23T01:07:05.787942Z",
     "start_time": "2021-04-23T01:07:05.555941Z"
    }
   },
   "outputs": [],
   "source": [
    "import seaborn as sns\n",
    "import matplotlib.pyplot as plt\n",
    "sns.scatterplot(radius_mean, area_mean)"
   ]
  },
  {
   "cell_type": "markdown",
   "metadata": {},
   "source": [
    "Dessa forma, com um nível de significância de 5%, rejeitamos $H_0$, ou seja, as variáveis são positivamente monotônicamente dependentes."
   ]
  },
  {
   "cell_type": "code",
   "execution_count": null,
   "metadata": {
    "ExecuteTime": {
     "end_time": "2021-04-23T01:08:33.112391Z",
     "start_time": "2021-04-23T01:08:33.072389Z"
    }
   },
   "outputs": [],
   "source": [
    "df = pd.read_csv('../datasets/titanic.csv')\n",
    "df"
   ]
  },
  {
   "cell_type": "code",
   "execution_count": null,
   "metadata": {
    "ExecuteTime": {
     "end_time": "2021-04-22T21:02:01.321058Z",
     "start_time": "2021-04-22T21:02:01.304476Z"
    }
   },
   "outputs": [],
   "source": [
    "df['Embarked'].value_counts()"
   ]
  },
  {
   "cell_type": "code",
   "execution_count": null,
   "metadata": {
    "ExecuteTime": {
     "end_time": "2021-04-22T20:58:09.997100Z",
     "start_time": "2021-04-22T20:58:09.984110Z"
    }
   },
   "outputs": [],
   "source": [
    "df.loc[df['Embarked'].isna(), 'Embarked'] = 'J'"
   ]
  },
  {
   "cell_type": "code",
   "execution_count": null,
   "metadata": {
    "ExecuteTime": {
     "end_time": "2021-04-22T20:58:20.331664Z",
     "start_time": "2021-04-22T20:58:20.311707Z"
    }
   },
   "outputs": [],
   "source": [
    "embarked_code = {'S': 1, 'C': 2, 'Q': 3, 'J':0}\n",
    "df['Embarked_cat'] = df.apply(lambda row: embarked_code[row['Embarked']], axis=1)\n"
   ]
  },
  {
   "cell_type": "code",
   "execution_count": null,
   "metadata": {
    "ExecuteTime": {
     "end_time": "2021-04-22T20:58:24.795937Z",
     "start_time": "2021-04-22T20:58:24.778412Z"
    }
   },
   "outputs": [],
   "source": [
    "df[\"Embarked_cat\"].value_counts()"
   ]
  },
  {
   "cell_type": "code",
   "execution_count": null,
   "metadata": {
    "ExecuteTime": {
     "end_time": "2021-04-22T20:58:44.240206Z",
     "start_time": "2021-04-22T20:58:44.210664Z"
    }
   },
   "outputs": [],
   "source": [
    "df.corr()"
   ]
  },
  {
   "cell_type": "code",
   "execution_count": null,
   "metadata": {
    "ExecuteTime": {
     "end_time": "2021-04-22T21:01:37.118303Z",
     "start_time": "2021-04-22T21:01:36.588331Z"
    }
   },
   "outputs": [],
   "source": [
    "g = sns.FacetGrid(df, hue=\"Survived\", col=\"Embarked_cat\", margin_titles=True,\n",
    "                palette=\"Set1\",hue_kws=dict(marker=[\"^\", \"v\"]))\n",
    "g.map(plt.scatter, \"Pclass\", \"Age\",edgecolor=\"w\").add_legend()\n",
    "plt.subplots_adjust(top=1)\n",
    "g.fig.suptitle('Sobrevivente por sexo , Idade e preço do ticket')"
   ]
  }
 ],
 "metadata": {
  "hide_input": false,
  "kernelspec": {
   "display_name": "Python 3",
   "language": "python",
   "name": "python3"
  },
  "language_info": {
   "codemirror_mode": {
    "name": "ipython",
    "version": 3
   },
   "file_extension": ".py",
   "mimetype": "text/x-python",
   "name": "python",
   "nbconvert_exporter": "python",
   "pygments_lexer": "ipython3",
   "version": "3.8.10"
  },
  "toc": {
   "base_numbering": 1,
   "nav_menu": {},
   "number_sections": true,
   "sideBar": true,
   "skip_h1_title": false,
   "title_cell": "Table of Contents",
   "title_sidebar": "Contents",
   "toc_cell": false,
   "toc_position": {
    "height": "calc(100% - 180px)",
    "left": "10px",
    "top": "150px",
    "width": "271.997px"
   },
   "toc_section_display": true,
   "toc_window_display": true
  }
 },
 "nbformat": 4,
 "nbformat_minor": 2
}
