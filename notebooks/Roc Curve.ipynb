{
 "cells": [
  {
   "cell_type": "markdown",
   "metadata": {},
   "source": [
    "### Step 1: Import libraries"
   ]
  },
  {
   "cell_type": "code",
   "execution_count": 21,
   "metadata": {
    "ExecuteTime": {
     "end_time": "2021-05-07T00:17:32.421138Z",
     "start_time": "2021-05-07T00:17:30.119486Z"
    }
   },
   "outputs": [],
   "source": [
    "import numpy as np\n",
    "import pandas as pd\n",
    "import matplotlib.pyplot as plt\n",
    "from itertools import cycle\n",
    "\n",
    "# roc curve and auc score\n",
    "from sklearn import svm, datasets, metrics\n",
    "from sklearn.dummy import DummyClassifier\n",
    "from sklearn.ensemble import RandomForestClassifier\n",
    "from sklearn.linear_model import LogisticRegression\n",
    "from sklearn.model_selection import train_test_split\n",
    "from sklearn.metrics import roc_curve\n",
    "from sklearn.metrics import roc_auc_score"
   ]
  },
  {
   "cell_type": "markdown",
   "metadata": {},
   "source": [
    "### Step 2: Defining a python function to plot the ROC curves."
   ]
  },
  {
   "cell_type": "code",
   "execution_count": 22,
   "metadata": {
    "ExecuteTime": {
     "end_time": "2021-05-07T00:17:57.083135Z",
     "start_time": "2021-05-07T00:17:57.076134Z"
    }
   },
   "outputs": [],
   "source": [
    "def plot_roc_curve(fpr, tpr, roc_auc, names):\n",
    "    lw = 1\n",
    "    colors = cycle(['aqua', 'darkorange', 'cornflowerblue', 'deeppink', 'green'])\n",
    "    for i, color, name in zip(range(len(fpr)), colors, names):\n",
    "        plt.plot(fpr[i], tpr[i], color=color, lw=lw, label='ROC curve of classifier {0} (area = {1:0.2f})'\n",
    "             ''.format(name, roc_auc[i]))\n",
    "    plt.plot([0, 1], [0, 1], color='darkblue', linestyle='--')\n",
    "    plt.xlim([0.0, 1.0])\n",
    "    plt.ylim([0.0, 1.0])\n",
    "    plt.xlabel('False Positive Rate')\n",
    "    plt.ylabel('True Positive Rate')\n",
    "    plt.title('Receiver Operating Characteristic (ROC) Curve')\n",
    "    plt.legend(loc=\"lower right\")\n",
    "    plt.show()"
   ]
  },
  {
   "cell_type": "markdown",
   "metadata": {},
   "source": [
    "### Step 3: Import brest cancer dataset"
   ]
  },
  {
   "cell_type": "code",
   "execution_count": 23,
   "metadata": {
    "ExecuteTime": {
     "end_time": "2021-05-07T00:18:07.190150Z",
     "start_time": "2021-05-07T00:18:07.164099Z"
    }
   },
   "outputs": [],
   "source": [
    "breast_cancer = datasets.load_breast_cancer()\n",
    "data_X = breast_cancer.data\n",
    "class_label = breast_cancer.target"
   ]
  },
  {
   "cell_type": "code",
   "execution_count": 24,
   "metadata": {
    "ExecuteTime": {
     "end_time": "2021-05-07T00:18:12.123655Z",
     "start_time": "2021-05-07T00:18:12.115647Z"
    }
   },
   "outputs": [
    {
     "data": {
      "text/plain": [
       "(569, 30)"
      ]
     },
     "execution_count": 24,
     "metadata": {},
     "output_type": "execute_result"
    }
   ],
   "source": [
    "data_X.shape"
   ]
  },
  {
   "cell_type": "code",
   "execution_count": 25,
   "metadata": {
    "ExecuteTime": {
     "end_time": "2021-05-07T00:33:52.042138Z",
     "start_time": "2021-05-07T00:33:52.035135Z"
    }
   },
   "outputs": [
    {
     "data": {
      "text/plain": [
       "(array([0, 1]), array([212, 357]))"
      ]
     },
     "execution_count": 25,
     "metadata": {},
     "output_type": "execute_result"
    }
   ],
   "source": [
    "np.unique(class_label, return_counts=True)"
   ]
  },
  {
   "cell_type": "markdown",
   "metadata": {},
   "source": [
    "### Step Optional: Add noisy features to make the problem harder"
   ]
  },
  {
   "cell_type": "code",
   "execution_count": 27,
   "metadata": {
    "ExecuteTime": {
     "end_time": "2021-05-07T00:19:00.047897Z",
     "start_time": "2021-05-07T00:18:59.890858Z"
    }
   },
   "outputs": [],
   "source": [
    "random_state = np.random.RandomState(0)\n",
    "n_samples, n_features = data_X.shape\n",
    "data_X = np.c_[data_X, random_state.randn(n_samples, 200 * n_features)]"
   ]
  },
  {
   "cell_type": "code",
   "execution_count": 28,
   "metadata": {
    "ExecuteTime": {
     "end_time": "2021-05-07T00:40:21.056362Z",
     "start_time": "2021-05-07T00:40:21.049371Z"
    }
   },
   "outputs": [
    {
     "data": {
      "text/plain": [
       "array([[ 1.79900000e+01,  1.03800000e+01,  1.22800000e+02, ...,\n",
       "         2.78410943e-02, -7.43614718e-01, -4.79805529e-01],\n",
       "       [ 2.05700000e+01,  1.77700000e+01,  1.32900000e+02, ...,\n",
       "         2.61143591e-01,  1.71842567e+00, -1.45837143e+00],\n",
       "       [ 1.96900000e+01,  2.12500000e+01,  1.30000000e+02, ...,\n",
       "         1.20601132e+00,  3.97599282e-01,  2.00828095e+00],\n",
       "       ...,\n",
       "       [ 1.66000000e+01,  2.80800000e+01,  1.08300000e+02, ...,\n",
       "         1.14146559e+00,  4.57825451e-01, -1.41576717e+00],\n",
       "       [ 2.06000000e+01,  2.93300000e+01,  1.40100000e+02, ...,\n",
       "         9.29020304e-01,  6.90132505e-01, -9.56788247e-02],\n",
       "       [ 7.76000000e+00,  2.45400000e+01,  4.79200000e+01, ...,\n",
       "         1.28606420e+00,  8.37872077e-01,  2.50072366e-01]])"
      ]
     },
     "execution_count": 28,
     "metadata": {},
     "output_type": "execute_result"
    }
   ],
   "source": [
    "data_X"
   ]
  },
  {
   "cell_type": "markdown",
   "metadata": {},
   "source": [
    "### Step 4: Split the data into train and test sub-datasets."
   ]
  },
  {
   "cell_type": "code",
   "execution_count": 29,
   "metadata": {
    "ExecuteTime": {
     "end_time": "2021-05-07T00:19:22.489761Z",
     "start_time": "2021-05-07T00:19:22.467760Z"
    }
   },
   "outputs": [],
   "source": [
    "trainX, testX, trainy, testy = train_test_split(data_X, class_label, test_size=0.3, random_state=1)"
   ]
  },
  {
   "cell_type": "code",
   "execution_count": 30,
   "metadata": {
    "ExecuteTime": {
     "end_time": "2021-05-07T00:19:25.660910Z",
     "start_time": "2021-05-07T00:19:25.653391Z"
    }
   },
   "outputs": [
    {
     "name": "stdout",
     "output_type": "stream",
     "text": [
      "(398, 1212030)\n",
      "(171, 1212030)\n"
     ]
    }
   ],
   "source": [
    "print(trainX.shape)\n",
    "print(testX.shape)"
   ]
  },
  {
   "cell_type": "markdown",
   "metadata": {},
   "source": [
    "### Step 5: Fit a model on the train data."
   ]
  },
  {
   "cell_type": "code",
   "execution_count": 31,
   "metadata": {
    "ExecuteTime": {
     "end_time": "2021-05-07T00:20:13.735231Z",
     "start_time": "2021-05-07T00:20:09.491378Z"
    }
   },
   "outputs": [
    {
     "name": "stderr",
     "output_type": "stream",
     "text": [
      "/home/lucas_bgabriel/.local/lib/python3.8/site-packages/sklearn/linear_model/_logistic.py:763: ConvergenceWarning: lbfgs failed to converge (status=1):\n",
      "STOP: TOTAL NO. of ITERATIONS REACHED LIMIT.\n",
      "\n",
      "Increase the number of iterations (max_iter) or scale the data as shown in:\n",
      "    https://scikit-learn.org/stable/modules/preprocessing.html\n",
      "Please also refer to the documentation for alternative solver options:\n",
      "    https://scikit-learn.org/stable/modules/linear_model.html#logistic-regression\n",
      "  n_iter_i = _check_optimize_result(\n"
     ]
    },
    {
     "data": {
      "text/plain": [
       "DummyClassifier()"
      ]
     },
     "execution_count": 31,
     "metadata": {},
     "output_type": "execute_result"
    }
   ],
   "source": [
    "randomForestModel = RandomForestClassifier()\n",
    "randomForestModel.fit(trainX, trainy)\n",
    "\n",
    "logisticRegressionModel = LogisticRegression()\n",
    "logisticRegressionModel.fit(trainX, trainy)\n",
    "\n",
    "svc_w_linear_kernel = svm.SVC(kernel='linear')\n",
    "svc_w_linear_kernel.fit(trainX, trainy)\n",
    "\n",
    "svc_wo_linear_kernel = svm.SVC()\n",
    "svc_wo_linear_kernel.fit(trainX, trainy)\n",
    "\n",
    "dummy = DummyClassifier()\n",
    "dummy.fit(trainX, trainy)"
   ]
  },
  {
   "cell_type": "markdown",
   "metadata": {},
   "source": [
    "### Step 6: Predict probabilities for the test data."
   ]
  },
  {
   "cell_type": "code",
   "execution_count": 11,
   "metadata": {
    "ExecuteTime": {
     "end_time": "2021-05-07T00:20:51.676339Z",
     "start_time": "2021-05-07T00:20:51.190790Z"
    }
   },
   "outputs": [],
   "source": [
    "models = []\n",
    "modelName = [\"RFM\", \"LRM\", \"SVMW\", \"SVMWO\", \"DUMMY\"]\n",
    "models.append(randomForestModel.predict(testX))\n",
    "models.append(logisticRegressionModel.predict(testX))\n",
    "models.append(svc_w_linear_kernel.predict(testX))\n",
    "models.append(svc_wo_linear_kernel.predict(testX))\n",
    "models.append(dummy.predict(testX))"
   ]
  },
  {
   "cell_type": "code",
   "execution_count": 12,
   "metadata": {
    "ExecuteTime": {
     "end_time": "2021-05-07T00:20:52.850839Z",
     "start_time": "2021-05-07T00:20:52.843838Z"
    }
   },
   "outputs": [
    {
     "data": {
      "text/plain": [
       "[array([0, 1, 1, 0, 1, 0, 0, 0, 1, 1, 1, 0, 0, 1, 1, 1, 1, 1, 1, 0, 1, 1,\n",
       "        0, 1, 0, 1, 1, 0, 0, 0, 0, 1, 0, 0, 1, 1, 1, 1, 1, 1, 1, 1, 1, 1,\n",
       "        1, 0, 1, 1, 1, 0, 0, 0, 1, 1, 1, 1, 1, 0, 1, 1, 1, 1, 1, 1, 1, 1,\n",
       "        1, 0, 1, 1, 1, 1, 1, 0, 1, 0, 1, 1, 1, 0, 1, 0, 1, 0, 1, 1, 0, 1,\n",
       "        0, 1, 1, 0, 1, 1, 0, 1, 1, 1, 1, 1, 1, 1, 1, 1, 1, 1, 1, 1, 1, 0,\n",
       "        0, 1, 1, 1, 0, 0, 1, 1, 1, 1, 1, 0, 0, 1, 1, 0, 0, 0, 0, 0, 1, 1,\n",
       "        1, 0, 1, 0, 0, 1, 1, 1, 1, 0, 1, 0, 1, 0, 1, 1, 1, 0, 1, 1, 1, 1,\n",
       "        1, 1, 0, 1, 1, 1, 1, 1, 1, 0, 1, 1, 0, 0, 0, 1, 1]),\n",
       " array([1, 1, 1, 0, 0, 0, 0, 0, 1, 1, 1, 1, 0, 1, 1, 1, 1, 1, 1, 0, 1, 1,\n",
       "        0, 1, 0, 1, 1, 0, 0, 0, 0, 1, 0, 0, 1, 1, 0, 1, 1, 1, 1, 1, 1, 1,\n",
       "        1, 0, 1, 1, 1, 0, 0, 0, 1, 1, 1, 1, 1, 0, 1, 1, 1, 0, 1, 0, 1, 1,\n",
       "        1, 0, 1, 1, 1, 1, 0, 0, 1, 0, 1, 1, 1, 0, 1, 0, 1, 0, 1, 1, 1, 1,\n",
       "        0, 1, 1, 0, 1, 1, 0, 0, 1, 1, 1, 1, 1, 1, 1, 0, 1, 1, 1, 1, 0, 0,\n",
       "        1, 1, 1, 1, 0, 0, 1, 1, 1, 1, 1, 0, 0, 1, 1, 0, 0, 0, 0, 0, 1, 1,\n",
       "        1, 0, 1, 0, 0, 1, 1, 1, 0, 0, 1, 1, 1, 0, 1, 1, 1, 0, 1, 1, 0, 1,\n",
       "        1, 1, 1, 1, 1, 1, 1, 1, 1, 1, 1, 1, 0, 0, 0, 1, 1]),\n",
       " array([1, 1, 1, 0, 0, 0, 0, 0, 1, 1, 1, 0, 0, 1, 1, 1, 1, 1, 1, 0, 1, 1,\n",
       "        0, 1, 0, 1, 1, 0, 0, 0, 0, 1, 0, 0, 1, 1, 0, 1, 1, 1, 1, 1, 1, 1,\n",
       "        1, 0, 1, 1, 1, 0, 0, 0, 1, 1, 1, 1, 1, 0, 1, 1, 1, 0, 1, 0, 1, 1,\n",
       "        1, 0, 1, 1, 1, 1, 1, 0, 1, 0, 1, 1, 1, 0, 1, 0, 1, 0, 1, 1, 0, 1,\n",
       "        0, 1, 1, 0, 1, 1, 0, 0, 1, 1, 1, 1, 1, 1, 1, 0, 1, 1, 1, 1, 0, 0,\n",
       "        1, 1, 1, 1, 0, 0, 1, 1, 1, 1, 1, 0, 0, 1, 1, 0, 0, 0, 0, 0, 1, 1,\n",
       "        1, 0, 1, 0, 0, 1, 1, 1, 0, 0, 1, 0, 1, 0, 1, 1, 1, 0, 1, 1, 0, 1,\n",
       "        1, 1, 1, 1, 1, 1, 1, 1, 1, 0, 1, 1, 0, 0, 0, 1, 1]),\n",
       " array([1, 1, 1, 0, 0, 0, 0, 0, 1, 1, 1, 1, 0, 1, 1, 1, 1, 1, 1, 0, 1, 1,\n",
       "        0, 1, 0, 1, 1, 0, 0, 0, 0, 1, 0, 1, 1, 1, 0, 1, 1, 1, 1, 1, 1, 1,\n",
       "        1, 0, 1, 1, 1, 0, 0, 0, 1, 1, 1, 1, 1, 0, 1, 1, 1, 1, 1, 1, 1, 1,\n",
       "        1, 0, 1, 1, 1, 1, 1, 0, 1, 0, 1, 1, 1, 0, 1, 0, 1, 0, 1, 1, 1, 1,\n",
       "        0, 1, 1, 1, 1, 1, 0, 1, 1, 1, 1, 1, 1, 1, 1, 1, 1, 1, 1, 1, 0, 0,\n",
       "        1, 1, 1, 1, 0, 0, 1, 1, 1, 1, 1, 0, 0, 1, 1, 0, 0, 0, 0, 0, 1, 1,\n",
       "        1, 0, 1, 0, 0, 0, 1, 1, 0, 0, 1, 0, 1, 0, 1, 1, 1, 0, 1, 1, 1, 1,\n",
       "        1, 1, 1, 1, 1, 1, 1, 1, 1, 0, 1, 1, 0, 0, 0, 1, 1]),\n",
       " array([1, 1, 1, 1, 1, 1, 1, 1, 1, 1, 1, 1, 1, 1, 1, 1, 1, 1, 1, 1, 1, 1,\n",
       "        1, 1, 1, 1, 1, 1, 1, 1, 1, 1, 1, 1, 1, 1, 1, 1, 1, 1, 1, 1, 1, 1,\n",
       "        1, 1, 1, 1, 1, 1, 1, 1, 1, 1, 1, 1, 1, 1, 1, 1, 1, 1, 1, 1, 1, 1,\n",
       "        1, 1, 1, 1, 1, 1, 1, 1, 1, 1, 1, 1, 1, 1, 1, 1, 1, 1, 1, 1, 1, 1,\n",
       "        1, 1, 1, 1, 1, 1, 1, 1, 1, 1, 1, 1, 1, 1, 1, 1, 1, 1, 1, 1, 1, 1,\n",
       "        1, 1, 1, 1, 1, 1, 1, 1, 1, 1, 1, 1, 1, 1, 1, 1, 1, 1, 1, 1, 1, 1,\n",
       "        1, 1, 1, 1, 1, 1, 1, 1, 1, 1, 1, 1, 1, 1, 1, 1, 1, 1, 1, 1, 1, 1,\n",
       "        1, 1, 1, 1, 1, 1, 1, 1, 1, 1, 1, 1, 1, 1, 1, 1, 1])]"
      ]
     },
     "execution_count": 12,
     "metadata": {},
     "output_type": "execute_result"
    }
   ],
   "source": [
    "models"
   ]
  },
  {
   "cell_type": "markdown",
   "metadata": {},
   "source": [
    "### Step 7: Accuracy"
   ]
  },
  {
   "cell_type": "code",
   "execution_count": 13,
   "metadata": {
    "ExecuteTime": {
     "end_time": "2021-05-07T00:21:08.790507Z",
     "start_time": "2021-05-07T00:21:08.779980Z"
    }
   },
   "outputs": [
    {
     "name": "stdout",
     "output_type": "stream",
     "text": [
      "Accuracy RFM 0.91\n",
      "Accuracy LRM 0.92\n",
      "Accuracy SVMW 0.94\n",
      "Accuracy SVMWO 0.91\n",
      "Accuracy DUMMY 0.63\n"
     ]
    }
   ],
   "source": [
    "print(\"Accuracy RFM %.2f\" %   metrics.accuracy_score(testy, models[0]))\n",
    "print(\"Accuracy LRM %.2f\" %   metrics.accuracy_score(testy, models[1]))\n",
    "print(\"Accuracy SVMW %.2f\" %  metrics.accuracy_score(testy, models[2]))\n",
    "print(\"Accuracy SVMWO %.2f\" % metrics.accuracy_score(testy, models[3]))\n",
    "print(\"Accuracy DUMMY %.2f\" % metrics.accuracy_score(testy, models[4]))"
   ]
  },
  {
   "cell_type": "markdown",
   "metadata": {},
   "source": [
    "### Step 8: Precision"
   ]
  },
  {
   "cell_type": "code",
   "execution_count": 14,
   "metadata": {
    "ExecuteTime": {
     "end_time": "2021-05-07T00:23:34.934477Z",
     "start_time": "2021-05-07T00:23:34.916810Z"
    }
   },
   "outputs": [
    {
     "name": "stdout",
     "output_type": "stream",
     "text": [
      "precision RFM 0.90\n",
      "precision LRM 0.91\n",
      "precision SVMW 0.94\n",
      "precision SVMWO 0.89\n",
      "precision DUMMY 0.63\n"
     ]
    }
   ],
   "source": [
    "print(\"precision RFM %.2f\" %   metrics.precision_score(testy, models[0]))\n",
    "print(\"precision LRM %.2f\" %   metrics.precision_score(testy, models[1]))\n",
    "print(\"precision SVMW %.2f\" %  metrics.precision_score(testy, models[2]))\n",
    "print(\"precision SVMWO %.2f\" % metrics.precision_score(testy, models[3]))\n",
    "print(\"precision DUMMY %.2f\" % metrics.precision_score(testy, models[4]))"
   ]
  },
  {
   "cell_type": "markdown",
   "metadata": {},
   "source": [
    "### Step 8: Recall"
   ]
  },
  {
   "cell_type": "code",
   "execution_count": 15,
   "metadata": {
    "ExecuteTime": {
     "end_time": "2021-05-07T00:21:40.556710Z",
     "start_time": "2021-05-07T00:21:40.541704Z"
    }
   },
   "outputs": [
    {
     "name": "stdout",
     "output_type": "stream",
     "text": [
      "Recall RFM 0.97\n",
      "Recall LRM 0.96\n",
      "Recall SVMW 0.96\n",
      "Recall SVMWO 0.98\n",
      "Recall DUMMY 1.00\n"
     ]
    }
   ],
   "source": [
    "print(\"Recall RFM %.2f\" %   metrics.recall_score(testy, models[0]))\n",
    "print(\"Recall LRM %.2f\" %   metrics.recall_score(testy, models[1]))\n",
    "print(\"Recall SVMW %.2f\" %  metrics.recall_score(testy, models[2]))\n",
    "print(\"Recall SVMWO %.2f\" % metrics.recall_score(testy, models[3]))\n",
    "print(\"Recall DUMMY %.2f\" % metrics.recall_score(testy, models[4]))"
   ]
  },
  {
   "cell_type": "markdown",
   "metadata": {},
   "source": [
    "### Step 9: F-Score"
   ]
  },
  {
   "cell_type": "code",
   "execution_count": 16,
   "metadata": {
    "ExecuteTime": {
     "end_time": "2021-05-07T00:22:22.794987Z",
     "start_time": "2021-05-07T00:22:22.779990Z"
    }
   },
   "outputs": [
    {
     "name": "stdout",
     "output_type": "stream",
     "text": [
      "F1-Score RFM 0.93\n",
      "F1-Score LRM 0.94\n",
      "F1-Score SVMW 0.95\n",
      "F1-Score SVMWO 0.93\n",
      "F1-Score DUMMY 0.77\n"
     ]
    }
   ],
   "source": [
    "print(\"F1-Score RFM %.2f\" %   metrics.f1_score(testy, models[0]))\n",
    "print(\"F1-Score LRM %.2f\" %   metrics.f1_score(testy, models[1]))\n",
    "print(\"F1-Score SVMW %.2f\" %  metrics.f1_score(testy, models[2]))\n",
    "print(\"F1-Score SVMWO %.2f\" % metrics.f1_score(testy, models[3]))\n",
    "print(\"F1-Score DUMMY %.2f\" % metrics.f1_score(testy, models[4]))"
   ]
  },
  {
   "cell_type": "markdown",
   "metadata": {},
   "source": [
    "### Step 10: Compute the AUC Score."
   ]
  },
  {
   "cell_type": "code",
   "execution_count": 17,
   "metadata": {
    "ExecuteTime": {
     "end_time": "2021-05-07T00:24:07.333427Z",
     "start_time": "2021-05-07T00:24:07.317423Z"
    }
   },
   "outputs": [
    {
     "name": "stdout",
     "output_type": "stream",
     "text": [
      "AUC LRM 0.89\n",
      "AUC LRM 0.90\n",
      "AUC SVMW 0.93\n",
      "AUC SVMWO 0.89\n",
      "AUC DUMMY 0.50\n"
     ]
    }
   ],
   "source": [
    "roc_auc = dict()\n",
    "for i in range(len(models)):\n",
    "    roc_auc[i] = roc_auc_score(testy, models[i])\n",
    "\n",
    "print(\"AUC LRM %.2f\"   % roc_auc[0])\n",
    "print(\"AUC LRM %.2f\"   % roc_auc[1])\n",
    "print(\"AUC SVMW %.2f\"  % roc_auc[2])\n",
    "print(\"AUC SVMWO %.2f\" % roc_auc[3])\n",
    "print(\"AUC DUMMY %.2f\" % roc_auc[4])"
   ]
  },
  {
   "cell_type": "markdown",
   "metadata": {},
   "source": [
    "### Step 11: Get the ROC Curve."
   ]
  },
  {
   "cell_type": "code",
   "execution_count": 18,
   "metadata": {
    "ExecuteTime": {
     "end_time": "2021-05-07T00:24:24.393777Z",
     "start_time": "2021-05-07T00:24:24.383763Z"
    }
   },
   "outputs": [],
   "source": [
    "fpr = dict()\n",
    "tpr = dict()\n",
    "\n",
    "for i in range(len(models)):\n",
    "    fpr[i], tpr[i], _ = roc_curve(testy, models[i])"
   ]
  },
  {
   "cell_type": "markdown",
   "metadata": {},
   "source": [
    "### Step 11: Plot ROC Curve using our defined function"
   ]
  },
  {
   "cell_type": "code",
   "execution_count": 19,
   "metadata": {
    "ExecuteTime": {
     "end_time": "2021-05-07T00:24:35.162945Z",
     "start_time": "2021-05-07T00:24:34.916413Z"
    }
   },
   "outputs": [
    {
     "data": {
      "image/png": "[encoded data removed]",
      "text/plain": [
       "<Figure size 432x288 with 1 Axes>"
      ]
     },
     "metadata": {
      "needs_background": "light"
     },
     "output_type": "display_data"
    }
   ],
   "source": [
    "plot_roc_curve(fpr, tpr, roc_auc, modelName)"
   ]
  },
  {
   "cell_type": "markdown",
   "metadata": {},
   "source": [
    "Como podemos observar, as ROC curves dão uma perspectiva diferente de quando medimos simplesmente a acuracia dos classificadores, com ela, tirar dúvidas quanto a classificadores que pareciam bons e que na verdade não são tão bons, ou até desempatar classificadores que pareciam ter a mesma acuracia."
   ]
  },
  {
   "cell_type": "code",
   "execution_count": null,
   "metadata": {},
   "outputs": [],
   "source": []
  }
 ],
 "metadata": {
  "celltoolbar": "Raw Cell Format",
  "hide_input": false,
  "kernelspec": {
   "display_name": "Python 3",
   "language": "python",
   "name": "python3"
  },
  "language_info": {
   "codemirror_mode": {
    "name": "ipython",
    "version": 3
   },
   "file_extension": ".py",
   "mimetype": "text/x-python",
   "name": "python",
   "nbconvert_exporter": "python",
   "pygments_lexer": "ipython3",
   "version": "3.8.10"
  },
  "toc": {
   "base_numbering": 1,
   "nav_menu": {},
   "number_sections": true,
   "sideBar": true,
   "skip_h1_title": false,
   "title_cell": "Table of Contents",
   "title_sidebar": "Contents",
   "toc_cell": false,
   "toc_position": {},
   "toc_section_display": true,
   "toc_window_display": false
  }
 },
 "nbformat": 4,
 "nbformat_minor": 2
}
